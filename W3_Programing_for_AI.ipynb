{
  "nbformat": 4,
  "nbformat_minor": 0,
  "metadata": {
    "colab": {
      "provenance": []
    },
    "kernelspec": {
      "name": "python3",
      "display_name": "Python 3"
    },
    "language_info": {
      "name": "python"
    }
  },
  "cells": [
    {
      "cell_type": "markdown",
      "source": [
        "# Tuần 3"
      ],
      "metadata": {
        "id": "B6W_abHVsjOq"
      }
    },
    {
      "cell_type": "code",
      "execution_count": 1,
      "metadata": {
        "colab": {
          "base_uri": "https://localhost:8080/"
        },
        "id": "wxuNKjzPiq_k",
        "outputId": "6b88d150-c003-45ca-8566-7316823fe1b8"
      },
      "outputs": [
        {
          "output_type": "execute_result",
          "data": {
            "text/plain": [
              "['one', 'two', 'three', 'four']"
            ]
          },
          "metadata": {},
          "execution_count": 1
        }
      ],
      "source": [
        "#Bài 1: Sắp xếp value theo keys\n",
        "def print_sorted_values(D):\n",
        "    sorted_values = [value for (key, value) in sorted(D.items())]\n",
        "    return sorted_values\n",
        "\n",
        "#Test case\n",
        "D = {'1': 'one', '3': 'three', '2': 'two', '4': 'four'}\n",
        "print_sorted_values(D)"
      ]
    },
    {
      "cell_type": "code",
      "source": [
        "# Bài 2: In ra các value khác nhau trong từ điển D.\n",
        "\n",
        "def print_unique_values(D):\n",
        "    unique_values = set(D.values())\n",
        "    for value in unique_values:\n",
        "        print(value)\n",
        "\n",
        "#Test case\n",
        "print_unique_values(D)\n"
      ],
      "metadata": {
        "colab": {
          "base_uri": "https://localhost:8080/"
        },
        "id": "qcKPRO5dk4z4",
        "outputId": "2932b951-3acf-4729-afdc-3f50cc638664"
      },
      "execution_count": 4,
      "outputs": [
        {
          "output_type": "stream",
          "name": "stdout",
          "text": [
            "three\n",
            "four\n",
            "two\n",
            "one\n"
          ]
        }
      ]
    },
    {
      "cell_type": "markdown",
      "source": [
        "# test"
      ],
      "metadata": {
        "id": "vW9plZp-t5hO"
      }
    },
    {
      "cell_type": "code",
      "source": [
        "# abc\n"
      ],
      "metadata": {
        "id": "Ivkm2QtR6GHy"
      },
      "execution_count": 5,
      "outputs": []
    }
  ]
}