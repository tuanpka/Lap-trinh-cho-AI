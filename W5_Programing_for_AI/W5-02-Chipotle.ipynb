{
 "cells": [
  {
   "cell_type": "markdown",
   "metadata": {
    "_cell_guid": "55eae399-c293-4082-bcf4-5c9c7e4a7a51",
    "_uuid": "3cf5db455baa399f696da1563426a6c3c07422d3"
   },
   "source": [
    "# Ex1 - Filtering and Sorting Data\n"
   ]
  },
  {
   "cell_type": "markdown",
   "metadata": {
    "_cell_guid": "42e8e0ff-470c-4e37-b8a1-da0abb669fa6",
    "_uuid": "4bd416d2a8747c2e8980f2c348c39f74df12fccd"
   },
   "source": [
    "This time we are going to pull data directly from the internet.\n",
    "Special thanks to: https://github.com/justmarkham for sharing the dataset and materials.\n",
    "\n",
    "### Step 1. Import the necessary libraries"
   ]
  },
  {
   "cell_type": "code",
   "execution_count": 67,
   "metadata": {
    "_cell_guid": "9c6d82c2-59b6-4ac7-abe9-d08062b5af2e",
    "_uuid": "185e3c80608e670acd1380db52905d97e03adce4",
    "collapsed": true
   },
   "outputs": [],
   "source": [
    "import pandas as pd"
   ]
  },
  {
   "cell_type": "markdown",
   "metadata": {
    "_cell_guid": "bec137f6-c8e2-47a0-a191-a5ea69776f6a",
    "_uuid": "c22bd41c69807266ea870684a6f48ce3365c1daa"
   },
   "source": [
    "### Step 2. Import the dataset from this [address](https://raw.githubusercontent.com/justmarkham/DAT8/master/data/u.user)."
   ]
  },
  {
   "cell_type": "code",
   "execution_count": 79,
   "outputs": [],
   "source": [
    "url = \"https://raw.githubusercontent.com/thieu1995/csv-files/main/data/pandas/chipotle.tsv\""
   ],
   "metadata": {
    "collapsed": false
   }
  },
  {
   "cell_type": "markdown",
   "metadata": {
    "_cell_guid": "34506254-e978-470f-b0de-3e2474cfece4",
    "_uuid": "8398d09b06b37c0db190f83fa17c81d3770fe7dd"
   },
   "source": [
    "### Step 3. Assign it to a variable called chipo.\n"
   ]
  },
  {
   "cell_type": "code",
   "execution_count": 80,
   "metadata": {
    "_cell_guid": "cde3861d-328b-4047-9b91-3462c43a6bb5",
    "_uuid": "15f680530949641d38506483f09c987109eb44ae",
    "collapsed": true
   },
   "outputs": [],
   "source": [
    "chipo = pd.read_csv(url, sep = '\\t')"
   ]
  },
  {
   "cell_type": "markdown",
   "metadata": {
    "_cell_guid": "23f50dd3-0d74-40a4-808b-28a4188bdee2",
    "_uuid": "ec9c371b98b993494393e8dcd08509f9d23df63d"
   },
   "source": [
    "### Step 4. How many products cost more than $10.00?\n"
   ]
  },
  {
   "cell_type": "code",
   "execution_count": 88,
   "metadata": {
    "_cell_guid": "c972001c-de16-458a-b09c-7b26e9348940",
    "_uuid": "8ab5bf8ea8f0b683a460af731da39e3d07ae5ed3",
    "scrolled": true
   },
   "outputs": [
    {
     "name": "stdout",
     "output_type": "stream",
     "text": [
      "Số lượng món ăn có giá trên $10 mỗi món là: 25\n"
     ]
    }
   ],
   "source": [
    "# Kiểm tra kiểu dữ liệu của cột 'item_price' và chuyển đổi nếu cần\n",
    "if chipo['item_price'].dtype == object:\n",
    "    chipo['item_price'] = chipo['item_price'].str.replace('$', '').astype(float)\n",
    "\n",
    "# Tạo cột mới 'price_per_item'\n",
    "chipo['price_per_item'] = chipo['item_price'] / chipo['quantity']\n",
    "\n",
    "# Xóa bản ghi trùng lặp\n",
    "chipo_filtered = chipo.drop_duplicates(['item_name', 'quantity', 'choice_description'])\n",
    "\n",
    "# Chọn các sản phẩm có số lượng bằng 1\n",
    "chipo_one_prod = chipo_filtered[chipo_filtered['quantity'] == 1]\n",
    "\n",
    "# Đếm số lượng sản phẩm có giá trên $10 mỗi món\n",
    "number_of_unique_items = chipo_one_prod[chipo_one_prod['price_per_item'] > 10].item_name.nunique()\n",
    "print(\"Số lượng món ăn có giá trên $10 mỗi món là:\", number_of_unique_items)"
   ]
  },
  {
   "cell_type": "markdown",
   "metadata": {
    "_cell_guid": "eb9e434f-c91a-45a5-9d7d-6907a89baede",
    "_uuid": "80cf2464addac744da99081552d76d6446d65561"
   },
   "source": [
    "### Step 5. What is the price of each item?"
   ]
  },
  {
   "cell_type": "code",
   "execution_count": 95,
   "metadata": {
    "_cell_guid": "9a801bf9-8eea-4b94-b916-9b2df8ce599d",
    "_uuid": "df18b82feaec7e729e6de2a93c09811dd6018400",
    "scrolled": true
   },
   "outputs": [
    {
     "data": {
      "text/plain": "      order_id  quantity     item_name  \\\n5            3         1  Chicken Bowl   \n13           7         1  Chicken Bowl   \n19          10         1  Chicken Bowl   \n26          13         1  Chicken Bowl   \n42          20         1  Chicken Bowl   \n...        ...       ...           ...   \n4590      1825         1  Chicken Bowl   \n4591      1825         1  Chicken Bowl   \n4595      1826         1  Chicken Bowl   \n4599      1827         1  Chicken Bowl   \n4604      1828         1  Chicken Bowl   \n\n                                     choice_description  item_price  \\\n5     [Fresh Tomato Salsa (Mild), [Rice, Cheese, Sou...       10.98   \n13    [Fresh Tomato Salsa, [Fajita Vegetables, Rice,...       11.25   \n19    [Tomatillo Red Chili Salsa, [Fajita Vegetables...        8.75   \n26    [Roasted Chili Corn Salsa (Medium), [Pinto Bea...        8.49   \n42    [Roasted Chili Corn Salsa, [Rice, Black Beans,...       11.25   \n...                                                 ...         ...   \n4590  [Roasted Chili Corn Salsa, [Rice, Black Beans,...       11.25   \n4591  [Tomatillo Red Chili Salsa, [Rice, Black Beans...        8.75   \n4595  [Tomatillo Green Chili Salsa, [Rice, Black Bea...        8.75   \n4599      [Roasted Chili Corn Salsa, [Cheese, Lettuce]]        8.75   \n4604  [Fresh Tomato Salsa, [Rice, Black Beans, Chees...        8.75   \n\n      price_per_item  \n5              10.98  \n13             11.25  \n19              8.75  \n26              8.49  \n42             11.25  \n...              ...  \n4590           11.25  \n4591            8.75  \n4595            8.75  \n4599            8.75  \n4604            8.75  \n\n[693 rows x 6 columns]",
      "text/html": "<div>\n<style scoped>\n    .dataframe tbody tr th:only-of-type {\n        vertical-align: middle;\n    }\n\n    .dataframe tbody tr th {\n        vertical-align: top;\n    }\n\n    .dataframe thead th {\n        text-align: right;\n    }\n</style>\n<table border=\"1\" class=\"dataframe\">\n  <thead>\n    <tr style=\"text-align: right;\">\n      <th></th>\n      <th>order_id</th>\n      <th>quantity</th>\n      <th>item_name</th>\n      <th>choice_description</th>\n      <th>item_price</th>\n      <th>price_per_item</th>\n    </tr>\n  </thead>\n  <tbody>\n    <tr>\n      <th>5</th>\n      <td>3</td>\n      <td>1</td>\n      <td>Chicken Bowl</td>\n      <td>[Fresh Tomato Salsa (Mild), [Rice, Cheese, Sou...</td>\n      <td>10.98</td>\n      <td>10.98</td>\n    </tr>\n    <tr>\n      <th>13</th>\n      <td>7</td>\n      <td>1</td>\n      <td>Chicken Bowl</td>\n      <td>[Fresh Tomato Salsa, [Fajita Vegetables, Rice,...</td>\n      <td>11.25</td>\n      <td>11.25</td>\n    </tr>\n    <tr>\n      <th>19</th>\n      <td>10</td>\n      <td>1</td>\n      <td>Chicken Bowl</td>\n      <td>[Tomatillo Red Chili Salsa, [Fajita Vegetables...</td>\n      <td>8.75</td>\n      <td>8.75</td>\n    </tr>\n    <tr>\n      <th>26</th>\n      <td>13</td>\n      <td>1</td>\n      <td>Chicken Bowl</td>\n      <td>[Roasted Chili Corn Salsa (Medium), [Pinto Bea...</td>\n      <td>8.49</td>\n      <td>8.49</td>\n    </tr>\n    <tr>\n      <th>42</th>\n      <td>20</td>\n      <td>1</td>\n      <td>Chicken Bowl</td>\n      <td>[Roasted Chili Corn Salsa, [Rice, Black Beans,...</td>\n      <td>11.25</td>\n      <td>11.25</td>\n    </tr>\n    <tr>\n      <th>...</th>\n      <td>...</td>\n      <td>...</td>\n      <td>...</td>\n      <td>...</td>\n      <td>...</td>\n      <td>...</td>\n    </tr>\n    <tr>\n      <th>4590</th>\n      <td>1825</td>\n      <td>1</td>\n      <td>Chicken Bowl</td>\n      <td>[Roasted Chili Corn Salsa, [Rice, Black Beans,...</td>\n      <td>11.25</td>\n      <td>11.25</td>\n    </tr>\n    <tr>\n      <th>4591</th>\n      <td>1825</td>\n      <td>1</td>\n      <td>Chicken Bowl</td>\n      <td>[Tomatillo Red Chili Salsa, [Rice, Black Beans...</td>\n      <td>8.75</td>\n      <td>8.75</td>\n    </tr>\n    <tr>\n      <th>4595</th>\n      <td>1826</td>\n      <td>1</td>\n      <td>Chicken Bowl</td>\n      <td>[Tomatillo Green Chili Salsa, [Rice, Black Bea...</td>\n      <td>8.75</td>\n      <td>8.75</td>\n    </tr>\n    <tr>\n      <th>4599</th>\n      <td>1827</td>\n      <td>1</td>\n      <td>Chicken Bowl</td>\n      <td>[Roasted Chili Corn Salsa, [Cheese, Lettuce]]</td>\n      <td>8.75</td>\n      <td>8.75</td>\n    </tr>\n    <tr>\n      <th>4604</th>\n      <td>1828</td>\n      <td>1</td>\n      <td>Chicken Bowl</td>\n      <td>[Fresh Tomato Salsa, [Rice, Black Beans, Chees...</td>\n      <td>8.75</td>\n      <td>8.75</td>\n    </tr>\n  </tbody>\n</table>\n<p>693 rows × 6 columns</p>\n</div>"
     },
     "execution_count": 95,
     "metadata": {},
     "output_type": "execute_result"
    }
   ],
   "source": [
    "# delete the duplicates in item_name and quantity\n",
    "# chipo_filtered = chipo.drop_duplicates(['item_name','quantity'])\n",
    "chipo[(chipo['item_name'] == 'Chicken Bowl') & (chipo['quantity'] == 1)]\n",
    "\n",
    "# select only the products with quantity equals to 1\n",
    "# chipo_one_prod = chipo_filtered[chipo_filtered.quantity == 1]\n",
    "\n",
    "# select only the item_name and item_price columns\n",
    "# price_per_item = chipo_one_prod[['item_name', 'item_price']]\n",
    "\n",
    "# sort the values from the most to less expensive\n",
    "# price_per_item.sort_values(by = \"item_price\", ascending = False).head(20)"
   ]
  },
  {
   "cell_type": "markdown",
   "metadata": {
    "_cell_guid": "f4826b9a-8207-417f-93fd-2ad21d9822af",
    "_uuid": "7a1749ac7ccd6a1c1b16d7bd869c1d88f556be14"
   },
   "source": [
    "### Step 6. Sort by the name of the item"
   ]
  },
  {
   "cell_type": "code",
   "execution_count": 96,
   "metadata": {
    "_cell_guid": "0ee16527-291b-42b2-8411-63597cc70898",
    "_uuid": "ca83ac208c0e979c36a3a56127f4e55785c21e2b"
   },
   "outputs": [
    {
     "data": {
      "text/plain": "      order_id  quantity          item_name  \\\n3389      1360         2  6 Pack Soft Drink   \n341        148         1  6 Pack Soft Drink   \n1849       749         1  6 Pack Soft Drink   \n1860       754         1  6 Pack Soft Drink   \n2713      1076         1  6 Pack Soft Drink   \n...        ...       ...                ...   \n2384       948         1  Veggie Soft Tacos   \n781        322         1  Veggie Soft Tacos   \n2851      1132         1  Veggie Soft Tacos   \n1699       688         1  Veggie Soft Tacos   \n1395       567         1  Veggie Soft Tacos   \n\n                                     choice_description  item_price  \\\n3389                                        [Diet Coke]       12.98   \n341                                         [Diet Coke]        6.49   \n1849                                             [Coke]        6.49   \n1860                                        [Diet Coke]        6.49   \n2713                                             [Coke]        6.49   \n...                                                 ...         ...   \n2384  [Roasted Chili Corn Salsa, [Fajita Vegetables,...        8.75   \n781   [Fresh Tomato Salsa, [Black Beans, Cheese, Sou...        8.75   \n2851  [Roasted Chili Corn Salsa (Medium), [Black Bea...        8.49   \n1699  [Fresh Tomato Salsa, [Fajita Vegetables, Rice,...       11.25   \n1395  [Fresh Tomato Salsa (Mild), [Pinto Beans, Rice...        8.49   \n\n      price_per_item  \n3389            6.49  \n341             6.49  \n1849            6.49  \n1860            6.49  \n2713            6.49  \n...              ...  \n2384            8.75  \n781             8.75  \n2851            8.49  \n1699           11.25  \n1395            8.49  \n\n[4622 rows x 6 columns]",
      "text/html": "<div>\n<style scoped>\n    .dataframe tbody tr th:only-of-type {\n        vertical-align: middle;\n    }\n\n    .dataframe tbody tr th {\n        vertical-align: top;\n    }\n\n    .dataframe thead th {\n        text-align: right;\n    }\n</style>\n<table border=\"1\" class=\"dataframe\">\n  <thead>\n    <tr style=\"text-align: right;\">\n      <th></th>\n      <th>order_id</th>\n      <th>quantity</th>\n      <th>item_name</th>\n      <th>choice_description</th>\n      <th>item_price</th>\n      <th>price_per_item</th>\n    </tr>\n  </thead>\n  <tbody>\n    <tr>\n      <th>3389</th>\n      <td>1360</td>\n      <td>2</td>\n      <td>6 Pack Soft Drink</td>\n      <td>[Diet Coke]</td>\n      <td>12.98</td>\n      <td>6.49</td>\n    </tr>\n    <tr>\n      <th>341</th>\n      <td>148</td>\n      <td>1</td>\n      <td>6 Pack Soft Drink</td>\n      <td>[Diet Coke]</td>\n      <td>6.49</td>\n      <td>6.49</td>\n    </tr>\n    <tr>\n      <th>1849</th>\n      <td>749</td>\n      <td>1</td>\n      <td>6 Pack Soft Drink</td>\n      <td>[Coke]</td>\n      <td>6.49</td>\n      <td>6.49</td>\n    </tr>\n    <tr>\n      <th>1860</th>\n      <td>754</td>\n      <td>1</td>\n      <td>6 Pack Soft Drink</td>\n      <td>[Diet Coke]</td>\n      <td>6.49</td>\n      <td>6.49</td>\n    </tr>\n    <tr>\n      <th>2713</th>\n      <td>1076</td>\n      <td>1</td>\n      <td>6 Pack Soft Drink</td>\n      <td>[Coke]</td>\n      <td>6.49</td>\n      <td>6.49</td>\n    </tr>\n    <tr>\n      <th>...</th>\n      <td>...</td>\n      <td>...</td>\n      <td>...</td>\n      <td>...</td>\n      <td>...</td>\n      <td>...</td>\n    </tr>\n    <tr>\n      <th>2384</th>\n      <td>948</td>\n      <td>1</td>\n      <td>Veggie Soft Tacos</td>\n      <td>[Roasted Chili Corn Salsa, [Fajita Vegetables,...</td>\n      <td>8.75</td>\n      <td>8.75</td>\n    </tr>\n    <tr>\n      <th>781</th>\n      <td>322</td>\n      <td>1</td>\n      <td>Veggie Soft Tacos</td>\n      <td>[Fresh Tomato Salsa, [Black Beans, Cheese, Sou...</td>\n      <td>8.75</td>\n      <td>8.75</td>\n    </tr>\n    <tr>\n      <th>2851</th>\n      <td>1132</td>\n      <td>1</td>\n      <td>Veggie Soft Tacos</td>\n      <td>[Roasted Chili Corn Salsa (Medium), [Black Bea...</td>\n      <td>8.49</td>\n      <td>8.49</td>\n    </tr>\n    <tr>\n      <th>1699</th>\n      <td>688</td>\n      <td>1</td>\n      <td>Veggie Soft Tacos</td>\n      <td>[Fresh Tomato Salsa, [Fajita Vegetables, Rice,...</td>\n      <td>11.25</td>\n      <td>11.25</td>\n    </tr>\n    <tr>\n      <th>1395</th>\n      <td>567</td>\n      <td>1</td>\n      <td>Veggie Soft Tacos</td>\n      <td>[Fresh Tomato Salsa (Mild), [Pinto Beans, Rice...</td>\n      <td>8.49</td>\n      <td>8.49</td>\n    </tr>\n  </tbody>\n</table>\n<p>4622 rows × 6 columns</p>\n</div>"
     },
     "execution_count": 96,
     "metadata": {},
     "output_type": "execute_result"
    }
   ],
   "source": [
    "chipo.item_name.sort_values()\n",
    "\n",
    "# OR\n",
    "\n",
    "chipo.sort_values(by = \"item_name\")"
   ]
  },
  {
   "cell_type": "markdown",
   "metadata": {
    "_cell_guid": "8806e61d-5494-4c05-b82d-d8c99bf90e45",
    "_uuid": "27a77dc9eb87aae61ec3724c813a07dfe6c1e3e5"
   },
   "source": [
    "### Step 7. What was the quantity of the most expensive item ordered?"
   ]
  },
  {
   "cell_type": "code",
   "execution_count": 97,
   "metadata": {
    "_cell_guid": "083b70f4-bfdd-440c-83af-54d3f54dd382",
    "_uuid": "2924dce5c5fd80ee0c3d1038e231f2599bd9a358"
   },
   "outputs": [
    {
     "data": {
      "text/plain": "      order_id  quantity                     item_name choice_description  \\\n3598      1443        15  Chips and Fresh Tomato Salsa                NaN   \n\n      item_price  price_per_item  \n3598       44.25            2.95  ",
      "text/html": "<div>\n<style scoped>\n    .dataframe tbody tr th:only-of-type {\n        vertical-align: middle;\n    }\n\n    .dataframe tbody tr th {\n        vertical-align: top;\n    }\n\n    .dataframe thead th {\n        text-align: right;\n    }\n</style>\n<table border=\"1\" class=\"dataframe\">\n  <thead>\n    <tr style=\"text-align: right;\">\n      <th></th>\n      <th>order_id</th>\n      <th>quantity</th>\n      <th>item_name</th>\n      <th>choice_description</th>\n      <th>item_price</th>\n      <th>price_per_item</th>\n    </tr>\n  </thead>\n  <tbody>\n    <tr>\n      <th>3598</th>\n      <td>1443</td>\n      <td>15</td>\n      <td>Chips and Fresh Tomato Salsa</td>\n      <td>NaN</td>\n      <td>44.25</td>\n      <td>2.95</td>\n    </tr>\n  </tbody>\n</table>\n</div>"
     },
     "execution_count": 97,
     "metadata": {},
     "output_type": "execute_result"
    }
   ],
   "source": [
    "chipo.sort_values(by = \"item_price\", ascending = False).head(1)"
   ]
  },
  {
   "cell_type": "markdown",
   "metadata": {
    "_cell_guid": "554df72e-6fc8-40ca-b0fd-09a0cbe4a82b",
    "_uuid": "ab6984dbe54181c00b8c0b3786d7ebece8342e1d"
   },
   "source": [
    "### Step 8. How many times was a Veggie Salad Bowl ordered?"
   ]
  },
  {
   "cell_type": "code",
   "execution_count": 98,
   "metadata": {
    "_cell_guid": "7bd9d1f0-edfb-4e60-b7b2-fcdf130e5deb",
    "_uuid": "a78cfb638018ba5e09d5ab076ad2d941d919c3bf"
   },
   "outputs": [
    {
     "data": {
      "text/plain": "18"
     },
     "execution_count": 98,
     "metadata": {},
     "output_type": "execute_result"
    }
   ],
   "source": [
    "chipo_salad = chipo[chipo.item_name == \"Veggie Salad Bowl\"]\n",
    "\n",
    "len(chipo_salad)"
   ]
  },
  {
   "cell_type": "markdown",
   "metadata": {
    "_cell_guid": "660c88e1-a638-41f6-8ef0-dfe48469ca28",
    "_uuid": "bc0c3dc577c69e8444fed592c453c8d05d0bce1b"
   },
   "source": [
    "### Step 9. How many times did someone order more than one Canned Soda?"
   ]
  },
  {
   "cell_type": "code",
   "execution_count": 99,
   "metadata": {
    "_cell_guid": "fabb8a03-f3ad-46a3-b6be-9bff0e850216",
    "_uuid": "b89486684ef21fa3180256c873e07c056c58a83d"
   },
   "outputs": [
    {
     "data": {
      "text/plain": "20"
     },
     "execution_count": 99,
     "metadata": {},
     "output_type": "execute_result"
    }
   ],
   "source": [
    "chipo_drink_steak_bowl = chipo[(chipo.item_name == \"Canned Soda\") & (chipo.quantity > 1)]\n",
    "len(chipo_drink_steak_bowl)"
   ]
  }
 ],
 "metadata": {
  "kernelspec": {
   "display_name": "Python 3",
   "language": "python",
   "name": "python3"
  },
  "language_info": {
   "codemirror_mode": {
    "name": "ipython",
    "version": 3
   },
   "file_extension": ".py",
   "mimetype": "text/x-python",
   "name": "python",
   "nbconvert_exporter": "python",
   "pygments_lexer": "ipython3",
   "version": "3.6.3"
  }
 },
 "nbformat": 4,
 "nbformat_minor": 1
}
