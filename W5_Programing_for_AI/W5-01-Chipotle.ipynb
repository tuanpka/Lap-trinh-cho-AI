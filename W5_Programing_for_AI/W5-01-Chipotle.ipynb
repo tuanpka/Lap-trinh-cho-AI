{
 "cells": [
  {
   "cell_type": "markdown",
   "source": [
    "# Ex2 - Getting and Knowing your Data"
   ],
   "metadata": {
    "collapsed": false
   }
  },
  {
   "cell_type": "markdown",
   "id": "opponent-picking",
   "metadata": {
    "id": "NfaHIg7UJLua",
    "papermill": {
     "duration": 0.024843,
     "end_time": "2021-04-26T23:24:51.696635",
     "exception": false,
     "start_time": "2021-04-26T23:24:51.671792",
     "status": "completed"
    },
    "tags": []
   },
   "source": [
    "\n",
    "### Step 1. Import the necessary libraries"
   ]
  },
  {
   "cell_type": "code",
   "execution_count": 1,
   "id": "accessible-wales",
   "metadata": {
    "execution": {
     "iopub.execute_input": "2021-04-26T23:24:51.757572Z",
     "iopub.status.busy": "2021-04-26T23:24:51.756784Z",
     "iopub.status.idle": "2021-04-26T23:24:51.760278Z",
     "shell.execute_reply": "2021-04-26T23:24:51.759501Z"
    },
    "id": "wIBzPvuyJLua",
    "papermill": {
     "duration": 0.038967,
     "end_time": "2021-04-26T23:24:51.760449",
     "exception": false,
     "start_time": "2021-04-26T23:24:51.721482",
     "status": "completed"
    },
    "tags": []
   },
   "outputs": [],
   "source": [
    "import pandas as pd"
   ]
  },
  {
   "cell_type": "markdown",
   "id": "familiar-johns",
   "metadata": {
    "id": "Fx2tQfJRJLub",
    "papermill": {
     "duration": 0.027782,
     "end_time": "2021-04-26T23:24:51.813748",
     "exception": false,
     "start_time": "2021-04-26T23:24:51.785966",
     "status": "completed"
    },
    "tags": []
   },
   "source": [
    "### Step 2. Import the dataset from this [address](https://raw.githubusercontent.com/justmarkham/DAT8/master/data/chipotle.tsv). "
   ]
  },
  {
   "cell_type": "code",
   "execution_count": 2,
   "id": "revised-toner",
   "metadata": {
    "execution": {
     "iopub.execute_input": "2021-04-26T23:24:51.874552Z",
     "iopub.status.busy": "2021-04-26T23:24:51.873839Z",
     "iopub.status.idle": "2021-04-26T23:24:51.877487Z",
     "shell.execute_reply": "2021-04-26T23:24:51.876918Z"
    },
    "id": "g9wWbRC4KQIr",
    "papermill": {
     "duration": 0.038498,
     "end_time": "2021-04-26T23:24:51.877628",
     "exception": false,
     "start_time": "2021-04-26T23:24:51.839130",
     "status": "completed"
    },
    "tags": []
   },
   "outputs": [],
   "source": [
    "url = \"https://raw.githubusercontent.com/justmarkham/DAT8/master/data/chipotle.tsv\""
   ]
  },
  {
   "cell_type": "markdown",
   "id": "obvious-packaging",
   "metadata": {
    "id": "VfO64LHvJLub",
    "papermill": {
     "duration": 0.031471,
     "end_time": "2021-04-26T23:24:51.944436",
     "exception": false,
     "start_time": "2021-04-26T23:24:51.912965",
     "status": "completed"
    },
    "tags": []
   },
   "source": [
    "### Step 3. Assign it to a variable called chipo."
   ]
  },
  {
   "cell_type": "code",
   "execution_count": 3,
   "id": "exclusive-arena",
   "metadata": {
    "execution": {
     "iopub.execute_input": "2021-04-26T23:24:52.013995Z",
     "iopub.status.busy": "2021-04-26T23:24:52.013280Z",
     "iopub.status.idle": "2021-04-26T23:24:52.151018Z",
     "shell.execute_reply": "2021-04-26T23:24:52.150318Z"
    },
    "id": "OiIQp-eKJLub",
    "papermill": {
     "duration": 0.176645,
     "end_time": "2021-04-26T23:24:52.151162",
     "exception": false,
     "start_time": "2021-04-26T23:24:51.974517",
     "status": "completed"
    },
    "tags": []
   },
   "outputs": [],
   "source": [
    "chipo = pd.read_csv(url, sep=\"\\t\")"
   ]
  },
  {
   "cell_type": "markdown",
   "id": "inclusive-converter",
   "metadata": {
    "id": "JA6KMYejJLub",
    "papermill": {
     "duration": 0.024946,
     "end_time": "2021-04-26T23:24:52.201730",
     "exception": false,
     "start_time": "2021-04-26T23:24:52.176784",
     "status": "completed"
    },
    "tags": []
   },
   "source": [
    "### Step 4. See the first 10 entries"
   ]
  },
  {
   "cell_type": "code",
   "execution_count": 4,
   "id": "incredible-hydrogen",
   "metadata": {
    "execution": {
     "iopub.execute_input": "2021-04-26T23:24:52.266196Z",
     "iopub.status.busy": "2021-04-26T23:24:52.264540Z",
     "iopub.status.idle": "2021-04-26T23:24:52.286199Z",
     "shell.execute_reply": "2021-04-26T23:24:52.286694Z"
    },
    "id": "T3Z-OcJ0JLuc",
    "outputId": "e5e88715-db39-4335-8252-dd18a13a338f",
    "papermill": {
     "duration": 0.058791,
     "end_time": "2021-04-26T23:24:52.286876",
     "exception": false,
     "start_time": "2021-04-26T23:24:52.228085",
     "status": "completed"
    },
    "tags": []
   },
   "outputs": [
    {
     "data": {
      "text/plain": "   order_id  quantity                              item_name  \\\n0         1         1           Chips and Fresh Tomato Salsa   \n1         1         1                                   Izze   \n2         1         1                       Nantucket Nectar   \n3         1         1  Chips and Tomatillo-Green Chili Salsa   \n4         2         2                           Chicken Bowl   \n5         3         1                           Chicken Bowl   \n6         3         1                          Side of Chips   \n7         4         1                          Steak Burrito   \n8         4         1                       Steak Soft Tacos   \n9         5         1                          Steak Burrito   \n\n                                  choice_description item_price  \n0                                                NaN     $2.39   \n1                                       [Clementine]     $3.39   \n2                                            [Apple]     $3.39   \n3                                                NaN     $2.39   \n4  [Tomatillo-Red Chili Salsa (Hot), [Black Beans...    $16.98   \n5  [Fresh Tomato Salsa (Mild), [Rice, Cheese, Sou...    $10.98   \n6                                                NaN     $1.69   \n7  [Tomatillo Red Chili Salsa, [Fajita Vegetables...    $11.75   \n8  [Tomatillo Green Chili Salsa, [Pinto Beans, Ch...     $9.25   \n9  [Fresh Tomato Salsa, [Rice, Black Beans, Pinto...     $9.25   ",
      "text/html": "<div>\n<style scoped>\n    .dataframe tbody tr th:only-of-type {\n        vertical-align: middle;\n    }\n\n    .dataframe tbody tr th {\n        vertical-align: top;\n    }\n\n    .dataframe thead th {\n        text-align: right;\n    }\n</style>\n<table border=\"1\" class=\"dataframe\">\n  <thead>\n    <tr style=\"text-align: right;\">\n      <th></th>\n      <th>order_id</th>\n      <th>quantity</th>\n      <th>item_name</th>\n      <th>choice_description</th>\n      <th>item_price</th>\n    </tr>\n  </thead>\n  <tbody>\n    <tr>\n      <th>0</th>\n      <td>1</td>\n      <td>1</td>\n      <td>Chips and Fresh Tomato Salsa</td>\n      <td>NaN</td>\n      <td>$2.39</td>\n    </tr>\n    <tr>\n      <th>1</th>\n      <td>1</td>\n      <td>1</td>\n      <td>Izze</td>\n      <td>[Clementine]</td>\n      <td>$3.39</td>\n    </tr>\n    <tr>\n      <th>2</th>\n      <td>1</td>\n      <td>1</td>\n      <td>Nantucket Nectar</td>\n      <td>[Apple]</td>\n      <td>$3.39</td>\n    </tr>\n    <tr>\n      <th>3</th>\n      <td>1</td>\n      <td>1</td>\n      <td>Chips and Tomatillo-Green Chili Salsa</td>\n      <td>NaN</td>\n      <td>$2.39</td>\n    </tr>\n    <tr>\n      <th>4</th>\n      <td>2</td>\n      <td>2</td>\n      <td>Chicken Bowl</td>\n      <td>[Tomatillo-Red Chili Salsa (Hot), [Black Beans...</td>\n      <td>$16.98</td>\n    </tr>\n    <tr>\n      <th>5</th>\n      <td>3</td>\n      <td>1</td>\n      <td>Chicken Bowl</td>\n      <td>[Fresh Tomato Salsa (Mild), [Rice, Cheese, Sou...</td>\n      <td>$10.98</td>\n    </tr>\n    <tr>\n      <th>6</th>\n      <td>3</td>\n      <td>1</td>\n      <td>Side of Chips</td>\n      <td>NaN</td>\n      <td>$1.69</td>\n    </tr>\n    <tr>\n      <th>7</th>\n      <td>4</td>\n      <td>1</td>\n      <td>Steak Burrito</td>\n      <td>[Tomatillo Red Chili Salsa, [Fajita Vegetables...</td>\n      <td>$11.75</td>\n    </tr>\n    <tr>\n      <th>8</th>\n      <td>4</td>\n      <td>1</td>\n      <td>Steak Soft Tacos</td>\n      <td>[Tomatillo Green Chili Salsa, [Pinto Beans, Ch...</td>\n      <td>$9.25</td>\n    </tr>\n    <tr>\n      <th>9</th>\n      <td>5</td>\n      <td>1</td>\n      <td>Steak Burrito</td>\n      <td>[Fresh Tomato Salsa, [Rice, Black Beans, Pinto...</td>\n      <td>$9.25</td>\n    </tr>\n  </tbody>\n</table>\n</div>"
     },
     "execution_count": 4,
     "metadata": {},
     "output_type": "execute_result"
    }
   ],
   "source": [
    "chipo.head(10)"
   ]
  },
  {
   "cell_type": "markdown",
   "id": "objective-athletics",
   "metadata": {
    "id": "RqnNTeqyJLuc",
    "papermill": {
     "duration": 0.026002,
     "end_time": "2021-04-26T23:24:52.339441",
     "exception": false,
     "start_time": "2021-04-26T23:24:52.313439",
     "status": "completed"
    },
    "tags": []
   },
   "source": [
    "### Step 5. What is the number of observations in the dataset?"
   ]
  },
  {
   "cell_type": "code",
   "execution_count": 5,
   "id": "given-disclosure",
   "metadata": {
    "execution": {
     "iopub.execute_input": "2021-04-26T23:24:52.395662Z",
     "iopub.status.busy": "2021-04-26T23:24:52.394718Z",
     "iopub.status.idle": "2021-04-26T23:24:52.400101Z",
     "shell.execute_reply": "2021-04-26T23:24:52.400638Z"
    },
    "id": "HGtGk5fvJLuc",
    "outputId": "d756d406-1648-4f9c-8fc2-75ede971b206",
    "papermill": {
     "duration": 0.034966,
     "end_time": "2021-04-26T23:24:52.400800",
     "exception": false,
     "start_time": "2021-04-26T23:24:52.365834",
     "status": "completed"
    },
    "tags": []
   },
   "outputs": [
    {
     "data": {
      "text/plain": "(4622, 5)"
     },
     "execution_count": 5,
     "metadata": {},
     "output_type": "execute_result"
    }
   ],
   "source": [
    "# Solution 1\n",
    "\n",
    "chipo.shape"
   ]
  },
  {
   "cell_type": "code",
   "execution_count": 6,
   "id": "diverse-bouquet",
   "metadata": {
    "execution": {
     "iopub.execute_input": "2021-04-26T23:24:52.457772Z",
     "iopub.status.busy": "2021-04-26T23:24:52.456795Z",
     "iopub.status.idle": "2021-04-26T23:24:52.480562Z",
     "shell.execute_reply": "2021-04-26T23:24:52.480005Z"
    },
    "id": "HrWKLsPYJLuc",
    "outputId": "610a7a08-8519-46ed-e516-19d98fddf304",
    "papermill": {
     "duration": 0.053361,
     "end_time": "2021-04-26T23:24:52.480699",
     "exception": false,
     "start_time": "2021-04-26T23:24:52.427338",
     "status": "completed"
    },
    "tags": []
   },
   "outputs": [
    {
     "name": "stdout",
     "output_type": "stream",
     "text": [
      "<class 'pandas.core.frame.DataFrame'>\n",
      "RangeIndex: 4622 entries, 0 to 4621\n",
      "Data columns (total 5 columns):\n",
      " #   Column              Non-Null Count  Dtype \n",
      "---  ------              --------------  ----- \n",
      " 0   order_id            4622 non-null   int64 \n",
      " 1   quantity            4622 non-null   int64 \n",
      " 2   item_name           4622 non-null   object\n",
      " 3   choice_description  3376 non-null   object\n",
      " 4   item_price          4622 non-null   object\n",
      "dtypes: int64(2), object(3)\n",
      "memory usage: 180.7+ KB\n"
     ]
    }
   ],
   "source": [
    "# Solution 2\n",
    "\n",
    "chipo.info()"
   ]
  },
  {
   "cell_type": "markdown",
   "id": "superior-population",
   "metadata": {
    "id": "QJoZXbt4JLuc",
    "papermill": {
     "duration": 0.02683,
     "end_time": "2021-04-26T23:24:52.534892",
     "exception": false,
     "start_time": "2021-04-26T23:24:52.508062",
     "status": "completed"
    },
    "tags": []
   },
   "source": [
    "### Step 6. What is the number of columns in the dataset?"
   ]
  },
  {
   "cell_type": "code",
   "execution_count": 7,
   "id": "expressed-turtle",
   "metadata": {
    "execution": {
     "iopub.execute_input": "2021-04-26T23:24:52.594794Z",
     "iopub.status.busy": "2021-04-26T23:24:52.594150Z",
     "iopub.status.idle": "2021-04-26T23:24:52.597202Z",
     "shell.execute_reply": "2021-04-26T23:24:52.597686Z"
    },
    "id": "oFeNayIsJLuc",
    "outputId": "65c86b75-88e2-40e0-d40c-9042a1242349",
    "papermill": {
     "duration": 0.035955,
     "end_time": "2021-04-26T23:24:52.597878",
     "exception": false,
     "start_time": "2021-04-26T23:24:52.561923",
     "status": "completed"
    },
    "tags": []
   },
   "outputs": [
    {
     "data": {
      "text/plain": "5"
     },
     "execution_count": 7,
     "metadata": {},
     "output_type": "execute_result"
    }
   ],
   "source": [
    "len(chipo.columns)"
   ]
  },
  {
   "cell_type": "markdown",
   "id": "smoking-advice",
   "metadata": {
    "id": "wPAc-nB_JLud",
    "papermill": {
     "duration": 0.027316,
     "end_time": "2021-04-26T23:24:52.654074",
     "exception": false,
     "start_time": "2021-04-26T23:24:52.626758",
     "status": "completed"
    },
    "tags": []
   },
   "source": [
    "### Step 7. Print the name of all the columns."
   ]
  },
  {
   "cell_type": "code",
   "execution_count": 8,
   "id": "about-madagascar",
   "metadata": {
    "execution": {
     "iopub.execute_input": "2021-04-26T23:24:52.712626Z",
     "iopub.status.busy": "2021-04-26T23:24:52.711883Z",
     "iopub.status.idle": "2021-04-26T23:24:52.717061Z",
     "shell.execute_reply": "2021-04-26T23:24:52.717559Z"
    },
    "id": "46A1niVeJLud",
    "outputId": "fd60039b-39df-4bc7-868a-b8c69472858b",
    "papermill": {
     "duration": 0.03593,
     "end_time": "2021-04-26T23:24:52.717723",
     "exception": false,
     "start_time": "2021-04-26T23:24:52.681793",
     "status": "completed"
    },
    "tags": []
   },
   "outputs": [
    {
     "data": {
      "text/plain": "Index(['order_id', 'quantity', 'item_name', 'choice_description',\n       'item_price'],\n      dtype='object')"
     },
     "execution_count": 8,
     "metadata": {},
     "output_type": "execute_result"
    }
   ],
   "source": [
    "chipo.columns"
   ]
  },
  {
   "cell_type": "markdown",
   "id": "minus-tyler",
   "metadata": {
    "id": "DnNCF4DdJLud",
    "papermill": {
     "duration": 0.027811,
     "end_time": "2021-04-26T23:24:52.774143",
     "exception": false,
     "start_time": "2021-04-26T23:24:52.746332",
     "status": "completed"
    },
    "tags": []
   },
   "source": [
    "### Step 8. How is the dataset indexed?"
   ]
  },
  {
   "cell_type": "code",
   "execution_count": 9,
   "id": "amber-account",
   "metadata": {
    "execution": {
     "iopub.execute_input": "2021-04-26T23:24:52.833824Z",
     "iopub.status.busy": "2021-04-26T23:24:52.833117Z",
     "iopub.status.idle": "2021-04-26T23:24:52.839351Z",
     "shell.execute_reply": "2021-04-26T23:24:52.838786Z"
    },
    "id": "raTE9frAJLud",
    "outputId": "3c0941af-5d7d-44bf-9d6f-c6f506c34c15",
    "papermill": {
     "duration": 0.037365,
     "end_time": "2021-04-26T23:24:52.839489",
     "exception": false,
     "start_time": "2021-04-26T23:24:52.802124",
     "status": "completed"
    },
    "tags": []
   },
   "outputs": [
    {
     "data": {
      "text/plain": "RangeIndex(start=0, stop=4622, step=1)"
     },
     "execution_count": 9,
     "metadata": {},
     "output_type": "execute_result"
    }
   ],
   "source": [
    "chipo.index"
   ]
  },
  {
   "cell_type": "markdown",
   "id": "diagnostic-latex",
   "metadata": {
    "id": "Py8eSFkuJLud",
    "papermill": {
     "duration": 0.028494,
     "end_time": "2021-04-26T23:24:52.897168",
     "exception": false,
     "start_time": "2021-04-26T23:24:52.868674",
     "status": "completed"
    },
    "tags": []
   },
   "source": [
    "### Step 9. Which was the most-ordered item? "
   ]
  },
  {
   "cell_type": "code",
   "execution_count": 10,
   "id": "hearing-nursing",
   "metadata": {
    "execution": {
     "iopub.execute_input": "2021-04-26T23:24:52.962358Z",
     "iopub.status.busy": "2021-04-26T23:24:52.961178Z",
     "iopub.status.idle": "2021-04-26T23:24:52.970217Z",
     "shell.execute_reply": "2021-04-26T23:24:52.970715Z"
    },
    "id": "yfPCpEGRJLud",
    "outputId": "9ba228da-d629-40d5-d150-2b18a92a2237",
    "papermill": {
     "duration": 0.045285,
     "end_time": "2021-04-26T23:24:52.970906",
     "exception": false,
     "start_time": "2021-04-26T23:24:52.925621",
     "status": "completed"
    },
    "tags": []
   },
   "outputs": [
    {
     "data": {
      "text/plain": "              count\nitem_name          \nChicken Bowl    726",
      "text/html": "<div>\n<style scoped>\n    .dataframe tbody tr th:only-of-type {\n        vertical-align: middle;\n    }\n\n    .dataframe tbody tr th {\n        vertical-align: top;\n    }\n\n    .dataframe thead th {\n        text-align: right;\n    }\n</style>\n<table border=\"1\" class=\"dataframe\">\n  <thead>\n    <tr style=\"text-align: right;\">\n      <th></th>\n      <th>count</th>\n    </tr>\n    <tr>\n      <th>item_name</th>\n      <th></th>\n    </tr>\n  </thead>\n  <tbody>\n    <tr>\n      <th>Chicken Bowl</th>\n      <td>726</td>\n    </tr>\n  </tbody>\n</table>\n</div>"
     },
     "execution_count": 10,
     "metadata": {},
     "output_type": "execute_result"
    }
   ],
   "source": [
    "chipo.groupby('item_name')['quantity'].agg(['count']).sort_values(by='count', ascending=False).head(1)"
   ]
  },
  {
   "cell_type": "markdown",
   "id": "entitled-davis",
   "metadata": {
    "id": "EnfANHwLJLud",
    "papermill": {
     "duration": 0.028901,
     "end_time": "2021-04-26T23:24:53.028970",
     "exception": false,
     "start_time": "2021-04-26T23:24:53.000069",
     "status": "completed"
    },
    "tags": []
   },
   "source": [
    "### Step 10. For the most-ordered item, how many items were ordered?"
   ]
  },
  {
   "cell_type": "code",
   "execution_count": 11,
   "id": "ethical-italy",
   "metadata": {
    "execution": {
     "iopub.execute_input": "2021-04-26T23:24:53.092755Z",
     "iopub.status.busy": "2021-04-26T23:24:53.092020Z",
     "iopub.status.idle": "2021-04-26T23:24:53.103247Z",
     "shell.execute_reply": "2021-04-26T23:24:53.102559Z"
    },
    "id": "EPGPNRWSJLud",
    "outputId": "de8ca38d-8263-4939-813d-c7424b853f6e",
    "papermill": {
     "duration": 0.045596,
     "end_time": "2021-04-26T23:24:53.103387",
     "exception": false,
     "start_time": "2021-04-26T23:24:53.057791",
     "status": "completed"
    },
    "tags": []
   },
   "outputs": [
    {
     "data": {
      "text/plain": "              count\nitem_name          \nChicken Bowl    726",
      "text/html": "<div>\n<style scoped>\n    .dataframe tbody tr th:only-of-type {\n        vertical-align: middle;\n    }\n\n    .dataframe tbody tr th {\n        vertical-align: top;\n    }\n\n    .dataframe thead th {\n        text-align: right;\n    }\n</style>\n<table border=\"1\" class=\"dataframe\">\n  <thead>\n    <tr style=\"text-align: right;\">\n      <th></th>\n      <th>count</th>\n    </tr>\n    <tr>\n      <th>item_name</th>\n      <th></th>\n    </tr>\n  </thead>\n  <tbody>\n    <tr>\n      <th>Chicken Bowl</th>\n      <td>726</td>\n    </tr>\n  </tbody>\n</table>\n</div>"
     },
     "execution_count": 11,
     "metadata": {},
     "output_type": "execute_result"
    }
   ],
   "source": [
    "chipo.groupby('item_name')['quantity'].agg(['count']).sort_values(by='count', ascending=False).head(1)"
   ]
  },
  {
   "cell_type": "markdown",
   "id": "million-transformation",
   "metadata": {
    "id": "0xSCd3x-JLue",
    "papermill": {
     "duration": 0.030037,
     "end_time": "2021-04-26T23:24:53.163242",
     "exception": false,
     "start_time": "2021-04-26T23:24:53.133205",
     "status": "completed"
    },
    "tags": []
   },
   "source": [
    "### Step 11. What was the most ordered item in the choice_description column?"
   ]
  },
  {
   "cell_type": "code",
   "execution_count": 12,
   "id": "based-turner",
   "metadata": {
    "execution": {
     "iopub.execute_input": "2021-04-26T23:24:53.230303Z",
     "iopub.status.busy": "2021-04-26T23:24:53.229628Z",
     "iopub.status.idle": "2021-04-26T23:24:53.238998Z",
     "shell.execute_reply": "2021-04-26T23:24:53.239529Z"
    },
    "id": "UjvwUYoKJLue",
    "outputId": "0ecc21c3-1f07-4611-91b1-8da19fb630dc",
    "papermill": {
     "duration": 0.046638,
     "end_time": "2021-04-26T23:24:53.239695",
     "exception": false,
     "start_time": "2021-04-26T23:24:53.193057",
     "status": "completed"
    },
    "tags": []
   },
   "outputs": [
    {
     "data": {
      "text/plain": "                    count\nchoice_description       \n[Diet Coke]           134",
      "text/html": "<div>\n<style scoped>\n    .dataframe tbody tr th:only-of-type {\n        vertical-align: middle;\n    }\n\n    .dataframe tbody tr th {\n        vertical-align: top;\n    }\n\n    .dataframe thead th {\n        text-align: right;\n    }\n</style>\n<table border=\"1\" class=\"dataframe\">\n  <thead>\n    <tr style=\"text-align: right;\">\n      <th></th>\n      <th>count</th>\n    </tr>\n    <tr>\n      <th>choice_description</th>\n      <th></th>\n    </tr>\n  </thead>\n  <tbody>\n    <tr>\n      <th>[Diet Coke]</th>\n      <td>134</td>\n    </tr>\n  </tbody>\n</table>\n</div>"
     },
     "execution_count": 12,
     "metadata": {},
     "output_type": "execute_result"
    }
   ],
   "source": [
    "chipo.groupby('choice_description')['quantity'].agg(['count']).sort_values(by='count', ascending=False).head(1)"
   ]
  },
  {
   "cell_type": "markdown",
   "id": "brutal-membrane",
   "metadata": {
    "id": "lg18y7Q2JLue",
    "papermill": {
     "duration": 0.029809,
     "end_time": "2021-04-26T23:24:53.299799",
     "exception": false,
     "start_time": "2021-04-26T23:24:53.269990",
     "status": "completed"
    },
    "tags": []
   },
   "source": [
    "### Step 12. How many items were orderd in total?"
   ]
  },
  {
   "cell_type": "code",
   "execution_count": 13,
   "id": "governing-substance",
   "metadata": {
    "execution": {
     "iopub.execute_input": "2021-04-26T23:24:53.363224Z",
     "iopub.status.busy": "2021-04-26T23:24:53.362602Z",
     "iopub.status.idle": "2021-04-26T23:24:53.368074Z",
     "shell.execute_reply": "2021-04-26T23:24:53.368590Z"
    },
    "id": "nqaZs0XKJLue",
    "outputId": "16a89837-e80d-4c2a-8f30-30c501b8f973",
    "papermill": {
     "duration": 0.038705,
     "end_time": "2021-04-26T23:24:53.368753",
     "exception": false,
     "start_time": "2021-04-26T23:24:53.330048",
     "status": "completed"
    },
    "tags": []
   },
   "outputs": [
    {
     "data": {
      "text/plain": "4972"
     },
     "execution_count": 13,
     "metadata": {},
     "output_type": "execute_result"
    }
   ],
   "source": [
    "chipo['quantity'].sum()"
   ]
  },
  {
   "cell_type": "markdown",
   "id": "english-physics",
   "metadata": {
    "id": "CdPmrn4pJLue",
    "papermill": {
     "duration": 0.030479,
     "end_time": "2021-04-26T23:24:53.430158",
     "exception": false,
     "start_time": "2021-04-26T23:24:53.399679",
     "status": "completed"
    },
    "tags": []
   },
   "source": [
    "### Step 13. Turn the item price into a float"
   ]
  },
  {
   "cell_type": "markdown",
   "id": "numerous-constant",
   "metadata": {
    "id": "q5IG-6AXJLue",
    "papermill": {
     "duration": 0.030815,
     "end_time": "2021-04-26T23:24:53.491938",
     "exception": false,
     "start_time": "2021-04-26T23:24:53.461123",
     "status": "completed"
    },
    "tags": []
   },
   "source": [
    "#### Step 13.a. Check the item price type"
   ]
  },
  {
   "cell_type": "code",
   "execution_count": 14,
   "id": "addressed-galaxy",
   "metadata": {
    "execution": {
     "iopub.execute_input": "2021-04-26T23:24:53.558509Z",
     "iopub.status.busy": "2021-04-26T23:24:53.557690Z",
     "iopub.status.idle": "2021-04-26T23:24:53.561236Z",
     "shell.execute_reply": "2021-04-26T23:24:53.561851Z"
    },
    "id": "yHEFyprdJLue",
    "outputId": "a8b694c0-bdbe-4b8b-d300-6e1a9062667a",
    "papermill": {
     "duration": 0.039645,
     "end_time": "2021-04-26T23:24:53.562025",
     "exception": false,
     "start_time": "2021-04-26T23:24:53.522380",
     "status": "completed"
    },
    "tags": []
   },
   "outputs": [
    {
     "data": {
      "text/plain": "dtype('O')"
     },
     "execution_count": 14,
     "metadata": {},
     "output_type": "execute_result"
    }
   ],
   "source": [
    "chipo['item_price'].dtype"
   ]
  },
  {
   "cell_type": "markdown",
   "id": "correct-recording",
   "metadata": {
    "id": "Exk8S2nsJLue",
    "papermill": {
     "duration": 0.031068,
     "end_time": "2021-04-26T23:24:53.624303",
     "exception": false,
     "start_time": "2021-04-26T23:24:53.593235",
     "status": "completed"
    },
    "tags": []
   },
   "source": [
    "#### Step 13.b. Create a lambda function and change the type of item price"
   ]
  },
  {
   "cell_type": "code",
   "execution_count": 15,
   "id": "junior-brook",
   "metadata": {
    "execution": {
     "iopub.execute_input": "2021-04-26T23:24:53.696797Z",
     "iopub.status.busy": "2021-04-26T23:24:53.696121Z",
     "iopub.status.idle": "2021-04-26T23:24:53.699011Z",
     "shell.execute_reply": "2021-04-26T23:24:53.699502Z"
    },
    "id": "TGRRdKE4JLuf",
    "outputId": "842d29ca-bbbe-4d2b-e8eb-974999530960",
    "papermill": {
     "duration": 0.044177,
     "end_time": "2021-04-26T23:24:53.699664",
     "exception": false,
     "start_time": "2021-04-26T23:24:53.655487",
     "status": "completed"
    },
    "tags": []
   },
   "outputs": [
    {
     "name": "stdout",
     "output_type": "stream",
     "text": [
      "<function <lambda> at 0x000001DC314E5820>\n"
     ]
    }
   ],
   "source": [
    "price_type = lambda x: float(x[1:-1])\n",
    "print(price_type)\n",
    "chipo.item_price = chipo.item_price.apply(price_type)"
   ]
  },
  {
   "cell_type": "markdown",
   "id": "painful-laptop",
   "metadata": {
    "id": "0cNm5llpJLuf",
    "papermill": {
     "duration": 0.031095,
     "end_time": "2021-04-26T23:24:53.762770",
     "exception": false,
     "start_time": "2021-04-26T23:24:53.731675",
     "status": "completed"
    },
    "tags": []
   },
   "source": [
    "#### Step 13.c. Check the item price type"
   ]
  },
  {
   "cell_type": "code",
   "execution_count": 16,
   "id": "plastic-depth",
   "metadata": {
    "execution": {
     "iopub.execute_input": "2021-04-26T23:24:53.832024Z",
     "iopub.status.busy": "2021-04-26T23:24:53.831014Z",
     "iopub.status.idle": "2021-04-26T23:24:53.835422Z",
     "shell.execute_reply": "2021-04-26T23:24:53.834821Z"
    },
    "id": "X7f1vSZvJLuf",
    "outputId": "419b1628-65a0-4261-91ea-b58a126754dd",
    "papermill": {
     "duration": 0.040654,
     "end_time": "2021-04-26T23:24:53.835573",
     "exception": false,
     "start_time": "2021-04-26T23:24:53.794919",
     "status": "completed"
    },
    "tags": []
   },
   "outputs": [
    {
     "data": {
      "text/plain": "dtype('float64')"
     },
     "execution_count": 16,
     "metadata": {},
     "output_type": "execute_result"
    }
   ],
   "source": [
    "chipo['item_price'].dtype"
   ]
  },
  {
   "cell_type": "markdown",
   "id": "invisible-bidder",
   "metadata": {
    "id": "hB5u6oVwJLuf",
    "papermill": {
     "duration": 0.031956,
     "end_time": "2021-04-26T23:24:53.899871",
     "exception": false,
     "start_time": "2021-04-26T23:24:53.867915",
     "status": "completed"
    },
    "tags": []
   },
   "source": [
    "### Step 14. How much was the revenue for the period in the dataset?"
   ]
  },
  {
   "cell_type": "markdown",
   "id": "mental-catering",
   "metadata": {
    "id": "8DNZo5NicgNL",
    "papermill": {
     "duration": 0.031691,
     "end_time": "2021-04-26T23:24:53.963583",
     "exception": false,
     "start_time": "2021-04-26T23:24:53.931892",
     "status": "completed"
    },
    "tags": []
   },
   "source": [
    "A simple way to solve revenue is by multiplying the number of sales and the sales price."
   ]
  },
  {
   "cell_type": "code",
   "execution_count": 17,
   "id": "precious-celebrity",
   "metadata": {
    "execution": {
     "iopub.execute_input": "2021-04-26T23:24:54.031162Z",
     "iopub.status.busy": "2021-04-26T23:24:54.030426Z",
     "iopub.status.idle": "2021-04-26T23:24:54.053057Z",
     "shell.execute_reply": "2021-04-26T23:24:54.053639Z"
    },
    "id": "OVNl_dRPJLuf",
    "outputId": "c7a402ce-ebce-45d1-be8a-ea74f973a14f",
    "papermill": {
     "duration": 0.057948,
     "end_time": "2021-04-26T23:24:54.053823",
     "exception": false,
     "start_time": "2021-04-26T23:24:53.995875",
     "status": "completed"
    },
    "tags": []
   },
   "outputs": [
    {
     "name": "stdout",
     "output_type": "stream",
     "text": [
      "39237.02\n"
     ]
    }
   ],
   "source": [
    "revenue = (chipo['quantity']* chipo['item_price']).sum()\n",
    "print(revenue)"
   ]
  },
  {
   "cell_type": "markdown",
   "id": "through-subcommittee",
   "metadata": {
    "id": "ICiRkim2JLuf",
    "papermill": {
     "duration": 0.032649,
     "end_time": "2021-04-26T23:24:54.118992",
     "exception": false,
     "start_time": "2021-04-26T23:24:54.086343",
     "status": "completed"
    },
    "tags": []
   },
   "source": [
    "### Step 15. How many orders were made in the period?"
   ]
  },
  {
   "cell_type": "code",
   "execution_count": 18,
   "id": "advanced-woman",
   "metadata": {
    "execution": {
     "iopub.execute_input": "2021-04-26T23:24:54.189614Z",
     "iopub.status.busy": "2021-04-26T23:24:54.188970Z",
     "iopub.status.idle": "2021-04-26T23:24:54.194800Z",
     "shell.execute_reply": "2021-04-26T23:24:54.195281Z"
    },
    "id": "HLxCnQTGJLuf",
    "outputId": "654032c7-4950-4d98-f04a-2f9834cbb829",
    "papermill": {
     "duration": 0.044077,
     "end_time": "2021-04-26T23:24:54.195447",
     "exception": false,
     "start_time": "2021-04-26T23:24:54.151370",
     "status": "completed"
    },
    "tags": []
   },
   "outputs": [
    {
     "data": {
      "text/plain": "1834"
     },
     "execution_count": 18,
     "metadata": {},
     "output_type": "execute_result"
    }
   ],
   "source": [
    "chipo['order_id'].value_counts().count()"
   ]
  },
  {
   "cell_type": "markdown",
   "id": "defined-slide",
   "metadata": {
    "id": "yaoDhyknJLuf",
    "papermill": {
     "duration": 0.033226,
     "end_time": "2021-04-26T23:24:54.262907",
     "exception": false,
     "start_time": "2021-04-26T23:24:54.229681",
     "status": "completed"
    },
    "tags": []
   },
   "source": [
    "### Step 16. What is the average revenue amount per order?"
   ]
  },
  {
   "cell_type": "code",
   "execution_count": 19,
   "id": "dominant-boston",
   "metadata": {
    "execution": {
     "iopub.execute_input": "2021-04-26T23:24:54.337461Z",
     "iopub.status.busy": "2021-04-26T23:24:54.336231Z",
     "iopub.status.idle": "2021-04-26T23:24:54.345599Z",
     "shell.execute_reply": "2021-04-26T23:24:54.346086Z"
    },
    "id": "A_HhlFhgJLuf",
    "outputId": "8d9223fe-d120-408a-efc7-a8d743296940",
    "papermill": {
     "duration": 0.050521,
     "end_time": "2021-04-26T23:24:54.346266",
     "exception": false,
     "start_time": "2021-04-26T23:24:54.295745",
     "status": "completed"
    },
    "tags": []
   },
   "outputs": [
    {
     "data": {
      "text/plain": "21.394231188658654"
     },
     "execution_count": 19,
     "metadata": {},
     "output_type": "execute_result"
    }
   ],
   "source": [
    "# Solution 1\n",
    "\n",
    "chipo['revenue'] = chipo['quantity'] * chipo['item_price']\n",
    "order_grouped = chipo.groupby(by=['order_id']).sum()\n",
    "order_grouped.mean()['revenue']"
   ]
  },
  {
   "cell_type": "code",
   "execution_count": 20,
   "id": "built-sport",
   "metadata": {
    "execution": {
     "iopub.execute_input": "2021-04-26T23:24:54.416398Z",
     "iopub.status.busy": "2021-04-26T23:24:54.415742Z",
     "iopub.status.idle": "2021-04-26T23:24:54.428197Z",
     "shell.execute_reply": "2021-04-26T23:24:54.428691Z"
    },
    "id": "tXpgAEaacuCF",
    "outputId": "bb1fd52b-a5aa-43c1-8bae-4b9aceca2641",
    "papermill": {
     "duration": 0.049168,
     "end_time": "2021-04-26T23:24:54.428904",
     "exception": false,
     "start_time": "2021-04-26T23:24:54.379736",
     "status": "completed"
    },
    "tags": []
   },
   "outputs": [
    {
     "data": {
      "text/plain": "   order_id  quantity                              item_name  \\\n0         1         1           Chips and Fresh Tomato Salsa   \n1         1         1                                   Izze   \n2         1         1                       Nantucket Nectar   \n3         1         1  Chips and Tomatillo-Green Chili Salsa   \n4         2         2                           Chicken Bowl   \n\n                                  choice_description  item_price  revenue  \n0                                                NaN        2.39     2.39  \n1                                       [Clementine]        3.39     3.39  \n2                                            [Apple]        3.39     3.39  \n3                                                NaN        2.39     2.39  \n4  [Tomatillo-Red Chili Salsa (Hot), [Black Beans...       16.98    33.96  ",
      "text/html": "<div>\n<style scoped>\n    .dataframe tbody tr th:only-of-type {\n        vertical-align: middle;\n    }\n\n    .dataframe tbody tr th {\n        vertical-align: top;\n    }\n\n    .dataframe thead th {\n        text-align: right;\n    }\n</style>\n<table border=\"1\" class=\"dataframe\">\n  <thead>\n    <tr style=\"text-align: right;\">\n      <th></th>\n      <th>order_id</th>\n      <th>quantity</th>\n      <th>item_name</th>\n      <th>choice_description</th>\n      <th>item_price</th>\n      <th>revenue</th>\n    </tr>\n  </thead>\n  <tbody>\n    <tr>\n      <th>0</th>\n      <td>1</td>\n      <td>1</td>\n      <td>Chips and Fresh Tomato Salsa</td>\n      <td>NaN</td>\n      <td>2.39</td>\n      <td>2.39</td>\n    </tr>\n    <tr>\n      <th>1</th>\n      <td>1</td>\n      <td>1</td>\n      <td>Izze</td>\n      <td>[Clementine]</td>\n      <td>3.39</td>\n      <td>3.39</td>\n    </tr>\n    <tr>\n      <th>2</th>\n      <td>1</td>\n      <td>1</td>\n      <td>Nantucket Nectar</td>\n      <td>[Apple]</td>\n      <td>3.39</td>\n      <td>3.39</td>\n    </tr>\n    <tr>\n      <th>3</th>\n      <td>1</td>\n      <td>1</td>\n      <td>Chips and Tomatillo-Green Chili Salsa</td>\n      <td>NaN</td>\n      <td>2.39</td>\n      <td>2.39</td>\n    </tr>\n    <tr>\n      <th>4</th>\n      <td>2</td>\n      <td>2</td>\n      <td>Chicken Bowl</td>\n      <td>[Tomatillo-Red Chili Salsa (Hot), [Black Beans...</td>\n      <td>16.98</td>\n      <td>33.96</td>\n    </tr>\n  </tbody>\n</table>\n</div>"
     },
     "execution_count": 20,
     "metadata": {},
     "output_type": "execute_result"
    }
   ],
   "source": [
    "chipo.head()"
   ]
  },
  {
   "cell_type": "code",
   "execution_count": 21,
   "id": "complimentary-formula",
   "metadata": {
    "execution": {
     "iopub.execute_input": "2021-04-26T23:24:54.499894Z",
     "iopub.status.busy": "2021-04-26T23:24:54.499249Z",
     "iopub.status.idle": "2021-04-26T23:24:54.509160Z",
     "shell.execute_reply": "2021-04-26T23:24:54.508521Z"
    },
    "id": "gduqV5FNJLug",
    "outputId": "635e93c8-04e7-44ae-a38c-343a31e450c1",
    "papermill": {
     "duration": 0.046364,
     "end_time": "2021-04-26T23:24:54.509305",
     "exception": false,
     "start_time": "2021-04-26T23:24:54.462941",
     "status": "completed"
    },
    "tags": []
   },
   "outputs": [
    {
     "data": {
      "text/plain": "21.394231188658654"
     },
     "execution_count": 21,
     "metadata": {},
     "output_type": "execute_result"
    }
   ],
   "source": [
    "# Solution 2\n",
    "\n",
    "chipo.groupby(by=['order_id']).sum().mean()['revenue']"
   ]
  },
  {
   "cell_type": "markdown",
   "id": "median-astrology",
   "metadata": {
    "id": "3iZrwSKSJLug",
    "papermill": {
     "duration": 0.03421,
     "end_time": "2021-04-26T23:24:54.578472",
     "exception": false,
     "start_time": "2021-04-26T23:24:54.544262",
     "status": "completed"
    },
    "tags": []
   },
   "source": [
    "### Step 17. How many different items are sold?"
   ]
  },
  {
   "cell_type": "code",
   "execution_count": 22,
   "id": "injured-construction",
   "metadata": {
    "execution": {
     "iopub.execute_input": "2021-04-26T23:24:54.650960Z",
     "iopub.status.busy": "2021-04-26T23:24:54.650294Z",
     "iopub.status.idle": "2021-04-26T23:24:54.658240Z",
     "shell.execute_reply": "2021-04-26T23:24:54.657588Z"
    },
    "id": "TE-_jIAAJLug",
    "outputId": "685c12fd-a983-4281-aa8c-769737853340",
    "papermill": {
     "duration": 0.045204,
     "end_time": "2021-04-26T23:24:54.658378",
     "exception": false,
     "start_time": "2021-04-26T23:24:54.613174",
     "status": "completed"
    },
    "tags": []
   },
   "outputs": [
    {
     "data": {
      "text/plain": "50"
     },
     "execution_count": 22,
     "metadata": {},
     "output_type": "execute_result"
    }
   ],
   "source": [
    "chipo['item_name'].value_counts().count()"
   ]
  }
 ],
 "metadata": {
  "kernelspec": {
   "display_name": "Python 3",
   "language": "python",
   "name": "python3"
  },
  "language_info": {
   "codemirror_mode": {
    "name": "ipython",
    "version": 3
   },
   "file_extension": ".py",
   "mimetype": "text/x-python",
   "name": "python",
   "nbconvert_exporter": "python",
   "pygments_lexer": "ipython3",
   "version": "3.7.10"
  },
  "papermill": {
   "default_parameters": {},
   "duration": 12.859365,
   "end_time": "2021-04-26T23:24:56.230563",
   "environment_variables": {},
   "exception": null,
   "input_path": "__notebook__.ipynb",
   "output_path": "__notebook__.ipynb",
   "parameters": {},
   "start_time": "2021-04-26T23:24:43.371198",
   "version": "2.3.3"
  }
 },
 "nbformat": 4,
 "nbformat_minor": 5
}
