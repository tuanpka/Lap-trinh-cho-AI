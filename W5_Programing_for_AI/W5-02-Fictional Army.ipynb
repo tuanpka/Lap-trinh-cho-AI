{
 "cells": [
  {
   "cell_type": "markdown",
   "metadata": {
    "_cell_guid": "55eae399-c293-4082-bcf4-5c9c7e4a7a51",
    "_uuid": "3cf5db455baa399f696da1563426a6c3c07422d3"
   },
   "source": [
    "# Ex1 - Filtering and Sorting Data\n"
   ]
  },
  {
   "cell_type": "markdown",
   "metadata": {
    "_cell_guid": "42e8e0ff-470c-4e37-b8a1-da0abb669fa6",
    "_uuid": "4bd416d2a8747c2e8980f2c348c39f74df12fccd"
   },
   "source": [
    "This time we are going to pull data directly from the internet.\n",
    "Special thanks to: https://github.com/justmarkham for sharing the dataset and materials.\n",
    "\n",
    "### Step 1. Import the necessary libraries"
   ]
  },
  {
   "cell_type": "code",
   "execution_count": 11,
   "metadata": {
    "_cell_guid": "9c6d82c2-59b6-4ac7-abe9-d08062b5af2e",
    "_uuid": "185e3c80608e670acd1380db52905d97e03adce4",
    "collapsed": true
   },
   "outputs": [],
   "source": [
    "import pandas as pd"
   ]
  },
  {
   "cell_type": "markdown",
   "metadata": {
    "_cell_guid": "bec137f6-c8e2-47a0-a191-a5ea69776f6a",
    "_uuid": "c22bd41c69807266ea870684a6f48ce3365c1daa"
   },
   "source": [
    "### Step 2. Import the data"
   ]
  },
  {
   "cell_type": "code",
   "execution_count": 12,
   "outputs": [],
   "source": [
    "# Create an example dataframe about a fictional army\n",
    "raw_data = {'regiment': ['Nighthawks', 'Nighthawks', 'Nighthawks', 'Nighthawks', 'Dragoons', 'Dragoons', 'Dragoons', 'Dragoons', 'Scouts', 'Scouts', 'Scouts', 'Scouts'],\n",
    "            'company': ['1st', '1st', '2nd', '2nd', '1st', '1st', '2nd', '2nd','1st', '1st', '2nd', '2nd'],\n",
    "            'deaths': [523, 52, 25, 616, 43, 234, 523, 62, 62, 73, 37, 35],\n",
    "            'battles': [5, 42, 2, 2, 4, 7, 8, 3, 4, 7, 8, 9],\n",
    "            'size': [1045, 957, 1099, 1400, 1592, 1006, 987, 849, 973, 1005, 1099, 1523],\n",
    "            'veterans': [1, 5, 62, 26, 73, 37, 949, 48, 48, 435, 63, 345],\n",
    "            'readiness': [1, 2, 3, 3, 2, 1, 2, 3, 2, 1, 2, 3],\n",
    "            'armored': [1, 0, 1, 1, 0, 1, 0, 1, 0, 0, 1, 1],\n",
    "            'deserters': [4, 24, 31, 2, 3, 4, 24, 31, 2, 3, 2, 3],\n",
    "            'origin': ['Arizona', 'California', 'Texas', 'Florida', 'Maine', 'Iowa', 'Alaska', 'Washington', 'Oregon', 'Wyoming', 'Louisana', 'Georgia']}"
   ],
   "metadata": {
    "collapsed": false
   }
  },
  {
   "cell_type": "markdown",
   "metadata": {
    "_cell_guid": "34506254-e978-470f-b0de-3e2474cfece4",
    "_uuid": "8398d09b06b37c0db190f83fa17c81d3770fe7dd"
   },
   "source": [
    "### Step 3.  Create a dataframe and assign it to a variable called army.\n"
   ]
  },
  {
   "cell_type": "code",
   "execution_count": 13,
   "metadata": {
    "_cell_guid": "cde3861d-328b-4047-9b91-3462c43a6bb5",
    "_uuid": "15f680530949641d38506483f09c987109eb44ae",
    "collapsed": true
   },
   "outputs": [
    {
     "data": {
      "text/plain": "      regiment company  deaths  battles  size  veterans  readiness  armored  \\\n0   Nighthawks     1st     523        5  1045         1          1        1   \n1   Nighthawks     1st      52       42   957         5          2        0   \n2   Nighthawks     2nd      25        2  1099        62          3        1   \n3   Nighthawks     2nd     616        2  1400        26          3        1   \n4     Dragoons     1st      43        4  1592        73          2        0   \n5     Dragoons     1st     234        7  1006        37          1        1   \n6     Dragoons     2nd     523        8   987       949          2        0   \n7     Dragoons     2nd      62        3   849        48          3        1   \n8       Scouts     1st      62        4   973        48          2        0   \n9       Scouts     1st      73        7  1005       435          1        0   \n10      Scouts     2nd      37        8  1099        63          2        1   \n11      Scouts     2nd      35        9  1523       345          3        1   \n\n    deserters      origin  \n0           4     Arizona  \n1          24  California  \n2          31       Texas  \n3           2     Florida  \n4           3       Maine  \n5           4        Iowa  \n6          24      Alaska  \n7          31  Washington  \n8           2      Oregon  \n9           3     Wyoming  \n10          2    Louisana  \n11          3     Georgia  ",
      "text/html": "<div>\n<style scoped>\n    .dataframe tbody tr th:only-of-type {\n        vertical-align: middle;\n    }\n\n    .dataframe tbody tr th {\n        vertical-align: top;\n    }\n\n    .dataframe thead th {\n        text-align: right;\n    }\n</style>\n<table border=\"1\" class=\"dataframe\">\n  <thead>\n    <tr style=\"text-align: right;\">\n      <th></th>\n      <th>regiment</th>\n      <th>company</th>\n      <th>deaths</th>\n      <th>battles</th>\n      <th>size</th>\n      <th>veterans</th>\n      <th>readiness</th>\n      <th>armored</th>\n      <th>deserters</th>\n      <th>origin</th>\n    </tr>\n  </thead>\n  <tbody>\n    <tr>\n      <th>0</th>\n      <td>Nighthawks</td>\n      <td>1st</td>\n      <td>523</td>\n      <td>5</td>\n      <td>1045</td>\n      <td>1</td>\n      <td>1</td>\n      <td>1</td>\n      <td>4</td>\n      <td>Arizona</td>\n    </tr>\n    <tr>\n      <th>1</th>\n      <td>Nighthawks</td>\n      <td>1st</td>\n      <td>52</td>\n      <td>42</td>\n      <td>957</td>\n      <td>5</td>\n      <td>2</td>\n      <td>0</td>\n      <td>24</td>\n      <td>California</td>\n    </tr>\n    <tr>\n      <th>2</th>\n      <td>Nighthawks</td>\n      <td>2nd</td>\n      <td>25</td>\n      <td>2</td>\n      <td>1099</td>\n      <td>62</td>\n      <td>3</td>\n      <td>1</td>\n      <td>31</td>\n      <td>Texas</td>\n    </tr>\n    <tr>\n      <th>3</th>\n      <td>Nighthawks</td>\n      <td>2nd</td>\n      <td>616</td>\n      <td>2</td>\n      <td>1400</td>\n      <td>26</td>\n      <td>3</td>\n      <td>1</td>\n      <td>2</td>\n      <td>Florida</td>\n    </tr>\n    <tr>\n      <th>4</th>\n      <td>Dragoons</td>\n      <td>1st</td>\n      <td>43</td>\n      <td>4</td>\n      <td>1592</td>\n      <td>73</td>\n      <td>2</td>\n      <td>0</td>\n      <td>3</td>\n      <td>Maine</td>\n    </tr>\n    <tr>\n      <th>5</th>\n      <td>Dragoons</td>\n      <td>1st</td>\n      <td>234</td>\n      <td>7</td>\n      <td>1006</td>\n      <td>37</td>\n      <td>1</td>\n      <td>1</td>\n      <td>4</td>\n      <td>Iowa</td>\n    </tr>\n    <tr>\n      <th>6</th>\n      <td>Dragoons</td>\n      <td>2nd</td>\n      <td>523</td>\n      <td>8</td>\n      <td>987</td>\n      <td>949</td>\n      <td>2</td>\n      <td>0</td>\n      <td>24</td>\n      <td>Alaska</td>\n    </tr>\n    <tr>\n      <th>7</th>\n      <td>Dragoons</td>\n      <td>2nd</td>\n      <td>62</td>\n      <td>3</td>\n      <td>849</td>\n      <td>48</td>\n      <td>3</td>\n      <td>1</td>\n      <td>31</td>\n      <td>Washington</td>\n    </tr>\n    <tr>\n      <th>8</th>\n      <td>Scouts</td>\n      <td>1st</td>\n      <td>62</td>\n      <td>4</td>\n      <td>973</td>\n      <td>48</td>\n      <td>2</td>\n      <td>0</td>\n      <td>2</td>\n      <td>Oregon</td>\n    </tr>\n    <tr>\n      <th>9</th>\n      <td>Scouts</td>\n      <td>1st</td>\n      <td>73</td>\n      <td>7</td>\n      <td>1005</td>\n      <td>435</td>\n      <td>1</td>\n      <td>0</td>\n      <td>3</td>\n      <td>Wyoming</td>\n    </tr>\n    <tr>\n      <th>10</th>\n      <td>Scouts</td>\n      <td>2nd</td>\n      <td>37</td>\n      <td>8</td>\n      <td>1099</td>\n      <td>63</td>\n      <td>2</td>\n      <td>1</td>\n      <td>2</td>\n      <td>Louisana</td>\n    </tr>\n    <tr>\n      <th>11</th>\n      <td>Scouts</td>\n      <td>2nd</td>\n      <td>35</td>\n      <td>9</td>\n      <td>1523</td>\n      <td>345</td>\n      <td>3</td>\n      <td>1</td>\n      <td>3</td>\n      <td>Georgia</td>\n    </tr>\n  </tbody>\n</table>\n</div>"
     },
     "execution_count": 13,
     "metadata": {},
     "output_type": "execute_result"
    }
   ],
   "source": [
    "army = pd.DataFrame(data=raw_data)\n",
    "army"
   ]
  },
  {
   "cell_type": "markdown",
   "metadata": {
    "_cell_guid": "23f50dd3-0d74-40a4-808b-28a4188bdee2",
    "_uuid": "ec9c371b98b993494393e8dcd08509f9d23df63d"
   },
   "source": [
    "### Step 4. Set the 'origin' colum as the index of the dataframe\n"
   ]
  },
  {
   "cell_type": "code",
   "execution_count": 14,
   "metadata": {
    "_cell_guid": "c972001c-de16-458a-b09c-7b26e9348940",
    "_uuid": "8ab5bf8ea8f0b683a460af731da39e3d07ae5ed3",
    "scrolled": true
   },
   "outputs": [],
   "source": [
    "army.set_index('origin', inplace=True)\n"
   ]
  },
  {
   "cell_type": "markdown",
   "metadata": {
    "_cell_guid": "eb9e434f-c91a-45a5-9d7d-6907a89baede",
    "_uuid": "80cf2464addac744da99081552d76d6446d65561"
   },
   "source": [
    "### Step 5. Print only the column veterans"
   ]
  },
  {
   "cell_type": "code",
   "execution_count": 15,
   "metadata": {
    "_cell_guid": "9a801bf9-8eea-4b94-b916-9b2df8ce599d",
    "_uuid": "df18b82feaec7e729e6de2a93c09811dd6018400",
    "scrolled": true
   },
   "outputs": [
    {
     "data": {
      "text/plain": "origin\nArizona         1\nCalifornia      5\nTexas          62\nFlorida        26\nMaine          73\nIowa           37\nAlaska        949\nWashington     48\nOregon         48\nWyoming       435\nLouisana       63\nGeorgia       345\nName: veterans, dtype: int64"
     },
     "execution_count": 15,
     "metadata": {},
     "output_type": "execute_result"
    }
   ],
   "source": [
    "army.veterans\n"
   ]
  },
  {
   "cell_type": "markdown",
   "metadata": {
    "_cell_guid": "f4826b9a-8207-417f-93fd-2ad21d9822af",
    "_uuid": "7a1749ac7ccd6a1c1b16d7bd869c1d88f556be14"
   },
   "source": [
    "### Step 6.  Print the columns 'veterans' and 'deaths'"
   ]
  },
  {
   "cell_type": "code",
   "execution_count": 16,
   "metadata": {
    "_cell_guid": "0ee16527-291b-42b2-8411-63597cc70898",
    "_uuid": "ca83ac208c0e979c36a3a56127f4e55785c21e2b"
   },
   "outputs": [
    {
     "data": {
      "text/plain": "            veterans  deaths\norigin                      \nArizona            1     523\nCalifornia         5      52\nTexas             62      25\nFlorida           26     616\nMaine             73      43\nIowa              37     234\nAlaska           949     523\nWashington        48      62\nOregon            48      62\nWyoming          435      73\nLouisana          63      37\nGeorgia          345      35",
      "text/html": "<div>\n<style scoped>\n    .dataframe tbody tr th:only-of-type {\n        vertical-align: middle;\n    }\n\n    .dataframe tbody tr th {\n        vertical-align: top;\n    }\n\n    .dataframe thead th {\n        text-align: right;\n    }\n</style>\n<table border=\"1\" class=\"dataframe\">\n  <thead>\n    <tr style=\"text-align: right;\">\n      <th></th>\n      <th>veterans</th>\n      <th>deaths</th>\n    </tr>\n    <tr>\n      <th>origin</th>\n      <th></th>\n      <th></th>\n    </tr>\n  </thead>\n  <tbody>\n    <tr>\n      <th>Arizona</th>\n      <td>1</td>\n      <td>523</td>\n    </tr>\n    <tr>\n      <th>California</th>\n      <td>5</td>\n      <td>52</td>\n    </tr>\n    <tr>\n      <th>Texas</th>\n      <td>62</td>\n      <td>25</td>\n    </tr>\n    <tr>\n      <th>Florida</th>\n      <td>26</td>\n      <td>616</td>\n    </tr>\n    <tr>\n      <th>Maine</th>\n      <td>73</td>\n      <td>43</td>\n    </tr>\n    <tr>\n      <th>Iowa</th>\n      <td>37</td>\n      <td>234</td>\n    </tr>\n    <tr>\n      <th>Alaska</th>\n      <td>949</td>\n      <td>523</td>\n    </tr>\n    <tr>\n      <th>Washington</th>\n      <td>48</td>\n      <td>62</td>\n    </tr>\n    <tr>\n      <th>Oregon</th>\n      <td>48</td>\n      <td>62</td>\n    </tr>\n    <tr>\n      <th>Wyoming</th>\n      <td>435</td>\n      <td>73</td>\n    </tr>\n    <tr>\n      <th>Louisana</th>\n      <td>63</td>\n      <td>37</td>\n    </tr>\n    <tr>\n      <th>Georgia</th>\n      <td>345</td>\n      <td>35</td>\n    </tr>\n  </tbody>\n</table>\n</div>"
     },
     "execution_count": 16,
     "metadata": {},
     "output_type": "execute_result"
    }
   ],
   "source": [
    "army[[\"veterans\", \"deaths\"]]\n"
   ]
  },
  {
   "cell_type": "markdown",
   "metadata": {
    "_cell_guid": "8806e61d-5494-4c05-b82d-d8c99bf90e45",
    "_uuid": "27a77dc9eb87aae61ec3724c813a07dfe6c1e3e5"
   },
   "source": [
    "### Step 7. Print the name of all the columns."
   ]
  },
  {
   "cell_type": "code",
   "execution_count": 17,
   "metadata": {
    "_cell_guid": "083b70f4-bfdd-440c-83af-54d3f54dd382",
    "_uuid": "2924dce5c5fd80ee0c3d1038e231f2599bd9a358"
   },
   "outputs": [
    {
     "data": {
      "text/plain": "Index(['regiment', 'company', 'deaths', 'battles', 'size', 'veterans',\n       'readiness', 'armored', 'deserters'],\n      dtype='object')"
     },
     "execution_count": 17,
     "metadata": {},
     "output_type": "execute_result"
    }
   ],
   "source": [
    "army.columns\n"
   ]
  },
  {
   "cell_type": "markdown",
   "metadata": {
    "_cell_guid": "554df72e-6fc8-40ca-b0fd-09a0cbe4a82b",
    "_uuid": "ab6984dbe54181c00b8c0b3786d7ebece8342e1d"
   },
   "source": [
    "### Step 8. Select the 'deaths', 'size' and 'deserters' columns from Maine and Alaska"
   ]
  },
  {
   "cell_type": "code",
   "execution_count": 18,
   "metadata": {
    "_cell_guid": "7bd9d1f0-edfb-4e60-b7b2-fcdf130e5deb",
    "_uuid": "a78cfb638018ba5e09d5ab076ad2d941d919c3bf"
   },
   "outputs": [
    {
     "data": {
      "text/plain": "        deaths  size  deserters\norigin                         \nMaine       43  1592          3\nAlaska     523   987         24",
      "text/html": "<div>\n<style scoped>\n    .dataframe tbody tr th:only-of-type {\n        vertical-align: middle;\n    }\n\n    .dataframe tbody tr th {\n        vertical-align: top;\n    }\n\n    .dataframe thead th {\n        text-align: right;\n    }\n</style>\n<table border=\"1\" class=\"dataframe\">\n  <thead>\n    <tr style=\"text-align: right;\">\n      <th></th>\n      <th>deaths</th>\n      <th>size</th>\n      <th>deserters</th>\n    </tr>\n    <tr>\n      <th>origin</th>\n      <th></th>\n      <th></th>\n      <th></th>\n    </tr>\n  </thead>\n  <tbody>\n    <tr>\n      <th>Maine</th>\n      <td>43</td>\n      <td>1592</td>\n      <td>3</td>\n    </tr>\n    <tr>\n      <th>Alaska</th>\n      <td>523</td>\n      <td>987</td>\n      <td>24</td>\n    </tr>\n  </tbody>\n</table>\n</div>"
     },
     "execution_count": 18,
     "metadata": {},
     "output_type": "execute_result"
    }
   ],
   "source": [
    "army.loc[[\"Maine\", \"Alaska\"], [\"deaths\", \"size\", \"deserters\"]]"
   ]
  },
  {
   "cell_type": "markdown",
   "metadata": {
    "_cell_guid": "660c88e1-a638-41f6-8ef0-dfe48469ca28",
    "_uuid": "bc0c3dc577c69e8444fed592c453c8d05d0bce1b"
   },
   "source": [
    "### Step 9. Select the rows 3 to 7 and the columns 3 to 6"
   ]
  },
  {
   "cell_type": "code",
   "execution_count": 19,
   "metadata": {
    "_cell_guid": "fabb8a03-f3ad-46a3-b6be-9bff0e850216",
    "_uuid": "b89486684ef21fa3180256c873e07c056c58a83d"
   },
   "outputs": [
    {
     "data": {
      "text/plain": "         deaths  battles  size  veterans\norigin                                  \nTexas        25        2  1099        62\nFlorida     616        2  1400        26\nMaine        43        4  1592        73\nIowa        234        7  1006        37\nAlaska      523        8   987       949",
      "text/html": "<div>\n<style scoped>\n    .dataframe tbody tr th:only-of-type {\n        vertical-align: middle;\n    }\n\n    .dataframe tbody tr th {\n        vertical-align: top;\n    }\n\n    .dataframe thead th {\n        text-align: right;\n    }\n</style>\n<table border=\"1\" class=\"dataframe\">\n  <thead>\n    <tr style=\"text-align: right;\">\n      <th></th>\n      <th>deaths</th>\n      <th>battles</th>\n      <th>size</th>\n      <th>veterans</th>\n    </tr>\n    <tr>\n      <th>origin</th>\n      <th></th>\n      <th></th>\n      <th></th>\n      <th></th>\n    </tr>\n  </thead>\n  <tbody>\n    <tr>\n      <th>Texas</th>\n      <td>25</td>\n      <td>2</td>\n      <td>1099</td>\n      <td>62</td>\n    </tr>\n    <tr>\n      <th>Florida</th>\n      <td>616</td>\n      <td>2</td>\n      <td>1400</td>\n      <td>26</td>\n    </tr>\n    <tr>\n      <th>Maine</th>\n      <td>43</td>\n      <td>4</td>\n      <td>1592</td>\n      <td>73</td>\n    </tr>\n    <tr>\n      <th>Iowa</th>\n      <td>234</td>\n      <td>7</td>\n      <td>1006</td>\n      <td>37</td>\n    </tr>\n    <tr>\n      <th>Alaska</th>\n      <td>523</td>\n      <td>8</td>\n      <td>987</td>\n      <td>949</td>\n    </tr>\n  </tbody>\n</table>\n</div>"
     },
     "execution_count": 19,
     "metadata": {},
     "output_type": "execute_result"
    }
   ],
   "source": [
    "army.iloc[2:7, 2:6]"
   ]
  },
  {
   "cell_type": "markdown",
   "source": [
    "### Step 10. Select every row after the fourth row and all columns\n"
   ],
   "metadata": {
    "collapsed": false
   }
  },
  {
   "cell_type": "code",
   "execution_count": 20,
   "outputs": [
    {
     "data": {
      "text/plain": "            regiment company  deaths  battles  size  veterans  readiness  \\\norigin                                                                     \nMaine       Dragoons     1st      43        4  1592        73          2   \nIowa        Dragoons     1st     234        7  1006        37          1   \nAlaska      Dragoons     2nd     523        8   987       949          2   \nWashington  Dragoons     2nd      62        3   849        48          3   \nOregon        Scouts     1st      62        4   973        48          2   \nWyoming       Scouts     1st      73        7  1005       435          1   \nLouisana      Scouts     2nd      37        8  1099        63          2   \nGeorgia       Scouts     2nd      35        9  1523       345          3   \n\n            armored  deserters  \norigin                          \nMaine             0          3  \nIowa              1          4  \nAlaska            0         24  \nWashington        1         31  \nOregon            0          2  \nWyoming           0          3  \nLouisana          1          2  \nGeorgia           1          3  ",
      "text/html": "<div>\n<style scoped>\n    .dataframe tbody tr th:only-of-type {\n        vertical-align: middle;\n    }\n\n    .dataframe tbody tr th {\n        vertical-align: top;\n    }\n\n    .dataframe thead th {\n        text-align: right;\n    }\n</style>\n<table border=\"1\" class=\"dataframe\">\n  <thead>\n    <tr style=\"text-align: right;\">\n      <th></th>\n      <th>regiment</th>\n      <th>company</th>\n      <th>deaths</th>\n      <th>battles</th>\n      <th>size</th>\n      <th>veterans</th>\n      <th>readiness</th>\n      <th>armored</th>\n      <th>deserters</th>\n    </tr>\n    <tr>\n      <th>origin</th>\n      <th></th>\n      <th></th>\n      <th></th>\n      <th></th>\n      <th></th>\n      <th></th>\n      <th></th>\n      <th></th>\n      <th></th>\n    </tr>\n  </thead>\n  <tbody>\n    <tr>\n      <th>Maine</th>\n      <td>Dragoons</td>\n      <td>1st</td>\n      <td>43</td>\n      <td>4</td>\n      <td>1592</td>\n      <td>73</td>\n      <td>2</td>\n      <td>0</td>\n      <td>3</td>\n    </tr>\n    <tr>\n      <th>Iowa</th>\n      <td>Dragoons</td>\n      <td>1st</td>\n      <td>234</td>\n      <td>7</td>\n      <td>1006</td>\n      <td>37</td>\n      <td>1</td>\n      <td>1</td>\n      <td>4</td>\n    </tr>\n    <tr>\n      <th>Alaska</th>\n      <td>Dragoons</td>\n      <td>2nd</td>\n      <td>523</td>\n      <td>8</td>\n      <td>987</td>\n      <td>949</td>\n      <td>2</td>\n      <td>0</td>\n      <td>24</td>\n    </tr>\n    <tr>\n      <th>Washington</th>\n      <td>Dragoons</td>\n      <td>2nd</td>\n      <td>62</td>\n      <td>3</td>\n      <td>849</td>\n      <td>48</td>\n      <td>3</td>\n      <td>1</td>\n      <td>31</td>\n    </tr>\n    <tr>\n      <th>Oregon</th>\n      <td>Scouts</td>\n      <td>1st</td>\n      <td>62</td>\n      <td>4</td>\n      <td>973</td>\n      <td>48</td>\n      <td>2</td>\n      <td>0</td>\n      <td>2</td>\n    </tr>\n    <tr>\n      <th>Wyoming</th>\n      <td>Scouts</td>\n      <td>1st</td>\n      <td>73</td>\n      <td>7</td>\n      <td>1005</td>\n      <td>435</td>\n      <td>1</td>\n      <td>0</td>\n      <td>3</td>\n    </tr>\n    <tr>\n      <th>Louisana</th>\n      <td>Scouts</td>\n      <td>2nd</td>\n      <td>37</td>\n      <td>8</td>\n      <td>1099</td>\n      <td>63</td>\n      <td>2</td>\n      <td>1</td>\n      <td>2</td>\n    </tr>\n    <tr>\n      <th>Georgia</th>\n      <td>Scouts</td>\n      <td>2nd</td>\n      <td>35</td>\n      <td>9</td>\n      <td>1523</td>\n      <td>345</td>\n      <td>3</td>\n      <td>1</td>\n      <td>3</td>\n    </tr>\n  </tbody>\n</table>\n</div>"
     },
     "execution_count": 20,
     "metadata": {},
     "output_type": "execute_result"
    }
   ],
   "source": [
    "\n",
    "army.iloc[4:, :]"
   ],
   "metadata": {
    "collapsed": false
   }
  },
  {
   "cell_type": "markdown",
   "source": [
    "### Step 11. Select every row up to the 4th row and all columns"
   ],
   "metadata": {
    "collapsed": false
   }
  },
  {
   "cell_type": "code",
   "execution_count": 21,
   "outputs": [
    {
     "data": {
      "text/plain": "              regiment company  deaths  battles  size  veterans  readiness  \\\norigin                                                                       \nArizona     Nighthawks     1st     523        5  1045         1          1   \nCalifornia  Nighthawks     1st      52       42   957         5          2   \nTexas       Nighthawks     2nd      25        2  1099        62          3   \nFlorida     Nighthawks     2nd     616        2  1400        26          3   \n\n            armored  deserters  \norigin                          \nArizona           1          4  \nCalifornia        0         24  \nTexas             1         31  \nFlorida           1          2  ",
      "text/html": "<div>\n<style scoped>\n    .dataframe tbody tr th:only-of-type {\n        vertical-align: middle;\n    }\n\n    .dataframe tbody tr th {\n        vertical-align: top;\n    }\n\n    .dataframe thead th {\n        text-align: right;\n    }\n</style>\n<table border=\"1\" class=\"dataframe\">\n  <thead>\n    <tr style=\"text-align: right;\">\n      <th></th>\n      <th>regiment</th>\n      <th>company</th>\n      <th>deaths</th>\n      <th>battles</th>\n      <th>size</th>\n      <th>veterans</th>\n      <th>readiness</th>\n      <th>armored</th>\n      <th>deserters</th>\n    </tr>\n    <tr>\n      <th>origin</th>\n      <th></th>\n      <th></th>\n      <th></th>\n      <th></th>\n      <th></th>\n      <th></th>\n      <th></th>\n      <th></th>\n      <th></th>\n    </tr>\n  </thead>\n  <tbody>\n    <tr>\n      <th>Arizona</th>\n      <td>Nighthawks</td>\n      <td>1st</td>\n      <td>523</td>\n      <td>5</td>\n      <td>1045</td>\n      <td>1</td>\n      <td>1</td>\n      <td>1</td>\n      <td>4</td>\n    </tr>\n    <tr>\n      <th>California</th>\n      <td>Nighthawks</td>\n      <td>1st</td>\n      <td>52</td>\n      <td>42</td>\n      <td>957</td>\n      <td>5</td>\n      <td>2</td>\n      <td>0</td>\n      <td>24</td>\n    </tr>\n    <tr>\n      <th>Texas</th>\n      <td>Nighthawks</td>\n      <td>2nd</td>\n      <td>25</td>\n      <td>2</td>\n      <td>1099</td>\n      <td>62</td>\n      <td>3</td>\n      <td>1</td>\n      <td>31</td>\n    </tr>\n    <tr>\n      <th>Florida</th>\n      <td>Nighthawks</td>\n      <td>2nd</td>\n      <td>616</td>\n      <td>2</td>\n      <td>1400</td>\n      <td>26</td>\n      <td>3</td>\n      <td>1</td>\n      <td>2</td>\n    </tr>\n  </tbody>\n</table>\n</div>"
     },
     "execution_count": 21,
     "metadata": {},
     "output_type": "execute_result"
    }
   ],
   "source": [
    "army.iloc[:4, :]\n"
   ],
   "metadata": {
    "collapsed": false
   }
  },
  {
   "cell_type": "markdown",
   "source": [
    "### Step 12. Select the 3rd column up to the 7th column"
   ],
   "metadata": {
    "collapsed": false
   }
  },
  {
   "cell_type": "code",
   "execution_count": 22,
   "outputs": [
    {
     "data": {
      "text/plain": "            deaths  battles  size  veterans  readiness\norigin                                                \nArizona        523        5  1045         1          1\nCalifornia      52       42   957         5          2\nTexas           25        2  1099        62          3\nFlorida        616        2  1400        26          3\nMaine           43        4  1592        73          2\nIowa           234        7  1006        37          1\nAlaska         523        8   987       949          2\nWashington      62        3   849        48          3\nOregon          62        4   973        48          2\nWyoming         73        7  1005       435          1\nLouisana        37        8  1099        63          2\nGeorgia         35        9  1523       345          3",
      "text/html": "<div>\n<style scoped>\n    .dataframe tbody tr th:only-of-type {\n        vertical-align: middle;\n    }\n\n    .dataframe tbody tr th {\n        vertical-align: top;\n    }\n\n    .dataframe thead th {\n        text-align: right;\n    }\n</style>\n<table border=\"1\" class=\"dataframe\">\n  <thead>\n    <tr style=\"text-align: right;\">\n      <th></th>\n      <th>deaths</th>\n      <th>battles</th>\n      <th>size</th>\n      <th>veterans</th>\n      <th>readiness</th>\n    </tr>\n    <tr>\n      <th>origin</th>\n      <th></th>\n      <th></th>\n      <th></th>\n      <th></th>\n      <th></th>\n    </tr>\n  </thead>\n  <tbody>\n    <tr>\n      <th>Arizona</th>\n      <td>523</td>\n      <td>5</td>\n      <td>1045</td>\n      <td>1</td>\n      <td>1</td>\n    </tr>\n    <tr>\n      <th>California</th>\n      <td>52</td>\n      <td>42</td>\n      <td>957</td>\n      <td>5</td>\n      <td>2</td>\n    </tr>\n    <tr>\n      <th>Texas</th>\n      <td>25</td>\n      <td>2</td>\n      <td>1099</td>\n      <td>62</td>\n      <td>3</td>\n    </tr>\n    <tr>\n      <th>Florida</th>\n      <td>616</td>\n      <td>2</td>\n      <td>1400</td>\n      <td>26</td>\n      <td>3</td>\n    </tr>\n    <tr>\n      <th>Maine</th>\n      <td>43</td>\n      <td>4</td>\n      <td>1592</td>\n      <td>73</td>\n      <td>2</td>\n    </tr>\n    <tr>\n      <th>Iowa</th>\n      <td>234</td>\n      <td>7</td>\n      <td>1006</td>\n      <td>37</td>\n      <td>1</td>\n    </tr>\n    <tr>\n      <th>Alaska</th>\n      <td>523</td>\n      <td>8</td>\n      <td>987</td>\n      <td>949</td>\n      <td>2</td>\n    </tr>\n    <tr>\n      <th>Washington</th>\n      <td>62</td>\n      <td>3</td>\n      <td>849</td>\n      <td>48</td>\n      <td>3</td>\n    </tr>\n    <tr>\n      <th>Oregon</th>\n      <td>62</td>\n      <td>4</td>\n      <td>973</td>\n      <td>48</td>\n      <td>2</td>\n    </tr>\n    <tr>\n      <th>Wyoming</th>\n      <td>73</td>\n      <td>7</td>\n      <td>1005</td>\n      <td>435</td>\n      <td>1</td>\n    </tr>\n    <tr>\n      <th>Louisana</th>\n      <td>37</td>\n      <td>8</td>\n      <td>1099</td>\n      <td>63</td>\n      <td>2</td>\n    </tr>\n    <tr>\n      <th>Georgia</th>\n      <td>35</td>\n      <td>9</td>\n      <td>1523</td>\n      <td>345</td>\n      <td>3</td>\n    </tr>\n  </tbody>\n</table>\n</div>"
     },
     "execution_count": 22,
     "metadata": {},
     "output_type": "execute_result"
    }
   ],
   "source": [
    "army.iloc[:, 2:7]"
   ],
   "metadata": {
    "collapsed": false
   }
  },
  {
   "cell_type": "markdown",
   "source": [
    "### Step 13. Select rows where df.deaths is greater than 50\n"
   ],
   "metadata": {
    "collapsed": false
   }
  },
  {
   "cell_type": "code",
   "execution_count": 23,
   "outputs": [
    {
     "data": {
      "text/plain": "              regiment company  deaths  battles  size  veterans  readiness  \\\norigin                                                                       \nArizona     Nighthawks     1st     523        5  1045         1          1   \nCalifornia  Nighthawks     1st      52       42   957         5          2   \nFlorida     Nighthawks     2nd     616        2  1400        26          3   \nIowa          Dragoons     1st     234        7  1006        37          1   \nAlaska        Dragoons     2nd     523        8   987       949          2   \nWashington    Dragoons     2nd      62        3   849        48          3   \nOregon          Scouts     1st      62        4   973        48          2   \nWyoming         Scouts     1st      73        7  1005       435          1   \n\n            armored  deserters  \norigin                          \nArizona           1          4  \nCalifornia        0         24  \nFlorida           1          2  \nIowa              1          4  \nAlaska            0         24  \nWashington        1         31  \nOregon            0          2  \nWyoming           0          3  ",
      "text/html": "<div>\n<style scoped>\n    .dataframe tbody tr th:only-of-type {\n        vertical-align: middle;\n    }\n\n    .dataframe tbody tr th {\n        vertical-align: top;\n    }\n\n    .dataframe thead th {\n        text-align: right;\n    }\n</style>\n<table border=\"1\" class=\"dataframe\">\n  <thead>\n    <tr style=\"text-align: right;\">\n      <th></th>\n      <th>regiment</th>\n      <th>company</th>\n      <th>deaths</th>\n      <th>battles</th>\n      <th>size</th>\n      <th>veterans</th>\n      <th>readiness</th>\n      <th>armored</th>\n      <th>deserters</th>\n    </tr>\n    <tr>\n      <th>origin</th>\n      <th></th>\n      <th></th>\n      <th></th>\n      <th></th>\n      <th></th>\n      <th></th>\n      <th></th>\n      <th></th>\n      <th></th>\n    </tr>\n  </thead>\n  <tbody>\n    <tr>\n      <th>Arizona</th>\n      <td>Nighthawks</td>\n      <td>1st</td>\n      <td>523</td>\n      <td>5</td>\n      <td>1045</td>\n      <td>1</td>\n      <td>1</td>\n      <td>1</td>\n      <td>4</td>\n    </tr>\n    <tr>\n      <th>California</th>\n      <td>Nighthawks</td>\n      <td>1st</td>\n      <td>52</td>\n      <td>42</td>\n      <td>957</td>\n      <td>5</td>\n      <td>2</td>\n      <td>0</td>\n      <td>24</td>\n    </tr>\n    <tr>\n      <th>Florida</th>\n      <td>Nighthawks</td>\n      <td>2nd</td>\n      <td>616</td>\n      <td>2</td>\n      <td>1400</td>\n      <td>26</td>\n      <td>3</td>\n      <td>1</td>\n      <td>2</td>\n    </tr>\n    <tr>\n      <th>Iowa</th>\n      <td>Dragoons</td>\n      <td>1st</td>\n      <td>234</td>\n      <td>7</td>\n      <td>1006</td>\n      <td>37</td>\n      <td>1</td>\n      <td>1</td>\n      <td>4</td>\n    </tr>\n    <tr>\n      <th>Alaska</th>\n      <td>Dragoons</td>\n      <td>2nd</td>\n      <td>523</td>\n      <td>8</td>\n      <td>987</td>\n      <td>949</td>\n      <td>2</td>\n      <td>0</td>\n      <td>24</td>\n    </tr>\n    <tr>\n      <th>Washington</th>\n      <td>Dragoons</td>\n      <td>2nd</td>\n      <td>62</td>\n      <td>3</td>\n      <td>849</td>\n      <td>48</td>\n      <td>3</td>\n      <td>1</td>\n      <td>31</td>\n    </tr>\n    <tr>\n      <th>Oregon</th>\n      <td>Scouts</td>\n      <td>1st</td>\n      <td>62</td>\n      <td>4</td>\n      <td>973</td>\n      <td>48</td>\n      <td>2</td>\n      <td>0</td>\n      <td>2</td>\n    </tr>\n    <tr>\n      <th>Wyoming</th>\n      <td>Scouts</td>\n      <td>1st</td>\n      <td>73</td>\n      <td>7</td>\n      <td>1005</td>\n      <td>435</td>\n      <td>1</td>\n      <td>0</td>\n      <td>3</td>\n    </tr>\n  </tbody>\n</table>\n</div>"
     },
     "execution_count": 23,
     "metadata": {},
     "output_type": "execute_result"
    }
   ],
   "source": [
    "army[army[\"deaths\"] > 50]"
   ],
   "metadata": {
    "collapsed": false
   }
  },
  {
   "cell_type": "markdown",
   "source": [
    "### Step 14. Select rows where df.deaths is greater than 500 or less than 50\n",
    "\n"
   ],
   "metadata": {
    "collapsed": false
   }
  },
  {
   "cell_type": "code",
   "execution_count": 24,
   "outputs": [
    {
     "data": {
      "text/plain": "            regiment company  deaths  battles  size  veterans  readiness  \\\norigin                                                                     \nArizona   Nighthawks     1st     523        5  1045         1          1   \nTexas     Nighthawks     2nd      25        2  1099        62          3   \nFlorida   Nighthawks     2nd     616        2  1400        26          3   \nMaine       Dragoons     1st      43        4  1592        73          2   \nAlaska      Dragoons     2nd     523        8   987       949          2   \nLouisana      Scouts     2nd      37        8  1099        63          2   \nGeorgia       Scouts     2nd      35        9  1523       345          3   \n\n          armored  deserters  \norigin                        \nArizona         1          4  \nTexas           1         31  \nFlorida         1          2  \nMaine           0          3  \nAlaska          0         24  \nLouisana        1          2  \nGeorgia         1          3  ",
      "text/html": "<div>\n<style scoped>\n    .dataframe tbody tr th:only-of-type {\n        vertical-align: middle;\n    }\n\n    .dataframe tbody tr th {\n        vertical-align: top;\n    }\n\n    .dataframe thead th {\n        text-align: right;\n    }\n</style>\n<table border=\"1\" class=\"dataframe\">\n  <thead>\n    <tr style=\"text-align: right;\">\n      <th></th>\n      <th>regiment</th>\n      <th>company</th>\n      <th>deaths</th>\n      <th>battles</th>\n      <th>size</th>\n      <th>veterans</th>\n      <th>readiness</th>\n      <th>armored</th>\n      <th>deserters</th>\n    </tr>\n    <tr>\n      <th>origin</th>\n      <th></th>\n      <th></th>\n      <th></th>\n      <th></th>\n      <th></th>\n      <th></th>\n      <th></th>\n      <th></th>\n      <th></th>\n    </tr>\n  </thead>\n  <tbody>\n    <tr>\n      <th>Arizona</th>\n      <td>Nighthawks</td>\n      <td>1st</td>\n      <td>523</td>\n      <td>5</td>\n      <td>1045</td>\n      <td>1</td>\n      <td>1</td>\n      <td>1</td>\n      <td>4</td>\n    </tr>\n    <tr>\n      <th>Texas</th>\n      <td>Nighthawks</td>\n      <td>2nd</td>\n      <td>25</td>\n      <td>2</td>\n      <td>1099</td>\n      <td>62</td>\n      <td>3</td>\n      <td>1</td>\n      <td>31</td>\n    </tr>\n    <tr>\n      <th>Florida</th>\n      <td>Nighthawks</td>\n      <td>2nd</td>\n      <td>616</td>\n      <td>2</td>\n      <td>1400</td>\n      <td>26</td>\n      <td>3</td>\n      <td>1</td>\n      <td>2</td>\n    </tr>\n    <tr>\n      <th>Maine</th>\n      <td>Dragoons</td>\n      <td>1st</td>\n      <td>43</td>\n      <td>4</td>\n      <td>1592</td>\n      <td>73</td>\n      <td>2</td>\n      <td>0</td>\n      <td>3</td>\n    </tr>\n    <tr>\n      <th>Alaska</th>\n      <td>Dragoons</td>\n      <td>2nd</td>\n      <td>523</td>\n      <td>8</td>\n      <td>987</td>\n      <td>949</td>\n      <td>2</td>\n      <td>0</td>\n      <td>24</td>\n    </tr>\n    <tr>\n      <th>Louisana</th>\n      <td>Scouts</td>\n      <td>2nd</td>\n      <td>37</td>\n      <td>8</td>\n      <td>1099</td>\n      <td>63</td>\n      <td>2</td>\n      <td>1</td>\n      <td>2</td>\n    </tr>\n    <tr>\n      <th>Georgia</th>\n      <td>Scouts</td>\n      <td>2nd</td>\n      <td>35</td>\n      <td>9</td>\n      <td>1523</td>\n      <td>345</td>\n      <td>3</td>\n      <td>1</td>\n      <td>3</td>\n    </tr>\n  </tbody>\n</table>\n</div>"
     },
     "execution_count": 24,
     "metadata": {},
     "output_type": "execute_result"
    }
   ],
   "source": [
    "army[(army[\"deaths\"] > 500) | (army[\"deaths\"] < 50)]\n"
   ],
   "metadata": {
    "collapsed": false
   }
  },
  {
   "cell_type": "markdown",
   "source": [
    "### Step 15. Present only the Shooting Accuracy from England, Italy and Russia\n"
   ],
   "metadata": {
    "collapsed": false
   }
  },
  {
   "cell_type": "code",
   "execution_count": 25,
   "outputs": [
    {
     "data": {
      "text/plain": "              regiment company  deaths  battles  size  veterans  readiness  \\\norigin                                                                       \nArizona     Nighthawks     1st     523        5  1045         1          1   \nCalifornia  Nighthawks     1st      52       42   957         5          2   \nTexas       Nighthawks     2nd      25        2  1099        62          3   \nFlorida     Nighthawks     2nd     616        2  1400        26          3   \nOregon          Scouts     1st      62        4   973        48          2   \nWyoming         Scouts     1st      73        7  1005       435          1   \nLouisana        Scouts     2nd      37        8  1099        63          2   \nGeorgia         Scouts     2nd      35        9  1523       345          3   \n\n            armored  deserters  \norigin                          \nArizona           1          4  \nCalifornia        0         24  \nTexas             1         31  \nFlorida           1          2  \nOregon            0          2  \nWyoming           0          3  \nLouisana          1          2  \nGeorgia           1          3  ",
      "text/html": "<div>\n<style scoped>\n    .dataframe tbody tr th:only-of-type {\n        vertical-align: middle;\n    }\n\n    .dataframe tbody tr th {\n        vertical-align: top;\n    }\n\n    .dataframe thead th {\n        text-align: right;\n    }\n</style>\n<table border=\"1\" class=\"dataframe\">\n  <thead>\n    <tr style=\"text-align: right;\">\n      <th></th>\n      <th>regiment</th>\n      <th>company</th>\n      <th>deaths</th>\n      <th>battles</th>\n      <th>size</th>\n      <th>veterans</th>\n      <th>readiness</th>\n      <th>armored</th>\n      <th>deserters</th>\n    </tr>\n    <tr>\n      <th>origin</th>\n      <th></th>\n      <th></th>\n      <th></th>\n      <th></th>\n      <th></th>\n      <th></th>\n      <th></th>\n      <th></th>\n      <th></th>\n    </tr>\n  </thead>\n  <tbody>\n    <tr>\n      <th>Arizona</th>\n      <td>Nighthawks</td>\n      <td>1st</td>\n      <td>523</td>\n      <td>5</td>\n      <td>1045</td>\n      <td>1</td>\n      <td>1</td>\n      <td>1</td>\n      <td>4</td>\n    </tr>\n    <tr>\n      <th>California</th>\n      <td>Nighthawks</td>\n      <td>1st</td>\n      <td>52</td>\n      <td>42</td>\n      <td>957</td>\n      <td>5</td>\n      <td>2</td>\n      <td>0</td>\n      <td>24</td>\n    </tr>\n    <tr>\n      <th>Texas</th>\n      <td>Nighthawks</td>\n      <td>2nd</td>\n      <td>25</td>\n      <td>2</td>\n      <td>1099</td>\n      <td>62</td>\n      <td>3</td>\n      <td>1</td>\n      <td>31</td>\n    </tr>\n    <tr>\n      <th>Florida</th>\n      <td>Nighthawks</td>\n      <td>2nd</td>\n      <td>616</td>\n      <td>2</td>\n      <td>1400</td>\n      <td>26</td>\n      <td>3</td>\n      <td>1</td>\n      <td>2</td>\n    </tr>\n    <tr>\n      <th>Oregon</th>\n      <td>Scouts</td>\n      <td>1st</td>\n      <td>62</td>\n      <td>4</td>\n      <td>973</td>\n      <td>48</td>\n      <td>2</td>\n      <td>0</td>\n      <td>2</td>\n    </tr>\n    <tr>\n      <th>Wyoming</th>\n      <td>Scouts</td>\n      <td>1st</td>\n      <td>73</td>\n      <td>7</td>\n      <td>1005</td>\n      <td>435</td>\n      <td>1</td>\n      <td>0</td>\n      <td>3</td>\n    </tr>\n    <tr>\n      <th>Louisana</th>\n      <td>Scouts</td>\n      <td>2nd</td>\n      <td>37</td>\n      <td>8</td>\n      <td>1099</td>\n      <td>63</td>\n      <td>2</td>\n      <td>1</td>\n      <td>2</td>\n    </tr>\n    <tr>\n      <th>Georgia</th>\n      <td>Scouts</td>\n      <td>2nd</td>\n      <td>35</td>\n      <td>9</td>\n      <td>1523</td>\n      <td>345</td>\n      <td>3</td>\n      <td>1</td>\n      <td>3</td>\n    </tr>\n  </tbody>\n</table>\n</div>"
     },
     "execution_count": 25,
     "metadata": {},
     "output_type": "execute_result"
    }
   ],
   "source": [
    "army[army[\"regiment\"] != \"Dragoons\"]\n"
   ],
   "metadata": {
    "collapsed": false
   }
  },
  {
   "cell_type": "markdown",
   "source": [
    "### Step 16. Select the rows called Texas and Arizona\n"
   ],
   "metadata": {
    "collapsed": false
   }
  },
  {
   "cell_type": "code",
   "execution_count": 28,
   "outputs": [
    {
     "data": {
      "text/plain": "           regiment company  deaths  battles  size  veterans  readiness  \\\norigin                                                                    \nTexas    Nighthawks     2nd      25        2  1099        62          3   \nArizona  Nighthawks     1st     523        5  1045         1          1   \n\n         armored  deserters  \norigin                       \nTexas          1         31  \nArizona        1          4  ",
      "text/html": "<div>\n<style scoped>\n    .dataframe tbody tr th:only-of-type {\n        vertical-align: middle;\n    }\n\n    .dataframe tbody tr th {\n        vertical-align: top;\n    }\n\n    .dataframe thead th {\n        text-align: right;\n    }\n</style>\n<table border=\"1\" class=\"dataframe\">\n  <thead>\n    <tr style=\"text-align: right;\">\n      <th></th>\n      <th>regiment</th>\n      <th>company</th>\n      <th>deaths</th>\n      <th>battles</th>\n      <th>size</th>\n      <th>veterans</th>\n      <th>readiness</th>\n      <th>armored</th>\n      <th>deserters</th>\n    </tr>\n    <tr>\n      <th>origin</th>\n      <th></th>\n      <th></th>\n      <th></th>\n      <th></th>\n      <th></th>\n      <th></th>\n      <th></th>\n      <th></th>\n      <th></th>\n    </tr>\n  </thead>\n  <tbody>\n    <tr>\n      <th>Texas</th>\n      <td>Nighthawks</td>\n      <td>2nd</td>\n      <td>25</td>\n      <td>2</td>\n      <td>1099</td>\n      <td>62</td>\n      <td>3</td>\n      <td>1</td>\n      <td>31</td>\n    </tr>\n    <tr>\n      <th>Arizona</th>\n      <td>Nighthawks</td>\n      <td>1st</td>\n      <td>523</td>\n      <td>5</td>\n      <td>1045</td>\n      <td>1</td>\n      <td>1</td>\n      <td>1</td>\n      <td>4</td>\n    </tr>\n  </tbody>\n</table>\n</div>"
     },
     "execution_count": 28,
     "metadata": {},
     "output_type": "execute_result"
    }
   ],
   "source": [
    "army.loc[[\"Texas\", \"Arizona\"], :]\n"
   ],
   "metadata": {
    "collapsed": false
   }
  },
  {
   "cell_type": "markdown",
   "source": [
    "### Step 17. Select the third cell in the row named Arizona\n"
   ],
   "metadata": {
    "collapsed": false
   }
  },
  {
   "cell_type": "code",
   "execution_count": 26,
   "outputs": [
    {
     "data": {
      "text/plain": "origin\nArizona    523\nName: deaths, dtype: int64"
     },
     "execution_count": 26,
     "metadata": {},
     "output_type": "execute_result"
    }
   ],
   "source": [
    "army.loc[[\"Arizona\"]].iloc[:, 2]\n"
   ],
   "metadata": {
    "collapsed": false
   }
  },
  {
   "cell_type": "markdown",
   "source": [
    "### Step 18. Select the third cell down in the column named deaths\n"
   ],
   "metadata": {
    "collapsed": false
   }
  },
  {
   "cell_type": "code",
   "execution_count": 27,
   "outputs": [
    {
     "data": {
      "text/plain": "deaths    25\nName: Texas, dtype: int64"
     },
     "execution_count": 27,
     "metadata": {},
     "output_type": "execute_result"
    }
   ],
   "source": [
    "army.loc[:, [\"deaths\"]].iloc[2]\n"
   ],
   "metadata": {
    "collapsed": false
   }
  },
  {
   "cell_type": "markdown",
   "source": [],
   "metadata": {
    "collapsed": false
   }
  }
 ],
 "metadata": {
  "kernelspec": {
   "display_name": "Python 3",
   "language": "python",
   "name": "python3"
  },
  "language_info": {
   "codemirror_mode": {
    "name": "ipython",
    "version": 3
   },
   "file_extension": ".py",
   "mimetype": "text/x-python",
   "name": "python",
   "nbconvert_exporter": "python",
   "pygments_lexer": "ipython3",
   "version": "3.6.3"
  }
 },
 "nbformat": 4,
 "nbformat_minor": 1
}
