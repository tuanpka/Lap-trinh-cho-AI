{
 "cells": [
  {
   "cell_type": "markdown",
   "source": [
    "Pokemon"
   ],
   "metadata": {
    "collapsed": false
   }
  },
  {
   "cell_type": "markdown",
   "source": [
    "Step 1. Import the necessary libraries\n"
   ],
   "metadata": {
    "collapsed": false
   }
  },
  {
   "cell_type": "code",
   "execution_count": 1,
   "outputs": [],
   "source": [
    "import pandas as pd\n",
    "import numpy as np"
   ],
   "metadata": {
    "collapsed": false
   }
  },
  {
   "cell_type": "markdown",
   "source": [
    "Step 2. Create a data dictionary that looks like the DataFrame below\n"
   ],
   "metadata": {
    "collapsed": false
   }
  },
  {
   "cell_type": "code",
   "execution_count": 2,
   "outputs": [],
   "source": [
    "dictionary = {'evolution': ['Ivysaur', 'Charmeleon', 'Wartortle', 'Metapod']\n",
    "    , 'hp': [45, 39, 44, 45]\n",
    "    , 'name': ['Bulbasaur', 'Charmander', 'Squirtle', 'Caterpie']\n",
    "    , 'pokedex': [True, False, True, False]\n",
    "    , 'type': ['grass', 'fire', 'water', 'bug']}"
   ],
   "metadata": {
    "collapsed": false
   }
  },
  {
   "cell_type": "markdown",
   "source": [
    "Step 3. Assign it to a variable called pokemon\n"
   ],
   "metadata": {
    "collapsed": false
   }
  },
  {
   "cell_type": "code",
   "execution_count": 3,
   "outputs": [],
   "source": [
    "pokemon = pd.DataFrame(dictionary)"
   ],
   "metadata": {
    "collapsed": false
   }
  },
  {
   "cell_type": "code",
   "execution_count": 4,
   "outputs": [
    {
     "data": {
      "text/plain": "    evolution  hp        name  pokedex   type\n0     Ivysaur  45   Bulbasaur     True  grass\n1  Charmeleon  39  Charmander    False   fire\n2   Wartortle  44    Squirtle     True  water\n3     Metapod  45    Caterpie    False    bug",
      "text/html": "<div>\n<style scoped>\n    .dataframe tbody tr th:only-of-type {\n        vertical-align: middle;\n    }\n\n    .dataframe tbody tr th {\n        vertical-align: top;\n    }\n\n    .dataframe thead th {\n        text-align: right;\n    }\n</style>\n<table border=\"1\" class=\"dataframe\">\n  <thead>\n    <tr style=\"text-align: right;\">\n      <th></th>\n      <th>evolution</th>\n      <th>hp</th>\n      <th>name</th>\n      <th>pokedex</th>\n      <th>type</th>\n    </tr>\n  </thead>\n  <tbody>\n    <tr>\n      <th>0</th>\n      <td>Ivysaur</td>\n      <td>45</td>\n      <td>Bulbasaur</td>\n      <td>True</td>\n      <td>grass</td>\n    </tr>\n    <tr>\n      <th>1</th>\n      <td>Charmeleon</td>\n      <td>39</td>\n      <td>Charmander</td>\n      <td>False</td>\n      <td>fire</td>\n    </tr>\n    <tr>\n      <th>2</th>\n      <td>Wartortle</td>\n      <td>44</td>\n      <td>Squirtle</td>\n      <td>True</td>\n      <td>water</td>\n    </tr>\n    <tr>\n      <th>3</th>\n      <td>Metapod</td>\n      <td>45</td>\n      <td>Caterpie</td>\n      <td>False</td>\n      <td>bug</td>\n    </tr>\n  </tbody>\n</table>\n</div>"
     },
     "execution_count": 4,
     "metadata": {},
     "output_type": "execute_result"
    }
   ],
   "source": [
    "pokemon"
   ],
   "metadata": {
    "collapsed": false
   }
  },
  {
   "cell_type": "markdown",
   "source": [
    "Step 4. Ops...it seems the DataFrame columns are in alphabetical order. Place the order of the columns as name, type, hp, evolution, pokedex"
   ],
   "metadata": {
    "collapsed": false
   }
  },
  {
   "cell_type": "code",
   "execution_count": 7,
   "outputs": [
    {
     "data": {
      "text/plain": "         name   type  hp   evolution  pokedex\n0   Bulbasaur  grass  45     Ivysaur     True\n1  Charmander   fire  39  Charmeleon    False\n2    Squirtle  water  44   Wartortle     True\n3    Caterpie    bug  45     Metapod    False",
      "text/html": "<div>\n<style scoped>\n    .dataframe tbody tr th:only-of-type {\n        vertical-align: middle;\n    }\n\n    .dataframe tbody tr th {\n        vertical-align: top;\n    }\n\n    .dataframe thead th {\n        text-align: right;\n    }\n</style>\n<table border=\"1\" class=\"dataframe\">\n  <thead>\n    <tr style=\"text-align: right;\">\n      <th></th>\n      <th>name</th>\n      <th>type</th>\n      <th>hp</th>\n      <th>evolution</th>\n      <th>pokedex</th>\n    </tr>\n  </thead>\n  <tbody>\n    <tr>\n      <th>0</th>\n      <td>Bulbasaur</td>\n      <td>grass</td>\n      <td>45</td>\n      <td>Ivysaur</td>\n      <td>True</td>\n    </tr>\n    <tr>\n      <th>1</th>\n      <td>Charmander</td>\n      <td>fire</td>\n      <td>39</td>\n      <td>Charmeleon</td>\n      <td>False</td>\n    </tr>\n    <tr>\n      <th>2</th>\n      <td>Squirtle</td>\n      <td>water</td>\n      <td>44</td>\n      <td>Wartortle</td>\n      <td>True</td>\n    </tr>\n    <tr>\n      <th>3</th>\n      <td>Caterpie</td>\n      <td>bug</td>\n      <td>45</td>\n      <td>Metapod</td>\n      <td>False</td>\n    </tr>\n  </tbody>\n</table>\n</div>"
     },
     "execution_count": 7,
     "metadata": {},
     "output_type": "execute_result"
    }
   ],
   "source": [
    "pokemon = pokemon[['name', 'type', 'hp', 'evolution', 'pokedex']]\n",
    "pokemon"
   ],
   "metadata": {
    "collapsed": false
   }
  },
  {
   "cell_type": "markdown",
   "source": [
    "Step 5. Add another column called place, and insert what you have in mind.\n"
   ],
   "metadata": {
    "collapsed": false
   }
  },
  {
   "cell_type": "code",
   "execution_count": 9,
   "outputs": [
    {
     "data": {
      "text/plain": "         name   type  hp   evolution  pokedex     place language\n0   Bulbasaur  grass  45     Ivysaur     True      bush   python\n1  Charmander   fire  39  Charmeleon    False   volcano     java\n2    Squirtle  water  44   Wartortle     True      lake        c\n3    Caterpie    bug  45     Metapod    False  mountain      c++",
      "text/html": "<div>\n<style scoped>\n    .dataframe tbody tr th:only-of-type {\n        vertical-align: middle;\n    }\n\n    .dataframe tbody tr th {\n        vertical-align: top;\n    }\n\n    .dataframe thead th {\n        text-align: right;\n    }\n</style>\n<table border=\"1\" class=\"dataframe\">\n  <thead>\n    <tr style=\"text-align: right;\">\n      <th></th>\n      <th>name</th>\n      <th>type</th>\n      <th>hp</th>\n      <th>evolution</th>\n      <th>pokedex</th>\n      <th>place</th>\n      <th>language</th>\n    </tr>\n  </thead>\n  <tbody>\n    <tr>\n      <th>0</th>\n      <td>Bulbasaur</td>\n      <td>grass</td>\n      <td>45</td>\n      <td>Ivysaur</td>\n      <td>True</td>\n      <td>bush</td>\n      <td>python</td>\n    </tr>\n    <tr>\n      <th>1</th>\n      <td>Charmander</td>\n      <td>fire</td>\n      <td>39</td>\n      <td>Charmeleon</td>\n      <td>False</td>\n      <td>volcano</td>\n      <td>java</td>\n    </tr>\n    <tr>\n      <th>2</th>\n      <td>Squirtle</td>\n      <td>water</td>\n      <td>44</td>\n      <td>Wartortle</td>\n      <td>True</td>\n      <td>lake</td>\n      <td>c</td>\n    </tr>\n    <tr>\n      <th>3</th>\n      <td>Caterpie</td>\n      <td>bug</td>\n      <td>45</td>\n      <td>Metapod</td>\n      <td>False</td>\n      <td>mountain</td>\n      <td>c++</td>\n    </tr>\n  </tbody>\n</table>\n</div>"
     },
     "execution_count": 9,
     "metadata": {},
     "output_type": "execute_result"
    }
   ],
   "source": [
    "pokemon['language'] = ['python', 'java', 'c', 'c++']\n",
    "pokemon"
   ],
   "metadata": {
    "collapsed": false
   }
  },
  {
   "cell_type": "markdown",
   "source": [
    "Step 6. Display the data type of each column¶\n"
   ],
   "metadata": {
    "collapsed": false
   }
  },
  {
   "cell_type": "code",
   "execution_count": 10,
   "outputs": [
    {
     "data": {
      "text/plain": "name         object\ntype         object\nhp            int64\nevolution    object\npokedex        bool\nplace        object\nlanguage     object\ndtype: object"
     },
     "execution_count": 10,
     "metadata": {},
     "output_type": "execute_result"
    }
   ],
   "source": [
    "pokemon.dtypes"
   ],
   "metadata": {
    "collapsed": false
   }
  }
 ],
 "metadata": {
  "kernelspec": {
   "display_name": "Python 3",
   "language": "python",
   "name": "python3"
  },
  "language_info": {
   "codemirror_mode": {
    "name": "ipython",
    "version": 2
   },
   "file_extension": ".py",
   "mimetype": "text/x-python",
   "name": "python",
   "nbconvert_exporter": "python",
   "pygments_lexer": "ipython2",
   "version": "2.7.6"
  }
 },
 "nbformat": 4,
 "nbformat_minor": 0
}
