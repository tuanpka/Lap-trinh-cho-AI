{
  "nbformat": 4,
  "nbformat_minor": 0,
  "metadata": {
    "colab": {
      "provenance": []
    },
    "kernelspec": {
      "name": "python3",
      "display_name": "Python 3"
    },
    "language_info": {
      "name": "python"
    }
  },
  "cells": [
    {
      "cell_type": "markdown",
      "source": [
        "# Week 1"
      ],
      "metadata": {
        "id": "B6W_abHVsjOq"
      }
    },
    {
      "cell_type": "code",
      "execution_count": null,
      "metadata": {
        "colab": {
          "base_uri": "https://localhost:8080/"
        },
        "id": "wxuNKjzPiq_k",
        "outputId": "4b5a0ac5-d9f6-4064-dfe1-357e187ddbae"
      },
      "outputs": [
        {
          "output_type": "stream",
          "name": "stdout",
          "text": [
            "False\n",
            "True\n"
          ]
        }
      ],
      "source": [
        "#Bai 1\n",
        "#is prime\n",
        "\n",
        "def is_prime(n):\n",
        "\n",
        "    # n<2: always false\n",
        "\n",
        "    if n <= 1:\n",
        "        return False\n",
        "\n",
        "    # can bac 2 n\n",
        "    i = 2\n",
        "    while i * i <= n:\n",
        "        if n % i == 0:\n",
        "            return False\n",
        "        i += 1\n",
        "\n",
        "    return True\n",
        "\n",
        "# Test case\n",
        "print(is_prime(10))  #False\n",
        "print(is_prime(11))  #True"
      ]
    },
    {
      "cell_type": "code",
      "source": [
        "#Bai 2\n",
        "\n",
        "def is_prime(n):\n",
        "    if n <= 1:\n",
        "        return False\n",
        "    i = 2\n",
        "    while i * i <= n:\n",
        "        if n % i == 0:\n",
        "            return False\n",
        "        i += 1\n",
        "    return True\n",
        "\n",
        "def print_primes_in_range(A, B):\n",
        "    for num in range(A, B + 1):\n",
        "        if is_prime(num):\n",
        "            print(num)\n",
        "\n",
        "# Test case\n",
        "print_primes_in_range(10, 30)\n"
      ],
      "metadata": {
        "colab": {
          "base_uri": "https://localhost:8080/"
        },
        "id": "qcKPRO5dk4z4",
        "outputId": "05700661-399f-4bea-af23-34e7b52e672a"
      },
      "execution_count": null,
      "outputs": [
        {
          "output_type": "stream",
          "name": "stdout",
          "text": [
            "11\n",
            "13\n",
            "17\n",
            "19\n",
            "23\n",
            "29\n"
          ]
        }
      ]
    },
    {
      "cell_type": "code",
      "source": [
        "#Bai 3\n",
        "\n",
        "def gcd(a, b):\n",
        "    while b != 0:\n",
        "        a, b = b, a % b\n",
        "    return a\n",
        "\n",
        "def lcm(a, b):\n",
        "    return abs(a * b) // gcd(a, b)\n",
        "\n",
        "def calculate (A, B):\n",
        "    ucln = gcd(A, B)\n",
        "    bcnn= lcm(A, B)\n",
        "    print(f\"Ước chung lớn nhất của {A} và {B} là: {ucln}\")\n",
        "    print(f\"Bội chung nhỏ nhất của {A} và {B} là: {bcnn}\")\n",
        "\n",
        "# Test case\n",
        "calculate (12, 18)\n"
      ],
      "metadata": {
        "colab": {
          "base_uri": "https://localhost:8080/"
        },
        "id": "3ql1iXF5lrya",
        "outputId": "1560f8cf-b8a9-48ac-e27b-76e7beb15cf0"
      },
      "execution_count": null,
      "outputs": [
        {
          "output_type": "stream",
          "name": "stdout",
          "text": [
            "Ước chung lớn nhất của 12 và 18 là: 6\n",
            "Bội chung nhỏ nhất của 12 và 18 là: 36\n"
          ]
        }
      ]
    },
    {
      "cell_type": "code",
      "source": [
        "#Bai 4\n",
        "\n",
        "def gcd(a, b):\n",
        "    while b != 0:\n",
        "        a, b = b, a % b\n",
        "    return a\n",
        "\n",
        "def lcm(a, b):\n",
        "    return abs(a * b) // gcd(a, b)\n",
        "\n",
        "def calculate(numbers):\n",
        "    if not numbers:\n",
        "        return None, None\n",
        "    current_gcd = numbers[0]\n",
        "    current_lcm = numbers[0]\n",
        "    for num in numbers[1:]:\n",
        "        current_gcd = gcd(current_gcd, num)\n",
        "        current_lcm = lcm(current_lcm, num)\n",
        "    return current_gcd, current_lcm\n",
        "\n",
        "def main():\n",
        "    numbers = []\n",
        "    print(\"Nhập một số tự nhiên. Nhập số âm hoặc số 0 để kết thúc chương trình.\")\n",
        "    while True:\n",
        "        try:\n",
        "            num = int(input(\"Nhập một số tự nhiên: \"))\n",
        "            if num <= 0:\n",
        "                break\n",
        "            numbers.append(num)\n",
        "        except ValueError:\n",
        "            print(\"Nhập sai. Vui lòng nhập lại\")\n",
        "\n",
        "    if numbers:\n",
        "        gcd_value, lcm_value = calculate(numbers)\n",
        "        print(f\"Ước chung lớn nhất của các số là: {gcd_value}\")\n",
        "        print(f\"Bội chung nhỏ nhất của các số là: {lcm_value}\")\n",
        "    else:\n",
        "        print(\"Không có số tự nhiên nào.\")\n",
        "\n",
        "main()\n",
        "\n"
      ],
      "metadata": {
        "colab": {
          "base_uri": "https://localhost:8080/"
        },
        "id": "Px5c1awflr1I",
        "outputId": "f61766b5-2230-48e9-cdf4-36584d3956cd"
      },
      "execution_count": null,
      "outputs": [
        {
          "output_type": "stream",
          "name": "stdout",
          "text": [
            "Nhập một số tự nhiên. Nhập số âm hoặc số 0 để kết thúc chương trình.\n",
            "Nhập một số tự nhiên: 3\n",
            "Nhập một số tự nhiên: 6\n",
            "Nhập một số tự nhiên: 33\n",
            "Nhập một số tự nhiên: 0\n",
            "Ước chung lớn nhất của các số là: 3\n",
            "Bội chung nhỏ nhất của các số là: 66\n"
          ]
        }
      ]
    },
    {
      "cell_type": "code",
      "source": [
        "#Bai 5\n",
        "\n",
        "def main():\n",
        "    print(\"Nhập các số liên tục. Nhập '0' để dừng.\")\n",
        "    numbers = []\n",
        "    while True:\n",
        "        try:\n",
        "            num = int(input(\"Nhập số: \"))\n",
        "            if num == 0:\n",
        "                break\n",
        "            numbers.append(num)\n",
        "        except ValueError:\n",
        "            print(\"Dữ liệu không hợp lệ. Vui lòng nhập số nguyên hợp lệ.\")\n",
        "\n",
        "    if numbers:\n",
        "        min_value = min(numbers)\n",
        "        max_value = max(numbers)\n",
        "        num_count = len(numbers)\n",
        "        print(f\"Số lượng số đã nhập: {num_count}\")\n",
        "        print(f\"Giá trị nhỏ nhất: {min_value}\")\n",
        "        print(f\"Giá trị lớn nhất: {max_value}\")\n",
        "    else:\n",
        "        print(\"Không có số nào được nhập trước khi dừng.\")\n",
        "\n",
        "main()\n"
      ],
      "metadata": {
        "id": "VMH-JZ5dlr3j",
        "colab": {
          "base_uri": "https://localhost:8080/"
        },
        "outputId": "3a8842b7-6ae8-4aee-b058-2b6ea2475867"
      },
      "execution_count": 6,
      "outputs": [
        {
          "output_type": "stream",
          "name": "stdout",
          "text": [
            "Nhập các số liên tục. Nhập '0' để dừng.\n",
            "Nhập số: 10\n",
            "Nhập số: 25\n",
            "Nhập số: 50\n",
            "Nhập số: 100\n",
            "Nhập số: 0\n",
            "Số lượng số đã nhập: 4\n",
            "Giá trị nhỏ nhất: 10\n",
            "Giá trị lớn nhất: 100\n"
          ]
        }
      ]
    },
    {
      "cell_type": "markdown",
      "source": [
        "# Xử lý chuỗi"
      ],
      "metadata": {
        "id": "vW9plZp-t5hO"
      }
    },
    {
      "cell_type": "code",
      "source": [
        "#Bai 5\n",
        "\n",
        "def main():\n",
        "    print(\"Nhập danh sách các từ cách nhau bởi dấu cách:\")\n",
        "    words = input().split()\n",
        "    max_length = max(len(word) for word in words)\n",
        "    longest_words = [word for word in words if len(word) == max_length]\n",
        "\n",
        "    print(\"Từ dài nhất:\")\n",
        "    for word in longest_words:\n",
        "        print(word)\n",
        "\n",
        "main()\n"
      ],
      "metadata": {
        "colab": {
          "base_uri": "https://localhost:8080/"
        },
        "id": "hAjxrP1rt-VN",
        "outputId": "34c2b557-77d8-431a-8574-874126c6fff9"
      },
      "execution_count": 19,
      "outputs": [
        {
          "output_type": "stream",
          "name": "stdout",
          "text": [
            "Nhập danh sách các từ cách nhau bởi dấu cách:\n",
            "google facebook deep learning big data\n",
            "Từ dài nhất:\n",
            "facebook\n",
            "learning\n"
          ]
        }
      ]
    },
    {
      "cell_type": "code",
      "source": [
        "# Bài 6: Viết chương trình nhập một dãy các từ từ bàn phím, thống kê xem có những chữ cái nào xuất hiện trong dãy và mỗi chữ xuất hiện bao nhiêu lần.\n",
        "\n",
        "from collections import Counter\n",
        "\n",
        "def count_letters_in_words(words):\n",
        "    # Nối tất cả các từ để tạo thành 1 string và chuyển về chữ thường\n",
        "    all_letters = ''.join(words).lower()\n",
        "    # Tạo bộ đếm cho các chữ cái\n",
        "    letter_counts = Counter(c for c in all_letters if c.isalpha())\n",
        "    return letter_counts\n",
        "\n",
        "# Input\n",
        "def word_input():\n",
        "    # Test case\n",
        "    input_words = \"Viet Nam is the best country in the world\"\n",
        "    words = input_words.split()\n",
        "    return words\n",
        "\n",
        "words_from_user = word_input()\n",
        "letter_count = count_letters_in_words(words_from_user)\n",
        "print(letter_count)\n"
      ],
      "metadata": {
        "id": "ApRKSVWQuBC9",
        "colab": {
          "base_uri": "https://localhost:8080/"
        },
        "outputId": "4ae86dea-4201-4f5d-99f6-cbd57ed05fd5"
      },
      "execution_count": 18,
      "outputs": [
        {
          "output_type": "stream",
          "name": "stdout",
          "text": [
            "Counter({'t': 5, 'e': 4, 'i': 3, 'n': 3, 's': 2, 'h': 2, 'o': 2, 'r': 2, 'v': 1, 'a': 1, 'm': 1, 'b': 1, 'c': 1, 'u': 1, 'y': 1, 'w': 1, 'l': 1, 'd': 1})\n"
          ]
        }
      ]
    },
    {
      "cell_type": "code",
      "source": [
        "# Bài 7: Nhập chuỗi S gồm toàn chữ số và số nguyên N, chỉ ra cách xoá đúng N kí tự khỏi S để được số có giá trị lớn nhất.\n",
        "\n",
        "def max_number(s, n):\n",
        "\n",
        "    # Nếu xoá tất cả thì chỉ còn số 0\n",
        "    if n == len(s):\n",
        "        return '0'\n",
        "\n",
        "    stack = []\n",
        "    for digit in s:\n",
        "        while stack and n > 0 and stack[-1] < digit:\n",
        "            stack.pop()\n",
        "            n -= 1\n",
        "        stack.append(digit)\n",
        "\n",
        "    return ''.join(stack[:-n] if n else stack)\n",
        "\n",
        "#Test case\n",
        "s_input = input(\"Điền vào chuỗi: \")\n",
        "n_input = int(input(\"Nhập số nguyên N: \"))\n",
        "print(max_number(s_input, n_input))\n",
        "\n",
        "\n"
      ],
      "metadata": {
        "colab": {
          "base_uri": "https://localhost:8080/"
        },
        "id": "Q0zGLqSr6F9_",
        "outputId": "f90295e6-5a8d-4e49-9e69-563ebdbd6e56"
      },
      "execution_count": 13,
      "outputs": [
        {
          "output_type": "stream",
          "name": "stdout",
          "text": [
            "Điền vào chuỗi số: 654321\n",
            "Nhập số nguyên N: 2\n",
            "6543\n"
          ]
        }
      ]
    },
    {
      "cell_type": "code",
      "source": [
        "# Bài 8: Nhập chuỗi S, hãy thay thế tất cả các chữ số trong S bằng kí tự hỏi chấm (?), sau đó in lại S ra màn hình.\n",
        "\n",
        "def replace_digits(s):\n",
        "\n",
        "    return ''.join('?' if char.isdigit() else char for char in s)\n",
        "\n",
        "# Test case:\n",
        "s_input = input(\"Điền vào chuỗi: \")\n",
        "print(replace_digits(s_input))\n"
      ],
      "metadata": {
        "colab": {
          "base_uri": "https://localhost:8080/"
        },
        "id": "LQNFJUi46GFH",
        "outputId": "716da63b-3f2b-44bb-9230-d4e4c08eebea"
      },
      "execution_count": 22,
      "outputs": [
        {
          "output_type": "stream",
          "name": "stdout",
          "text": [
            "Điền vào chuỗi: VietNam0987654321\n",
            "VietNam??????????\n"
          ]
        }
      ]
    },
    {
      "cell_type": "code",
      "source": [
        "# Bài 9: Nhập chuỗi S, kiểm tra xem chuỗi S có là dạng đối xứng hay không?\n",
        "\n",
        "def doixung(s):\n",
        "\n",
        "    # Xoá các ký tự không phải chữ và số, chuyển thành chữ thường\n",
        "    s = ''.join(char for char in s if char.isalnum()).lower()\n",
        "    # So sánh chuỗi với số đảo ngược\n",
        "    return s == s[::-1]\n",
        "\n",
        "# Test case:\n",
        "s_input = input(\"Điền vào chuỗi: \")\n",
        "print(\"Đối Xứng\" if doixung(s_input) else \"Không đối xứng\")\n"
      ],
      "metadata": {
        "colab": {
          "base_uri": "https://localhost:8080/"
        },
        "id": "Ivkm2QtR6GHy",
        "outputId": "52bf9ac7-fed2-42bc-c4d2-4bcbe7681f74"
      },
      "execution_count": 17,
      "outputs": [
        {
          "output_type": "stream",
          "name": "stdout",
          "text": [
            "Điền vào chuỗi: 1234554321\n",
            "Đối Xứng\n"
          ]
        }
      ]
    }
  ]
}
