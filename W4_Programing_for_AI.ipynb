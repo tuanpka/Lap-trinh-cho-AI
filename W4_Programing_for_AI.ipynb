{
  "nbformat": 4,
  "nbformat_minor": 0,
  "metadata": {
    "colab": {
      "provenance": []
    },
    "kernelspec": {
      "name": "python3",
      "display_name": "Python 3"
    },
    "language_info": {
      "name": "python"
    }
  },
  "cells": [
    {
      "cell_type": "markdown",
      "source": [
        "**Numpy (Practice)**\n",
        "\n",
        "---\n",
        "\n",
        "\n",
        "\n",
        "Lecturer: **Nguyen Van Thieu**"
      ],
      "metadata": {
        "id": "2SaIzCJDUpFu"
      }
    },
    {
      "cell_type": "markdown",
      "source": [
        "# Bài tập"
      ],
      "metadata": {
        "id": "4Cxd1zj0Mg7r"
      }
    },
    {
      "cell_type": "markdown",
      "source": [
        "## Bài tập 1: Tạo mảng\n",
        "Tạo các mảng NumPy như sau:\n",
        "\n",
        "1) Tạo một mảng một chiều chứa các số từ 1 đến 10.\n",
        "\n",
        "2) Tạo một mảng 2x3 chứa các số nguyên ngẫu nhiên từ 1 đến 10.\n",
        "\n",
        "3) Tạo ma trận đơn vị kích thước 3x3.\n",
        "\n",
        "4) Tạo mảng 4 chiều có kích thước là 3x2x5x4. Giá trị là các số ngẫu nhiên từ -1 đến 2.\n"
      ],
      "metadata": {
        "id": "tE8BmT42SSgs"
      }
    },
    {
      "cell_type": "code",
      "source": [
        "import numpy as np\n",
        "one_dim_array = np.arange(1, 11)\n",
        "print(\"Mảng 1 chiều:\\n\", one_dim_array, \"\\n\")\n",
        "\n",
        "two_dim_array = np.random.randint(1, 11, size=(2, 3))\n",
        "print(\"Mảng 2 chiều:\\n\", two_dim_array, \"\\n\")\n",
        "\n",
        "identity_matrix = np.eye(3)\n",
        "print(\"Ma trận đơn vị:\\n\", identity_matrix, \"\\n\")\n",
        "\n",
        "four_dim_array = np.random.randint(-1, 3, size=(3, 2, 5, 4))\n",
        "print(\"Mảng 4 chiều:\\n\", four_dim_array, \"\\n\")\n"
      ],
      "metadata": {
        "colab": {
          "base_uri": "https://localhost:8080/"
        },
        "id": "dU1J7fwgk_1e",
        "outputId": "275c933e-756d-4bef-fd04-d980633036bc"
      },
      "execution_count": 2,
      "outputs": [
        {
          "output_type": "stream",
          "name": "stdout",
          "text": [
            "Mảng 1 chiều:\n",
            " [ 1  2  3  4  5  6  7  8  9 10] \n",
            "\n",
            "Mảng 2 chiều:\n",
            " [[1 1 9]\n",
            " [2 9 4]] \n",
            "\n",
            "Ma trận đơn vị:\n",
            " [[1. 0. 0.]\n",
            " [0. 1. 0.]\n",
            " [0. 0. 1.]] \n",
            "\n",
            "Mảng 4 chiều:\n",
            " [[[[-1 -1  1 -1]\n",
            "   [ 2  2 -1  2]\n",
            "   [ 2  2  1  2]\n",
            "   [-1  0  2  2]\n",
            "   [ 1  1  1  0]]\n",
            "\n",
            "  [[ 2  0  0 -1]\n",
            "   [ 2  1  0 -1]\n",
            "   [ 2  2  0  2]\n",
            "   [ 0  0 -1 -1]\n",
            "   [ 0  0  1  1]]]\n",
            "\n",
            "\n",
            " [[[-1  2 -1  1]\n",
            "   [ 2  2  0 -1]\n",
            "   [ 1  2 -1  1]\n",
            "   [ 2  2 -1 -1]\n",
            "   [ 0  0 -1 -1]]\n",
            "\n",
            "  [[ 0  2  1 -1]\n",
            "   [ 1 -1  0  2]\n",
            "   [-1  0  1  2]\n",
            "   [-1 -1  1  2]\n",
            "   [-1  2 -1  0]]]\n",
            "\n",
            "\n",
            " [[[ 1  0 -1  1]\n",
            "   [-1 -1 -1  1]\n",
            "   [ 0  1  2  0]\n",
            "   [-1  1  2  1]\n",
            "   [ 1  0  1  1]]\n",
            "\n",
            "  [[ 1  0 -1  2]\n",
            "   [ 1 -1  0  1]\n",
            "   [ 1  2 -1  2]\n",
            "   [-1  2 -1  2]\n",
            "   [ 0  1  0 -1]]]] \n",
            "\n"
          ]
        }
      ]
    },
    {
      "cell_type": "markdown",
      "source": [
        "## Bài tập 2: Chỉ mục và cắt mảng\n",
        "Cho mảng arr = np.array([[1, 2, 3], [4, 5, 6], [7, 8, 9]]), thực hiện các thao tác sau:\n",
        "\n",
        "1) In ra phần tử ở hàng thứ hai, cột thứ ba.\n",
        "\n",
        "2) Cắt lấy hai hàng đầu tiên của mảng.\n",
        "\n",
        "3) Trích xuất cột cuối cùng của mảng.\n",
        "\n",
        "4) Lấy ra ma trận vuông [[1, 3], [7, 9]]\n",
        "\n"
      ],
      "metadata": {
        "id": "K9-j6bqCSsVM"
      }
    },
    {
      "cell_type": "code",
      "source": [
        "# array\n",
        "arr = np.array([[1, 2, 3], [4, 5, 6], [7, 8, 9]])\n",
        "\n",
        "# Task 1:\n",
        "print(\"Phần tử ở hàng thứ hai, cột thứ ba:\", arr[1, 2])\n",
        "\n",
        "# Task 2:\n",
        "print(\"Hai hàng đầu tiên của mảng:\", arr[:2])\n",
        "\n",
        "# Task 3:\n",
        "print(\"Cột cuối cùng của mảng:\", arr[:, -1])\n",
        "\n",
        "# Task 4:\n",
        "print(\"Ma trận vuông [[1, 3], [7, 9]]:\", arr[[0, 2]][:, [0, 2]])"
      ],
      "metadata": {
        "colab": {
          "base_uri": "https://localhost:8080/"
        },
        "id": "AQU9yPQwn-mV",
        "outputId": "c9429f09-b972-4569-e715-35e44f04da87"
      },
      "execution_count": 3,
      "outputs": [
        {
          "output_type": "stream",
          "name": "stdout",
          "text": [
            "Phần tử ở hàng thứ hai, cột thứ ba: 6\n",
            "Hai hàng đầu tiên của mảng: [[1 2 3]\n",
            " [4 5 6]]\n",
            "Cột cuối cùng của mảng: [3 6 9]\n",
            "Ma trận vuông [[1, 3], [7, 9]]: [[1 3]\n",
            " [7 9]]\n"
          ]
        }
      ]
    },
    {
      "cell_type": "markdown",
      "source": [
        "## Bài tập 3: Các phép toán trên mảng\n",
        "Thực hiện các phép toán sau bằng mảng NumPy:\n",
        "\n",
        "1) Tạo hai mảng a = np.array([1, 2, 3]) và b = np.array([4, 5, 6]). Tính tổng từng cặp phần tử tương ứng của chúng.\n",
        "\n",
        "2) Tạo một mảng mới c bằng cách lấy bình phương từng phần tử của mảng a.\n",
        "\n",
        "3) Tính tích vô hướng của hai mảng a và b.\n"
      ],
      "metadata": {
        "id": "9OwDcQX-S8ws"
      }
    },
    {
      "cell_type": "code",
      "source": [
        "a = np.array([1, 2, 3])\n",
        "b = np.array([4, 5, 6])\n",
        "sum_array = a + b\n",
        "print(\"Tổng từng cặp phần tử của hai mảng:\", sum_array)\n",
        "\n",
        "c = a ** 2\n",
        "print(\"Bình phương từng phần tử của mảng a:\", c)\n",
        "\n",
        "dot_product = np.dot(a, b)\n",
        "print(\"Tích vô hướng của hai mảng a và b:\", dot_product)\n"
      ],
      "metadata": {
        "colab": {
          "base_uri": "https://localhost:8080/"
        },
        "id": "p4iIyvTrpFB2",
        "outputId": "ba51a974-ee54-40a6-bed5-bf05e46351bb"
      },
      "execution_count": 4,
      "outputs": [
        {
          "output_type": "stream",
          "name": "stdout",
          "text": [
            "Tổng từng cặp phần tử của hai mảng: [5 7 9]\n",
            "Bình phương từng phần tử của mảng a: [1 4 9]\n",
            "Tích vô hướng của hai mảng a và b: 32\n"
          ]
        }
      ]
    },
    {
      "cell_type": "markdown",
      "source": [
        "## Bài tập 4: Thay đổi kích thước và nối mảng\n",
        "Cho mảng x = np.array([[1, 2], [3, 4]]), thực hiện các thao tác sau:\n",
        "\n",
        "1) Thay đổi kích thước của x thành mảng 4x1.\n",
        "\n",
        "2) Tạo một mảng mới y = np.array([[5, 6]]) và nối nó với x theo chiều ngang.\n",
        "\n",
        "3) Tạo mảng mới y = np.array([[5, 6]]) và nối nó với x theo chiều dọc."
      ],
      "metadata": {
        "id": "hCQQxpA5Tl3M"
      }
    },
    {
      "cell_type": "code",
      "source": [
        "# Array x\n",
        "x = np.array([[1, 2], [3, 4]])\n",
        "\n",
        "# Task 1: 4x1 array\n",
        "x_reshaped = x.reshape((4, 1))\n",
        "\n",
        "# Task 2:\n",
        "y_horizontal = np.array([[5, 6]])\n",
        "x_y_horizontal_concat = np.concatenate((x, y_horizontal), axis=0)\n",
        "\n",
        "# Task 3:\n",
        "y_vertical = np.array([[5], [6]])\n",
        "x_y_vertical_concat = np.concatenate((x_reshaped, y_vertical), axis=0)\n",
        "\n",
        "(x_reshaped, x_y_horizontal_concat, x_y_vertical_concat)\n"
      ],
      "metadata": {
        "colab": {
          "base_uri": "https://localhost:8080/"
        },
        "id": "gx_41pKLqMQK",
        "outputId": "ab839f29-e2fe-432b-fd6e-d432cf5cfcee"
      },
      "execution_count": 5,
      "outputs": [
        {
          "output_type": "execute_result",
          "data": {
            "text/plain": [
              "(array([[1],\n",
              "        [2],\n",
              "        [3],\n",
              "        [4]]),\n",
              " array([[1, 2],\n",
              "        [3, 4],\n",
              "        [5, 6]]),\n",
              " array([[1],\n",
              "        [2],\n",
              "        [3],\n",
              "        [4],\n",
              "        [5],\n",
              "        [6]]))"
            ]
          },
          "metadata": {},
          "execution_count": 5
        }
      ]
    },
    {
      "cell_type": "markdown",
      "source": [
        "## Bài tập 5: Các hàm toán học\n",
        "Tạo một mảng ngẫu nhiên A kích thước 5x7 chứa các số nguyên từ -5 đến 10, tính các giá trị sau:\n",
        "\n",
        "1) Tính tổng của tất cả các phần tử trong A.\n",
        "\n",
        "2) Tìm giá trị nhỏ nhất và lớn nhất trong từng cột của A.\n",
        "\n",
        "3) Tìm giá trị độ lệch chuẩn theo hàng của mảng A\n",
        "\n",
        "4) Tìm giá trị variance theo cột của mảng A\n",
        "\n",
        "5) Tìm range theo cột của A\n"
      ],
      "metadata": {
        "id": "jl6vY8r1Tl78"
      }
    },
    {
      "cell_type": "code",
      "source": [
        "# Array A\n",
        "A = np.random.randint(-5, 11, size=(5, 7))\n",
        "\n",
        "# Task 1: Tổng của A\n",
        "sum_A = A.sum()\n",
        "\n",
        "# Task 2: Giá trị min - max\n",
        "min_per_column = A.min(axis=0)\n",
        "max_per_column = A.max(axis=0)\n",
        "\n",
        "# Task 3: Độ lệch chuẩn\n",
        "std_deviation_per_row = A.std(axis=1)\n",
        "\n",
        "# Task 4: Variance\n",
        "variance_per_column = A.var(axis=0)\n",
        "\n",
        "# Task 5: Range\n",
        "range_per_column = max_per_column - min_per_column\n",
        "\n",
        "print(\"Tổng của A:\", sum_A)\n",
        "print(\"Giá trị nhỏ nhất trong mỗi cột của A:\", min_per_column)\n",
        "print(\"Giá trị lớn nhất trong mỗi cột của A:\", max_per_column)\n",
        "print(\"Độ lệch chuẩn theo hàng của A:\", std_deviation_per_row)\n",
        "print(\"Variance theo cột của A:\", variance_per_column)\n",
        "print(\"Range theo cột của A:\", range_per_column)\n"
      ],
      "metadata": {
        "colab": {
          "base_uri": "https://localhost:8080/"
        },
        "id": "mVZ7Lrlk3RLp",
        "outputId": "5f4002e4-f1a2-42fc-d216-da269abf1c8a"
      },
      "execution_count": 6,
      "outputs": [
        {
          "output_type": "stream",
          "name": "stdout",
          "text": [
            "Tổng của A: 143\n",
            "Giá trị nhỏ nhất trong mỗi cột của A: [-1 -5 -3  0 -4  4  0]\n",
            "Giá trị lớn nhất trong mỗi cột của A: [ 8  6  8 10  7 10  9]\n",
            "Độ lệch chuẩn theo hàng của A: [4.95283881 2.71052371 2.4159335  4.84030696 4.89064079]\n",
            "Variance theo cột của A: [10.4  24.4  15.44 11.76 15.44  6.4  11.44]\n",
            "Range theo cột của A: [ 9 11 11 10 11  6  9]\n"
          ]
        }
      ]
    },
    {
      "cell_type": "markdown",
      "source": [
        "## Bài tập 6: Truyền dữ liệu và toán tử trên mảng\n",
        "Thực hiện các phép toán truyền dữ liệu sau:\n",
        "\n",
        "1) Tạo một mảng x = np.array([1, 2, 3]) và cộng 5 vào từng phần tử của nó.\n",
        "\n",
        "2) Tạo một ma trận số thực ngẫu nhiên 3x3 Y và nhân nó với một số vô hướng (ví dụ: 2).\n",
        "\n",
        "3) Nhân ma trận Y trên với ma trận 1 chiều ngẫu nhiên khác có kích thước 3x5.\n"
      ],
      "metadata": {
        "id": "FEtN_9WFTl_c"
      }
    },
    {
      "cell_type": "code",
      "source": [
        "# Task 1: Add 5 to each element of the array x\n",
        "x = np.array([1, 2, 3])\n",
        "x_plus_5 = x + 5\n",
        "print (\"Kết quả 1: \", x_plus_5)\n",
        "\n",
        "# Task 2: Create a random 3x3 real matrix Y and multiply it by a scalar (e.g., 2)\n",
        "Y = np.random.rand(3, 3)\n",
        "Y_times_scalar = Y * 2\n",
        "print (\"Kết quả 2: \", Y_times_scalar)\n",
        "\n",
        "# Task 3: Multiply the matrix Y with another random one-dimensional array of size 3x5\n",
        "# Since Y is a 3x3 matrix, we need a one-dimensional array of size 3 to multiply\n",
        "one_dim_array = np.random.rand(3)\n",
        "Y_times_vector = Y.dot(one_dim_array)  # or use np.matmul(Y, one_dim_array)\n",
        "print (\"Kết quả 3: \", Y_times_vector )\n",
        "\n"
      ],
      "metadata": {
        "id": "kZDOhySn3R-m",
        "colab": {
          "base_uri": "https://localhost:8080/"
        },
        "outputId": "a91e072c-cd11-4db6-c460-cbc4fd090fd8"
      },
      "execution_count": 7,
      "outputs": [
        {
          "output_type": "stream",
          "name": "stdout",
          "text": [
            "Kết quả 1:  [6 7 8]\n",
            "Kết quả 2:  [[1.52805661 0.59352952 1.39611585]\n",
            " [1.71322332 1.25654069 0.44630484]\n",
            " [0.32558594 0.99997104 0.39360274]]\n",
            "Kết quả 3:  [1.25873663 1.34620647 0.69485292]\n"
          ]
        }
      ]
    },
    {
      "cell_type": "markdown",
      "source": [
        "## Bài tập 7: Chỉ mục Boolean\n",
        "Cho một mảng arr = np.array([1, 2, 3,..., 99, 100]), lọc và in ra chỉ các phần tử\n",
        "\n",
        "1) Lớn hơn giá trị trung bình của mảng\n",
        "\n",
        "2) Bé hơn giá trị Q1 (Tứ phân vị thứ 1)\n",
        "\n",
        "3) Lớn hơn giá trị Q3 (Tứ phân vị thứ 3)\n",
        "\n",
        "4) Chia hết cho 2 nhưng không chia hết cho 3\n",
        "\n",
        "5) Chia hết cho 5 nhưng không chia hết cho 2\n",
        "\n",
        "6) Các số lẻ nhưng không chia hết cho 3\n",
        "\n",
        "7) Các số chẵn nhưng không chia hết cho 5"
      ],
      "metadata": {
        "id": "UveNsi1MVYX9"
      }
    },
    {
      "cell_type": "code",
      "source": [
        "import numpy as np\n",
        "\n",
        "# Define the array\n",
        "arr = np.array(range(1, 101))\n",
        "\n",
        "# Task 1: Elements greater than the mean of the array\n",
        "mean_val = np.mean(arr)\n",
        "greater_than_mean = arr[arr > mean_val]\n",
        "\n",
        "# Task 2: Elements smaller than the first quartile Q1\n",
        "Q1 = np.percentile(arr, 25)\n",
        "less_than_Q1 = arr[arr < Q1]\n",
        "\n",
        "# Task 3: Elements greater than the third quartile Q3\n",
        "Q3 = np.percentile(arr, 75)\n",
        "greater_than_Q3 = arr[arr > Q3]\n",
        "\n",
        "# Task 4: Elements divisible by 2 and not by 3\n",
        "divisible_by_2_not_3 = arr[(arr % 2 == 0) & (arr % 3 != 0)]\n",
        "\n",
        "# Task 5: Elements divisible by 5 and not by 2\n",
        "divisible_by_5_not_2 = arr[(arr % 5 == 0) & (arr % 2 != 0)]\n",
        "\n",
        "# Task 6: Odd numbers not divisible by 3\n",
        "odd_not_divisible_by_3 = arr[(arr % 2 == 1) & (arr % 3 != 0)]\n",
        "\n",
        "# Task 7: Even numbers not divisible by 5\n",
        "even_not_divisible_by_5 = arr[(arr % 2 == 0) & (arr % 5 != 0)]\n",
        "\n",
        "# Kết quả\n",
        "\n",
        "print(\"Các phần tử:\")\n",
        "print(\"1) Lớn hơn giá trị trung bình của mảng:\", greater_than_mean)\n",
        "print(\"2) Bé hơn giá trị Q1 (Tứ phân vị thứ 1):\", less_than_Q1)\n",
        "print(\"3) Lớn hơn giá trị Q3 (Tứ phân vị thứ 3):\", greater_than_Q3)\n",
        "print(\"4) Chia hết cho 2 nhưng không chia hết cho 33:\", divisible_by_2_not_3)\n",
        "print(\"5) Chia hết cho 5 nhưng không chia hết cho 2:\", divisible_by_5_not_2)\n",
        "print(\"6) Các số lẻ nhưng không chia hết cho 3:\", odd_not_divisible_by_3)\n",
        "print(\"7) Các số chẵn nhưng không chia hết cho 5:\", even_not_divisible_by_5)\n"
      ],
      "metadata": {
        "colab": {
          "base_uri": "https://localhost:8080/"
        },
        "id": "7F-4aSmi3SZG",
        "outputId": "1c2b442a-6dcb-425e-cd40-c0865034b753"
      },
      "execution_count": 8,
      "outputs": [
        {
          "output_type": "stream",
          "name": "stdout",
          "text": [
            "Các phần tử:\n",
            "1) Lớn hơn giá trị trung bình của mảng: [ 51  52  53  54  55  56  57  58  59  60  61  62  63  64  65  66  67  68\n",
            "  69  70  71  72  73  74  75  76  77  78  79  80  81  82  83  84  85  86\n",
            "  87  88  89  90  91  92  93  94  95  96  97  98  99 100]\n",
            "2) Bé hơn giá trị Q1 (Tứ phân vị thứ 1): [ 1  2  3  4  5  6  7  8  9 10 11 12 13 14 15 16 17 18 19 20 21 22 23 24\n",
            " 25]\n",
            "3) Lớn hơn giá trị Q3 (Tứ phân vị thứ 3): [ 76  77  78  79  80  81  82  83  84  85  86  87  88  89  90  91  92  93\n",
            "  94  95  96  97  98  99 100]\n",
            "4) Chia hết cho 2 nhưng không chia hết cho 33: [  2   4   8  10  14  16  20  22  26  28  32  34  38  40  44  46  50  52\n",
            "  56  58  62  64  68  70  74  76  80  82  86  88  92  94  98 100]\n",
            "5) Chia hết cho 5 nhưng không chia hết cho 2: [ 5 15 25 35 45 55 65 75 85 95]\n",
            "6) Các số lẻ nhưng không chia hết cho 3: [ 1  5  7 11 13 17 19 23 25 29 31 35 37 41 43 47 49 53 55 59 61 65 67 71\n",
            " 73 77 79 83 85 89 91 95 97]\n",
            "7) Các số chẵn nhưng không chia hết cho 5: [ 2  4  6  8 12 14 16 18 22 24 26 28 32 34 36 38 42 44 46 48 52 54 56 58\n",
            " 62 64 66 68 72 74 76 78 82 84 86 88 92 94 96 98]\n"
          ]
        }
      ]
    },
    {
      "cell_type": "markdown",
      "source": [
        "## Bài tập 8: Khám phá và sử dụng các hàm NumPy khác:\n",
        "\n",
        "1) Tạo một mảng các giá trị nằm trong khoảng từ 0 đến 10 với np.linspace.\n",
        "\n",
        "2) Sử dụng np.where để thay thế tất cả các phần tử của một mảng nhỏ hơn 5 bằng 0 và các phần tử khác bằng 1.\n",
        "\n",
        "3) Sử dụng hàm np.random.choice() để lấy ngẫu nhiên một phần tử từ một mảng đã cho. Đưa ra ví dụ minh họa.\n",
        "\n",
        "4) Sử dụng hàm np.linalg.solve() để giải hệ phương trình tuyến tính Ax = b. Trình bày cách sử dụng và đưa ra ví dụ.\n",
        "\n",
        "5) So sánh hàm np.concatenate() với hàm np.vstack() và np.hstack(). Khi nào thì bạn nên sử dụng mỗi hàm này? Đưa ra ví dụ\n",
        "\n",
        "6) Giải thích sự khác nhau giữa np.linspace() và np.logspace() trong NumPy.\n",
        "Đưa ra ví dụ\n",
        "\n",
        "7) Sử dụng np.unique() để lọc ra các giá trị duy nhất từ một mảng đã cho. Đưa ra ví dụ minh họa. Đếm số lần xuất hiện các giá trị duy nhất đó.\n",
        "\n"
      ],
      "metadata": {
        "id": "IB_nlVSsVYav"
      }
    },
    {
      "cell_type": "code",
      "source": [
        "#1) Tạo một mảng các giá trị nằm trong khoảng từ 0 đến 10 với np.linspace.\n",
        "import numpy as np\n",
        "\n",
        "# Tạo một mảng 50 phần tử từ 0 đến 10\n",
        "arr_linspace = np.linspace(0, 10, 50)\n",
        "print(\"Mảng tạo bởi np.linspace từ 0 đến 10:\", arr_linspace)\n"
      ],
      "metadata": {
        "id": "jJpsMwZf3Sz2",
        "colab": {
          "base_uri": "https://localhost:8080/"
        },
        "outputId": "3b857dfa-afee-4b1d-c108-c30f53fc3fcc"
      },
      "execution_count": 9,
      "outputs": [
        {
          "output_type": "stream",
          "name": "stdout",
          "text": [
            "Mảng tạo bởi np.linspace từ 0 đến 10: [ 0.          0.20408163  0.40816327  0.6122449   0.81632653  1.02040816\n",
            "  1.2244898   1.42857143  1.63265306  1.83673469  2.04081633  2.24489796\n",
            "  2.44897959  2.65306122  2.85714286  3.06122449  3.26530612  3.46938776\n",
            "  3.67346939  3.87755102  4.08163265  4.28571429  4.48979592  4.69387755\n",
            "  4.89795918  5.10204082  5.30612245  5.51020408  5.71428571  5.91836735\n",
            "  6.12244898  6.32653061  6.53061224  6.73469388  6.93877551  7.14285714\n",
            "  7.34693878  7.55102041  7.75510204  7.95918367  8.16326531  8.36734694\n",
            "  8.57142857  8.7755102   8.97959184  9.18367347  9.3877551   9.59183673\n",
            "  9.79591837 10.        ]\n"
          ]
        }
      ]
    },
    {
      "cell_type": "code",
      "source": [
        "#2 Sử dụng np.where để thay thế tất cả các phần tử của một mảng nhỏ hơn 5 bằng 0 và các phần tử khác bằng 1.\n",
        "\n",
        "arr = np.array([1, 2, 5, 7, 4, 6, 3])\n",
        "modified_arr = np.where(arr < 5, 0, 1)\n",
        "print(\"Mảng sau khi thay thế:\", modified_arr)"
      ],
      "metadata": {
        "colab": {
          "base_uri": "https://localhost:8080/"
        },
        "id": "Z-pS_A_kfNob",
        "outputId": "46e6d71b-e24e-4e0a-d821-b05b80dfd64e"
      },
      "execution_count": 10,
      "outputs": [
        {
          "output_type": "stream",
          "name": "stdout",
          "text": [
            "Mảng sau khi thay thế: [0 0 1 1 0 1 0]\n"
          ]
        }
      ]
    },
    {
      "cell_type": "code",
      "source": [
        "#3) Sử dụng hàm np.random.choice() để lấy ngẫu nhiên một phần tử từ một mảng đã cho.\n",
        "\n",
        "sample_arr = np.array([10, 20, 30, 40, 50])\n",
        "random_element = np.random.choice(sample_arr)\n",
        "print(\"Phần tử ngẫu nhiên từ mảng:\", random_element)"
      ],
      "metadata": {
        "colab": {
          "base_uri": "https://localhost:8080/"
        },
        "id": "PX4nRP0WfNq3",
        "outputId": "b640d940-6f42-4aa6-f98f-1d55d3754fec"
      },
      "execution_count": 11,
      "outputs": [
        {
          "output_type": "stream",
          "name": "stdout",
          "text": [
            "Phần tử ngẫu nhiên từ mảng: 50\n"
          ]
        }
      ]
    },
    {
      "cell_type": "code",
      "source": [
        "#4) Sử dụng hàm np.linalg.solve() để giải hệ phương trình tuyến tính Ax = b.\n",
        "\n",
        "A = np.array([[3, 1], [1, 2]])\n",
        "b = np.array([9, 8])\n",
        "x = np.linalg.solve(A, b)\n",
        "print(\"Giải hệ phương trình tuyến tính Ax = b, x =\", x)"
      ],
      "metadata": {
        "colab": {
          "base_uri": "https://localhost:8080/"
        },
        "id": "mdxDVuzJfNtL",
        "outputId": "fd6974dc-3338-4067-d009-4a7af5f5748c"
      },
      "execution_count": 12,
      "outputs": [
        {
          "output_type": "stream",
          "name": "stdout",
          "text": [
            "Giải hệ phương trình tuyến tính Ax = b, x = [2. 3.]\n"
          ]
        }
      ]
    },
    {
      "cell_type": "markdown",
      "source": [
        "**5) So sánh hàm np.concatenate() với hàm np.vstack() và np.hstack().**\n",
        "\n",
        "np.concatenate(): Gộp các mảng theo trục đã chỉ định.\n",
        "\n",
        "np.vstack(): Gộp các mảng theo chiều dọc (stack vertically).\n",
        "\n",
        "np.hstack(): Gộp các mảng theo chiều ngang (stack horizontally)."
      ],
      "metadata": {
        "id": "kUnPlNpSfkJ8"
      }
    },
    {
      "cell_type": "code",
      "source": [
        "a = np.array([1, 2, 3])\n",
        "\n",
        "b = np.array([4, 5, 6])\n",
        "\n",
        "# np.concatenate()\n",
        "concat = np.concatenate((a, b))\n",
        "print(\"Concatenate:\", concat)\n",
        "\n",
        "# np.vstack()\n",
        "vstack = np.vstack((a, b))\n",
        "print(\"VStack:\", vstack)\n",
        "\n",
        "# np.hstack()\n",
        "hstack = np.hstack((a, b))\n",
        "print(\"HStack:\", hstack)"
      ],
      "metadata": {
        "colab": {
          "base_uri": "https://localhost:8080/"
        },
        "id": "zcW4uxDGfNv5",
        "outputId": "5d31cf45-4752-4d96-96d2-08b93e08a9b5"
      },
      "execution_count": 13,
      "outputs": [
        {
          "output_type": "stream",
          "name": "stdout",
          "text": [
            "Concatenate: [1 2 3 4 5 6]\n",
            "VStack: [[1 2 3]\n",
            " [4 5 6]]\n",
            "HStack: [1 2 3 4 5 6]\n"
          ]
        }
      ]
    },
    {
      "cell_type": "markdown",
      "source": [
        "**#6) Giải thích sự khác nhau giữa np.linspace() và np.logspace().**\n",
        "\n",
        "np.linspace() tạo ra một dãy số tuyến tính giữa hai điểm cho trước.\n",
        "\n",
        "np.logspace() tạo ra một dãy số theo thang logarit giữa hai lũy thừa của 10.\n",
        "\n"
      ],
      "metadata": {
        "id": "f4oUHAqBf-oY"
      }
    },
    {
      "cell_type": "code",
      "source": [
        "lin = np.linspace(1, 10, 10)\n",
        "log = np.logspace(1, 10, 10, base=10)\n",
        "print(\"Linspace:\", lin)\n",
        "print(\"Logspace:\", log)\n"
      ],
      "metadata": {
        "colab": {
          "base_uri": "https://localhost:8080/"
        },
        "id": "QPZMY6jggAXh",
        "outputId": "d06d1790-085b-48ff-d385-f6c5e57da394"
      },
      "execution_count": 14,
      "outputs": [
        {
          "output_type": "stream",
          "name": "stdout",
          "text": [
            "Linspace: [ 1.  2.  3.  4.  5.  6.  7.  8.  9. 10.]\n",
            "Logspace: [1.e+01 1.e+02 1.e+03 1.e+04 1.e+05 1.e+06 1.e+07 1.e+08 1.e+09 1.e+10]\n"
          ]
        }
      ]
    },
    {
      "cell_type": "code",
      "source": [
        "#7. Sử dụng np.unique() để lọc ra các giá trị duy nhất từ một mảng đã cho.\n",
        "\n",
        "arr_with_duplicates = np.array([1, 2, 2, 3, 4, 4, 4, 5])\n",
        "unique_values, counts = np.unique(arr_with_duplicates, return_counts=True)\n",
        "print(\"Giá trị duy nhất:\", unique_values)\n",
        "print(\"Số lần xuất hiện:\", counts)"
      ],
      "metadata": {
        "colab": {
          "base_uri": "https://localhost:8080/"
        },
        "id": "y_pocjaBfN0p",
        "outputId": "2d2254bd-499c-4205-cd05-a8b23fc89cd4"
      },
      "execution_count": 15,
      "outputs": [
        {
          "output_type": "stream",
          "name": "stdout",
          "text": [
            "Giá trị duy nhất: [1 2 3 4 5]\n",
            "Số lần xuất hiện: [1 2 1 3 1]\n"
          ]
        }
      ]
    },
    {
      "cell_type": "markdown",
      "source": [
        "## Bài tập 9: Liên quan đến Ma trận\n",
        "\n",
        "![image.png](data:image/png;base64,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)"
      ],
      "metadata": {
        "id": "mzNIzxCpMlWZ"
      }
    },
    {
      "cell_type": "code",
      "source": [
        "#1: Thực hiện các phép toán:\n",
        "\n",
        "import numpy as np\n",
        "\n",
        "# Khai báo ma trận A và B\n",
        "A = np.array([[10, 1, 2],\n",
        "              [9, 7, 4],\n",
        "              [0, 2, 1]])\n",
        "B = np.array([[2, 3, 4],\n",
        "              [0, 4, 2],\n",
        "              [3, 2, 1]])\n",
        "\n",
        "# Phép nhân ma trận AB\n",
        "AB = np.dot(A, B)\n",
        "\n",
        "# Phép nhân ma trận B^T * A * B^T\n",
        "BATBT = np.dot(np.dot(B.T, A), B.T)\n",
        "\n",
        "# Phép nhân ma trận A * B * T * A * T\n",
        "ABTAT = np.dot(np.dot(A, B.T), A.T)\n",
        "\n",
        "print(\"AB:\\n\", AB)\n",
        "print(\"B^T * A * B^T:\\n\", BATBT)\n",
        "print(\"A * B^T * A^T:\\n\", ABTAT)\n",
        "\n",
        "#Nhận xét: kết quả biểu thức 3 > biểu thức 2\n"
      ],
      "metadata": {
        "colab": {
          "base_uri": "https://localhost:8080/"
        },
        "id": "Juyym4hGQJxk",
        "outputId": "e98334b6-5727-4552-929d-fc86f4515260"
      },
      "execution_count": 16,
      "outputs": [
        {
          "output_type": "stream",
          "name": "stdout",
          "text": [
            "AB:\n",
            " [[26 38 44]\n",
            " [30 63 54]\n",
            " [ 3 10  5]]\n",
            "B^T * A * B^T:\n",
            " [[ 92  46  83]\n",
            " [333 188 292]\n",
            " [244 114 231]]\n",
            "A * B^T * A^T:\n",
            " [[386 471  50]\n",
            " [676 927 117]\n",
            " [120 180  25]]\n"
          ]
        }
      ]
    },
    {
      "cell_type": "code",
      "source": [
        "#2: Tính rank, det, và trace của A:\n",
        "\n",
        "rank_A = np.linalg.matrix_rank(A)\n",
        "det_A = np.linalg.det(A)\n",
        "A_minus_I = A - np.eye(3)\n",
        "trace_A = np.trace(A)\n",
        "\n",
        "print(\"Rank of A:\", rank_A)\n",
        "print(\"Determinant of A:\", det_A)\n",
        "print(\"A - I:\\n\", A_minus_I)\n",
        "print(\"Trace of A:\", trace_A)\n"
      ],
      "metadata": {
        "id": "WJtE-4Kp3Ye-",
        "colab": {
          "base_uri": "https://localhost:8080/"
        },
        "outputId": "dbfe4936-1d99-478e-e0e3-e18db787f60e"
      },
      "execution_count": 17,
      "outputs": [
        {
          "output_type": "stream",
          "name": "stdout",
          "text": [
            "Rank of A: 3\n",
            "Determinant of A: 16.999999999999993\n",
            "A - I:\n",
            " [[9. 1. 2.]\n",
            " [9. 6. 4.]\n",
            " [0. 2. 0.]]\n",
            "Trace of A: 18\n"
          ]
        }
      ]
    },
    {
      "cell_type": "code",
      "source": [
        "#3: Phép biến đổi shape ma trận:\n",
        "# Concatenate ma trận A và B theo dòng\n",
        "concat_AB = np.concatenate((A, B), axis=0)\n",
        "\n",
        "# Reshape ma trận A thành vector\n",
        "A_reshaped = A.reshape(-1)\n",
        "\n",
        "print(\"Concatenated A and B:\\n\", concat_AB)\n",
        "print(\"Reshaped A to vector:\", A_reshaped)\n"
      ],
      "metadata": {
        "colab": {
          "base_uri": "https://localhost:8080/"
        },
        "id": "6ZpXK3ZdQCyt",
        "outputId": "3ed1a769-26b3-4892-982b-2da8d7a85158"
      },
      "execution_count": 18,
      "outputs": [
        {
          "output_type": "stream",
          "name": "stdout",
          "text": [
            "Concatenated A and B:\n",
            " [[10  1  2]\n",
            " [ 9  7  4]\n",
            " [ 0  2  1]\n",
            " [ 2  3  4]\n",
            " [ 0  4  2]\n",
            " [ 3  2  1]]\n",
            "Reshaped A to vector: [10  1  2  9  7  4  0  2  1]\n"
          ]
        }
      ]
    },
    {
      "cell_type": "code",
      "source": [
        "#4: Tính toán\n",
        "# Softmax function\n",
        "def softmax(x):\n",
        "    e_x = np.exp(x - np.max(x))\n",
        "    return e_x / e_x.sum(axis=1, keepdims=True)\n",
        "\n",
        "# Apply softmax vào từng dòng của A\n",
        "softmax_A = softmax(A)\n",
        "print(\"Softmax of A:\\n\", softmax_A)\n",
        "\n",
        "max_indices = np.argmax(softmax_A, axis=1)\n",
        "print(\"Indices of max values per row:\", max_indices)\n",
        "\n",
        "# Tính sum, mean, min, max mỗi dòng\n",
        "sum_row = np.sum(softmax_A, axis=1)\n",
        "mean_row = np.mean(softmax_A, axis=1)\n",
        "min_row = np.min(softmax_A, axis=1)\n",
        "max_row = np.max(softmax_A, axis=1)\n",
        "\n",
        "print(\"Tổng mỗi dòng:\", sum_row)\n",
        "print(\"Trung bình mỗi dòng:\", mean_row)\n",
        "print(\"Min mỗi dòng:\", min_row)\n",
        "print(\"Max mỗi dòng:\", max_row)\n"
      ],
      "metadata": {
        "colab": {
          "base_uri": "https://localhost:8080/"
        },
        "id": "at6DDK2GQC6O",
        "outputId": "407e7aee-38fc-402e-c12e-240f747c318d"
      },
      "execution_count": 19,
      "outputs": [
        {
          "output_type": "stream",
          "name": "stdout",
          "text": [
            "Softmax of A:\n",
            " [[9.99541338e-01 1.23353201e-04 3.35308764e-04]\n",
            " [8.75600595e-01 1.18499655e-01 5.89975040e-03]\n",
            " [9.00305732e-02 6.65240956e-01 2.44728471e-01]]\n",
            "Indices of max values per row: [0 0 1]\n",
            "Tổng mỗi dòng: [1. 1. 1.]\n",
            "Trung bình mỗi dòng: [0.33333333 0.33333333 0.33333333]\n",
            "Min mỗi dòng: [0.00012335 0.00589975 0.09003057]\n",
            "Max mỗi dòng: [0.99954134 0.8756006  0.66524096]\n"
          ]
        }
      ]
    },
    {
      "cell_type": "markdown",
      "source": [
        "## Bài tập 10: Liên quan đến tính toán trên excel\n",
        "\n",
        "Chỉ được sử dụng Numpy, không được sử dụng pandas"
      ],
      "metadata": {
        "id": "GioF0pqVX6qW"
      }
    },
    {
      "cell_type": "code",
      "source": [
        "## Kết nối google drive và google collab\n",
        "from google.colab import drive\n",
        "\n",
        "drive.mount(\"/content/drive\")\n"
      ],
      "metadata": {
        "id": "OUV909tRwj1x",
        "colab": {
          "base_uri": "https://localhost:8080/"
        },
        "outputId": "0fe96260-a74f-49a5-a498-c1ce82d3e6bc"
      },
      "execution_count": 20,
      "outputs": [
        {
          "output_type": "stream",
          "name": "stdout",
          "text": [
            "Mounted at /content/drive\n"
          ]
        }
      ]
    },
    {
      "cell_type": "code",
      "source": [
        "## Gọi ra những thư viện cần thiết\n",
        "import numpy as np\n",
        "import pandas as pd"
      ],
      "metadata": {
        "id": "CptjInzO4xpT"
      },
      "execution_count": 21,
      "outputs": []
    },
    {
      "cell_type": "code",
      "source": [
        "## Đọc file data từ google drive\n",
        "dataset = pd.read_excel(\"/content/drive/MyDrive/Colab Notebooks/Week4-data_06.xlsx\")\n",
        "print(dataset)\n",
        "print(dataset.head())"
      ],
      "metadata": {
        "id": "b6ay8Z6240FM",
        "colab": {
          "base_uri": "https://localhost:8080/"
        },
        "outputId": "0ec58da5-ad49-4481-d83e-8341c5bb2558"
      },
      "execution_count": 22,
      "outputs": [
        {
          "output_type": "stream",
          "name": "stdout",
          "text": [
            "                     Tên  Mã số               Trường cấp 2  Nguyện vọng 1  \\\n",
            "0           QUÁCH KIM HÀ  60132             THCS Phú Cường              6   \n",
            "1       PHẠM TRÚC PHƯƠNG  60421        THCS Trần Đại Nghĩa              6   \n",
            "2         TRẦN KHẢ DOANH  60075    THCS-THPT Nguyễn Khuyến              6   \n",
            "3      NGUYỄN MAI PHƯƠNG  60417        THCS Trần Đại Nghĩa              6   \n",
            "4          TRẦN MINH THY  60558  THCS Nguyễn Thị Minh Khai              6   \n",
            "..                   ...    ...                        ...            ...   \n",
            "636        TRẦN NHẬT ANH  60032       THCS Nguyễn Văn Tiết              6   \n",
            "637  DOÃN THỊ PHƯƠNG ANH  60017            THCS Bình Chiểu              6   \n",
            "638       CÙ THỊ GIA HÂN  60151     THCS Nguyễn Trung Trực              6   \n",
            "639      NGUYỄN TƯỜNG VY  60622        THCS Trịnh Hoài Đức              6   \n",
            "640         LƯU QUANG ĐÔ  60108        THCS Trịnh Hoài Đức              6   \n",
            "\n",
            "     Nguyện vọng 2  Điểm cộng   Văn   Anh  Toán   Tổng  Xếp hạng  \n",
            "0              2.0        3.0  9.00   8.9  8.75  29.65         1  \n",
            "1              7.0        2.0  8.75   9.6  9.25  29.60         2  \n",
            "2              7.0        2.0  8.25   9.6  9.25  29.10         3  \n",
            "3              7.0        NaN  8.75  10.0  9.25  28.00         4  \n",
            "4              2.0        2.0  8.25   9.7  8.00  27.95         5  \n",
            "..             ...        ...   ...   ...   ...    ...       ...  \n",
            "636            8.0        NaN  6.75   3.9  2.75  13.40       637  \n",
            "637           30.0        NaN  6.25   3.6  3.50  13.35       638  \n",
            "638            8.0        NaN  6.00   3.5  3.25  12.75       639  \n",
            "639            8.0        NaN  6.25   3.2  3.00  12.45       640  \n",
            "640           30.0        NaN  5.50   2.4  3.75  11.65       641  \n",
            "\n",
            "[641 rows x 11 columns]\n",
            "                 Tên  Mã số               Trường cấp 2  Nguyện vọng 1  \\\n",
            "0       QUÁCH KIM HÀ  60132             THCS Phú Cường              6   \n",
            "1   PHẠM TRÚC PHƯƠNG  60421        THCS Trần Đại Nghĩa              6   \n",
            "2     TRẦN KHẢ DOANH  60075    THCS-THPT Nguyễn Khuyến              6   \n",
            "3  NGUYỄN MAI PHƯƠNG  60417        THCS Trần Đại Nghĩa              6   \n",
            "4      TRẦN MINH THY  60558  THCS Nguyễn Thị Minh Khai              6   \n",
            "\n",
            "   Nguyện vọng 2  Điểm cộng   Văn   Anh  Toán   Tổng  Xếp hạng  \n",
            "0            2.0        3.0  9.00   8.9  8.75  29.65         1  \n",
            "1            7.0        2.0  8.75   9.6  9.25  29.60         2  \n",
            "2            7.0        2.0  8.25   9.6  9.25  29.10         3  \n",
            "3            7.0        NaN  8.75  10.0  9.25  28.00         4  \n",
            "4            2.0        2.0  8.25   9.7  8.00  27.95         5  \n"
          ]
        }
      ]
    },
    {
      "cell_type": "code",
      "source": [
        "data = dataset.to_numpy()\n",
        "print(data.shape)"
      ],
      "metadata": {
        "id": "hpI1kYs6MDLA",
        "colab": {
          "base_uri": "https://localhost:8080/"
        },
        "outputId": "34b343f4-e1b2-402b-f1d9-2f44f2fe204a"
      },
      "execution_count": 24,
      "outputs": [
        {
          "output_type": "stream",
          "name": "stdout",
          "text": [
            "(641, 11)\n"
          ]
        }
      ]
    },
    {
      "cell_type": "code",
      "source": [
        "print(data[0])"
      ],
      "metadata": {
        "id": "WpXu7-zJMjlU",
        "colab": {
          "base_uri": "https://localhost:8080/"
        },
        "outputId": "96dca838-2535-4f9b-8200-419c38ddfcd5"
      },
      "execution_count": 25,
      "outputs": [
        {
          "output_type": "stream",
          "name": "stdout",
          "text": [
            "['QUÁCH KIM HÀ' 60132 'THCS Phú Cường' 6 2.0 3.0 9.0 8.9 8.75 29.65 1]\n"
          ]
        }
      ]
    },
    {
      "cell_type": "code",
      "source": [
        "print(data.dtype)"
      ],
      "metadata": {
        "id": "ivVbzGgiNAVS",
        "colab": {
          "base_uri": "https://localhost:8080/"
        },
        "outputId": "9db0378a-7810-4e25-b02f-a42b2840296a"
      },
      "execution_count": 26,
      "outputs": [
        {
          "output_type": "stream",
          "name": "stdout",
          "text": [
            "object\n"
          ]
        }
      ]
    },
    {
      "cell_type": "code",
      "source": [
        "print(data[0].dtype)"
      ],
      "metadata": {
        "id": "ejhswn_ENCsI",
        "colab": {
          "base_uri": "https://localhost:8080/"
        },
        "outputId": "762e773d-a455-4a5e-bc11-4ac1b332dd56"
      },
      "execution_count": 27,
      "outputs": [
        {
          "output_type": "stream",
          "name": "stdout",
          "text": [
            "object\n"
          ]
        }
      ]
    },
    {
      "cell_type": "code",
      "source": [
        "np.nan_to_num([0.3, np.nan, 2.4])"
      ],
      "metadata": {
        "id": "wqU5_pQ4ZhUJ",
        "colab": {
          "base_uri": "https://localhost:8080/"
        },
        "outputId": "bcf1f281-3b9e-4a10-8362-91415fa42978"
      },
      "execution_count": 28,
      "outputs": [
        {
          "output_type": "execute_result",
          "data": {
            "text/plain": [
              "array([0.3, 0. , 2.4])"
            ]
          },
          "metadata": {},
          "execution_count": 28
        }
      ]
    },
    {
      "cell_type": "code",
      "source": [
        "data[:, 5] = np.nan_to_num(data[:, 5].astype(float))\n",
        "print(data[:, 5])\n",
        "print(data[-1])"
      ],
      "metadata": {
        "id": "2E7Dlg4GZooB",
        "colab": {
          "base_uri": "https://localhost:8080/"
        },
        "outputId": "99688a99-6fc8-4c25-a8ea-81a90c5e624d"
      },
      "execution_count": 29,
      "outputs": [
        {
          "output_type": "stream",
          "name": "stdout",
          "text": [
            "[3.0 2.0 2.0 0.0 2.0 0.0 2.0 0.0 0.0 2.0 2.0 0.0 1.0 0.0 0.0 2.0 2.0 1.0\n",
            " 0.0 1.0 0.0 0.0 0.0 0.0 2.0 2.0 2.0 0.0 2.0 0.0 0.0 2.0 0.0 0.0 0.0 0.0\n",
            " 0.0 0.0 0.0 0.0 2.0 0.0 2.0 0.0 2.0 0.0 2.5 0.0 0.0 0.0 2.0 0.0 0.0 0.0\n",
            " 0.0 0.0 0.0 0.0 0.0 1.0 0.0 0.0 0.0 1.0 0.0 0.0 0.0 0.0 0.0 0.0 0.0 0.0\n",
            " 1.0 0.0 2.0 0.0 1.0 0.0 1.0 2.0 0.0 0.0 0.0 0.0 0.0 2.0 0.0 2.0 1.0 0.0\n",
            " 1.0 0.0 1.0 0.0 1.0 0.0 0.0 1.0 0.0 1.0 2.0 0.0 0.0 0.0 0.0 0.0 2.0 0.0\n",
            " 0.0 1.0 0.0 0.0 0.0 0.0 1.0 1.0 1.0 0.0 1.0 0.0 0.0 0.0 1.0 0.0 2.0 0.0\n",
            " 0.0 2.0 0.0 0.0 0.0 0.0 0.0 0.0 0.0 0.0 1.0 1.0 0.0 0.0 1.0 0.0 0.0 0.0\n",
            " 0.0 1.0 0.0 2.0 0.0 0.0 0.0 2.0 2.0 1.0 1.0 0.0 0.0 0.0 0.0 2.0 0.0 0.0\n",
            " 1.0 0.0 1.0 0.0 0.0 0.0 0.0 0.0 0.0 0.0 2.0 1.0 0.0 0.0 0.0 0.0 0.0 0.0\n",
            " 2.0 0.0 2.0 0.0 0.0 0.0 0.0 0.0 0.0 0.0 1.0 0.0 0.0 1.0 0.0 0.0 0.0 0.0\n",
            " 0.0 0.0 0.0 1.0 2.0 0.0 0.0 0.0 0.0 2.0 0.0 1.0 0.0 0.0 0.0 1.0 0.0 0.0\n",
            " 0.0 0.0 1.0 0.0 0.0 0.0 0.0 0.0 0.0 1.0 0.0 0.0 0.0 0.0 0.0 1.0 0.0 0.0\n",
            " 1.0 1.0 1.0 0.0 0.0 0.0 0.0 0.0 0.0 0.0 0.0 0.0 0.0 1.0 0.0 0.0 0.0 0.0\n",
            " 2.0 1.0 0.0 0.0 0.0 0.0 0.0 0.0 0.0 0.0 0.0 1.0 0.0 0.0 2.0 0.0 0.0 0.0\n",
            " 1.5 0.0 1.0 0.0 0.0 0.0 0.0 2.0 0.0 0.0 0.0 0.0 0.0 0.0 0.0 0.0 1.0 0.0\n",
            " 0.0 0.0 1.0 0.0 0.0 0.0 0.0 2.0 0.0 0.0 0.0 0.0 0.0 0.0 0.0 0.0 0.0 0.0\n",
            " 1.0 0.0 0.0 0.0 0.0 0.0 0.0 0.0 2.0 0.0 0.0 0.0 0.0 0.0 0.0 0.0 0.0 0.0\n",
            " 0.0 0.0 0.0 0.0 0.0 0.0 0.0 0.0 0.0 0.0 0.0 0.0 0.0 0.0 0.0 1.0 0.0 0.0\n",
            " 0.0 0.0 0.0 0.0 0.0 1.0 0.0 0.0 0.0 0.0 0.0 0.0 0.0 0.0 0.0 2.0 0.0 0.0\n",
            " 0.0 0.0 1.0 0.0 0.0 0.0 0.0 0.0 0.0 1.0 1.0 0.0 0.0 0.0 0.0 0.0 0.0 0.0\n",
            " 0.0 0.0 0.0 0.0 0.0 0.0 0.0 0.0 0.0 0.0 0.0 0.0 0.0 0.0 0.0 0.0 0.0 0.0\n",
            " 0.0 0.0 0.0 0.0 0.0 0.0 0.0 0.0 0.0 0.0 0.0 0.0 0.0 0.0 0.0 0.0 0.0 1.0\n",
            " 0.0 0.0 0.0 0.0 0.0 0.0 0.0 0.0 0.0 0.0 0.0 0.0 0.0 1.0 0.0 0.0 0.0 1.0\n",
            " 0.0 0.0 0.0 1.0 0.0 0.0 0.0 0.0 0.0 0.0 0.0 0.0 0.0 0.0 0.0 0.0 0.0 0.0\n",
            " 0.0 0.0 0.0 0.0 0.0 0.0 0.0 0.0 0.0 0.0 0.0 0.0 0.0 0.0 0.0 0.0 0.0 0.0\n",
            " 0.0 0.0 0.0 0.0 0.0 0.0 0.0 0.0 0.0 0.0 0.0 0.0 0.0 0.0 0.0 0.0 0.0 0.0\n",
            " 0.0 0.0 0.0 0.0 1.0 0.0 0.0 0.0 0.0 0.0 0.0 0.0 0.0 0.0 0.0 0.0 1.0 0.0\n",
            " 0.0 0.0 0.0 0.0 0.0 0.0 0.0 0.0 0.0 0.0 0.0 0.0 0.0 0.0 0.0 0.0 0.0 0.0\n",
            " 0.0 0.0 0.0 0.0 0.0 0.0 0.0 0.0 0.0 0.0 0.0 0.0 1.0 1.0 1.0 0.0 0.0 0.0\n",
            " 0.0 0.0 0.0 0.0 0.0 0.0 0.0 0.0 0.0 0.0 0.0 0.0 0.0 1.0 0.0 0.0 0.0 0.0\n",
            " 0.0 0.0 0.0 0.0 0.0 0.0 0.0 0.0 0.0 0.0 0.0 0.0 0.0 0.0 0.0 0.0 0.0 0.0\n",
            " 0.0 0.0 0.0 0.0 0.0 0.0 0.0 0.0 0.0 0.0 0.0 0.0 0.0 0.0 1.0 0.0 0.0 0.0\n",
            " 0.0 0.0 0.0 0.0 0.0 0.0 0.0 1.0 1.0 0.0 0.0 0.0 0.0 0.0 0.0 0.0 0.0 0.0\n",
            " 0.0 0.0 0.0 0.0 0.0 0.0 0.0 0.0 0.0 1.0 0.0 0.0 0.0 1.0 0.0 0.0 0.0 0.0\n",
            " 0.0 0.0 0.0 0.0 0.0 0.0 0.0 0.0 0.0 0.0 0.0]\n",
            "['LƯU QUANG ĐÔ' 60108 'THCS Trịnh Hoài Đức' 6 30.0 0.0 5.5 2.4 3.75 11.65\n",
            " 641]\n"
          ]
        }
      ]
    },
    {
      "cell_type": "code",
      "source": [
        "## Đưa ra thông tin của bạn với mã số: 60457\n",
        "## Đưa ra thông tin của bạn với tên là: Nguyễn Đình Nhân\n",
        "## Đưa ra thông tin của các bạn từ mã số: 60004 đến  60200 (Bạn nào không có thì không cần đưa ra)\n",
        "\n",
        "\n",
        "## Tính điểm thi trung bình cho từng bạn sinh viên\n",
        "## Tính điểm thi trung bình theo từng môn cho toàn bộ sinh viên\n",
        "## Đưa ra điểm thi trung bình cao nhất và thấp nhất cho toàn bộ 3 môn.\n",
        "## Xếp danh sách dựa vào điểm trung bình của môn Toán + Anh, tìm bạn có vị trí 100\n",
        "\n",
        "\n",
        "## Giả sử 1 trường lấy toàn bộ 300 sinh viên, dựa theo\n",
        "## a) Điểm môn Toán từ cao xuống thấp\n",
        "## b) Điểm tổng 3 môn và điểm cộng từ cao xuống thấp\n",
        "## c) Điểm trung bình 3 môn từ cao xuống thấp\n",
        "## Đưa ra danh sách những bạn sinh viên được chọn vào trường đó.\n",
        "\n",
        "\n",
        "## So sánh 2 bạn sinh viên mã số: 60575 và 60602 dựa trên tổng điểm 3 môn (không tính điểm cộng)"
      ],
      "metadata": {
        "id": "jzq3Y7f-EAxZ"
      },
      "execution_count": 30,
      "outputs": []
    },
    {
      "cell_type": "code",
      "source": [
        "## 1. Đưa ra thông tin của bạn với mã số: 60457\n",
        "\n",
        "student_id_index = 1  # Giả sử cột mã số là cột thứ 2\n",
        "info_by_id = data[data[:, student_id_index] == 60457]\n",
        "print(\"Thông tin của bạn có mã số 60457:\")\n",
        "print(info_by_id)\n"
      ],
      "metadata": {
        "id": "TL-_Oz4eyeMe",
        "colab": {
          "base_uri": "https://localhost:8080/"
        },
        "outputId": "3f9315d2-fa4a-413c-a230-1dba6adf38b3"
      },
      "execution_count": 31,
      "outputs": [
        {
          "output_type": "stream",
          "name": "stdout",
          "text": [
            "Thông tin của bạn có mã số 60457:\n",
            "[['NGUYỄN LÊ PHƯƠNG TÂM' 60457 'THCS Phú Long' 6 7.0 2.0 7.0 9.4 6.25\n",
            "  24.65 101]]\n"
          ]
        }
      ]
    },
    {
      "cell_type": "code",
      "source": [
        "## 2. Đưa ra thông tin của bạn với tên là: Nguyễn Đình Nhân\n",
        "\n",
        "student_name_index = 0  # Giả sử cột tên là cột đầu tiên\n",
        "info_by_name = data[data[:, student_name_index] == 'NGUYỄN ĐÌNH NHÂN'] #Vì tất cả các tên trong dataset đều viết HOA\n",
        "print(\"Thông tin của bạn tên Nguyễn Đình Nhân:\")\n",
        "print(info_by_name)\n",
        ""
      ],
      "metadata": {
        "colab": {
          "base_uri": "https://localhost:8080/"
        },
        "id": "aEtQcky0Bu_T",
        "outputId": "9f82b4f5-fbf4-4801-81e2-68d0028b327a"
      },
      "execution_count": 32,
      "outputs": [
        {
          "output_type": "stream",
          "name": "stdout",
          "text": [
            "Thông tin của bạn tên Nguyễn Đình Nhân:\n",
            "[['NGUYỄN ĐÌNH NHÂN' 60350 'THCS Nguyễn Văn Tiết' 6 7.0 2.0 6.0 8.6 8.0\n",
            "  24.6 107]]\n"
          ]
        }
      ]
    },
    {
      "cell_type": "code",
      "source": [
        "## 3. Đưa ra thông tin của các bạn từ mã số: 60004 đến  60200 (Bạn nào không có thì không cần đưa ra)\n",
        "\n",
        "filtered_students = data[(data[:, student_id_index].astype(int) >= 60004) & (data[:, student_id_index].astype(int) <= 60200)]\n",
        "print(\"Thông tin của các bạn từ mã số 60004 đến 60200:\")\n",
        "print(filtered_students)\n"
      ],
      "metadata": {
        "colab": {
          "base_uri": "https://localhost:8080/"
        },
        "id": "TshY-MCwBvBO",
        "outputId": "6aec0015-dc51-4395-b77e-f96e5741973b"
      },
      "execution_count": 33,
      "outputs": [
        {
          "output_type": "stream",
          "name": "stdout",
          "text": [
            "Thông tin của các bạn từ mã số 60004 đến 60200:\n",
            "[['QUÁCH KIM HÀ' 60132 'THCS Phú Cường' ... 8.75 29.65 1]\n",
            " ['TRẦN KHẢ DOANH' 60075 'THCS-THPT Nguyễn Khuyến' ... 9.25 29.1 3]\n",
            " ['PHẠM LỢI NGỌC HIỀN' 60158 'THCS Châu Văn Liêm' ... 9.5 27.9 6]\n",
            " ...\n",
            " ['DOÃN THỊ PHƯƠNG ANH' 60017 'THCS Bình Chiểu' ... 3.5 13.35 638]\n",
            " ['CÙ THỊ GIA HÂN' 60151 'THCS Nguyễn Trung Trực' ... 3.25 12.75 639]\n",
            " ['LƯU QUANG ĐÔ' 60108 'THCS Trịnh Hoài Đức' ... 3.75 11.65 641]]\n"
          ]
        }
      ]
    },
    {
      "cell_type": "code",
      "source": [
        "## 4. Tính điểm thi trung bình cho từng bạn sinh viên\n",
        "\n",
        "average_scores = data[:, 7:10].astype(float).mean(axis=1)\n",
        "print(\"Điểm trung bình cho từng bạn sinh viên:\")\n",
        "print(average_scores)"
      ],
      "metadata": {
        "colab": {
          "base_uri": "https://localhost:8080/"
        },
        "id": "smGSjAtBBvDZ",
        "outputId": "15f9c400-27b6-41e2-d606-b0bcae9498a3"
      },
      "execution_count": 34,
      "outputs": [
        {
          "output_type": "stream",
          "name": "stdout",
          "text": [
            "Điểm trung bình cho từng bạn sinh viên:\n",
            "[15.76666667 16.15       15.98333333 15.75       15.21666667 15.76666667\n",
            " 15.26666667 15.6        15.61666667 15.15       15.2        15.66666667\n",
            " 15.21666667 15.21666667 15.46666667 14.6        14.81666667 14.85\n",
            " 14.93333333 14.81666667 15.18333333 14.95       14.75       15.16666667\n",
            " 14.5        14.63333333 14.85       15.01666667 14.03333333 14.61666667\n",
            " 14.61666667 14.08333333 14.38333333 14.71666667 14.88333333 14.6\n",
            " 14.51666667 14.6        14.76666667 14.28333333 14.2        14.13333333\n",
            " 14.01666667 14.51666667 13.95       14.45       13.75       14.5\n",
            " 14.18333333 14.31666667 14.23333333 14.41666667 13.91666667 14.75\n",
            " 14.5        14.25       14.21666667 14.13333333 14.3        13.68333333\n",
            " 14.35       14.15       14.23333333 13.9        14.2        14.11666667\n",
            " 14.         14.16666667 14.16666667 14.5        13.8        14.13333333\n",
            " 13.68333333 14.26666667 13.85       14.15       14.31666667 14.23333333\n",
            " 13.53333333 14.03333333 13.91666667 13.91666667 13.91666667 13.8\n",
            " 13.96666667 13.51666667 14.01666667 13.51666667 13.85       14.4\n",
            " 13.48333333 14.03333333 13.45       13.86666667 13.61666667 14.\n",
            " 13.83333333 13.75       13.66666667 13.63333333 13.43333333 13.76666667\n",
            " 13.76666667 13.48333333 13.56666667 13.9        13.73333333 13.78333333\n",
            " 14.25       13.33333333 13.75       14.16666667 13.8        13.43333333\n",
            " 13.43333333 13.23333333 13.31666667 13.4        13.23333333 13.4\n",
            " 13.28333333 13.61666667 13.11666667 13.7        13.2        13.5\n",
            " 13.91666667 12.75       13.5        13.66666667 13.55       13.46666667\n",
            " 13.1        13.68333333 13.81666667 13.81666667 13.31666667 13.31666667\n",
            " 13.28333333 13.45       13.08333333 13.41666667 13.5        13.55\n",
            " 12.96666667 13.05       13.46666667 12.71666667 13.6        13.18333333\n",
            " 13.56666667 13.31666667 12.73333333 13.31666667 13.45       13.28333333\n",
            " 13.25       13.16666667 12.91666667 13.25       13.16666667 13.13333333\n",
            " 13.21666667 13.35       12.76666667 13.26666667 13.26666667 12.93333333\n",
            " 13.35       12.93333333 12.9        12.95       12.95       12.78333333\n",
            " 13.08333333 13.         12.91666667 13.25       12.96666667 12.88333333\n",
            " 12.46666667 13.46666667 12.55       12.96666667 13.18333333 12.81666667\n",
            " 13.4        12.98333333 13.06666667 12.73333333 12.81666667 13.45\n",
            " 12.95       12.95       13.03333333 13.16666667 12.75       13.\n",
            " 12.75       13.16666667 12.91666667 12.83333333 12.5        13.05\n",
            " 13.13333333 12.96666667 12.93333333 13.15       12.98333333 12.48333333\n",
            " 12.56666667 12.98333333 12.95       12.45       12.61666667 13.2\n",
            " 12.36666667 12.61666667 12.58333333 12.58333333 12.75       13.08333333\n",
            " 12.91666667 12.55       12.55       12.46666667 13.05       12.63333333\n",
            " 12.46666667 12.76666667 13.1        12.35       13.1        12.68333333\n",
            " 12.01666667 12.9        12.81666667 12.81666667 12.65       12.86666667\n",
            " 12.45       12.95       12.5        12.66666667 13.         12.5\n",
            " 12.58333333 12.13333333 12.26666667 13.01666667 12.6        12.76666667\n",
            " 11.68333333 12.23333333 12.73333333 12.31666667 12.56666667 12.81666667\n",
            " 12.86666667 12.28333333 12.66666667 12.13333333 12.63333333 12.13333333\n",
            " 12.43333333 12.85       11.85       12.18333333 12.26666667 12.4\n",
            " 12.23333333 12.31666667 12.23333333 12.28333333 12.28333333 12.61666667\n",
            " 12.36666667 12.61666667 12.75       12.16666667 12.41666667 12.16666667\n",
            " 12.41666667 12.25       12.21666667 12.13333333 11.93333333 12.43333333\n",
            " 12.43333333 12.1        12.15       12.48333333 12.48333333 11.98333333\n",
            " 12.15       11.78333333 12.45       12.45       12.36666667 11.95\n",
            " 12.53333333 12.45       11.91666667 12.25       12.16666667 12.08333333\n",
            " 12.13333333 12.01666667 12.1        12.26666667 12.1        12.26666667\n",
            " 11.93333333 11.85       11.93333333 12.73333333 12.23333333 12.11666667\n",
            " 12.45       11.86666667 12.03333333 12.2        11.83333333 12.\n",
            " 11.83333333 12.05       11.8        12.21666667 11.8        11.85\n",
            " 11.93333333 11.93333333 11.9        12.31666667 11.98333333 11.9\n",
            " 11.98333333 11.98333333 12.15       11.28333333 11.86666667 11.61666667\n",
            " 12.03333333 11.45       11.91666667 12.25       12.25       11.41666667\n",
            " 11.41666667 11.91666667 12.13333333 12.05       11.63333333 12.18333333\n",
            " 11.93333333 11.85       11.93333333 11.56666667 11.48333333 11.81666667\n",
            " 11.9        11.81666667 11.36666667 11.61666667 11.61666667 11.61666667\n",
            " 11.66666667 11.66666667 12.08333333 11.66666667 11.66666667 12.08333333\n",
            " 11.66666667 11.96666667 11.46666667 11.35       11.26666667 11.76666667\n",
            " 11.51666667 12.6        11.65       11.56666667 11.81666667 11.48333333\n",
            " 12.15       11.53333333 11.75       11.58333333 11.63333333 11.3\n",
            " 11.96666667 10.96666667 11.43333333 11.68333333 11.26666667 11.35\n",
            " 11.35       11.68333333 11.43333333 11.4        11.48333333 11.9\n",
            " 11.9        11.56666667 11.4        11.81666667 11.4        11.48333333\n",
            " 11.23333333 11.53333333 11.08333333 11.3        11.71666667 10.71666667\n",
            " 11.35       11.43333333 11.1        11.18333333 11.73333333 11.4\n",
            " 11.98333333 11.65       11.11666667 11.36666667 11.08333333 11.08333333\n",
            " 11.33333333 10.91666667 11.41666667 11.16666667 11.05       10.88333333\n",
            " 11.46666667 11.3        11.18333333 10.51666667 10.9        11.4\n",
            " 10.65       11.4        11.9        11.15       10.9        11.4\n",
            " 11.45       11.28333333 10.78333333 10.83333333 11.05       11.13333333\n",
            " 10.8        11.21666667 11.55       11.01666667 11.01666667 10.98333333\n",
            " 10.65       10.73333333 11.25       10.91666667 11.         10.91666667\n",
            " 10.96666667 10.88333333 10.8        10.85       10.76666667 10.56666667\n",
            " 11.06666667 10.48333333 10.73333333 11.11666667 10.36666667 10.95\n",
            " 10.95       10.86666667 10.58333333 10.63333333 10.85       11.1\n",
            " 10.76666667 10.85       10.76666667 10.4        10.56666667 10.4\n",
            " 10.48333333 11.15       11.03333333 10.28333333 10.03333333 10.7\n",
            " 10.11666667 10.61666667 10.41666667 10.75       10.91666667 10.58333333\n",
            " 10.5        10.46666667 10.38333333 10.63333333 10.46666667 10.88333333\n",
            " 10.55       10.35       10.23333333 10.78333333 11.11666667 10.91666667\n",
            " 10.41666667 10.91666667 10.66666667 10.75       10.63333333 10.3\n",
            " 10.46666667 11.18333333 10.43333333 10.6        10.31666667 10.81666667\n",
            " 10.28333333 10.36666667 10.7        10.7        10.21666667 10.38333333\n",
            " 10.13333333 10.26666667 10.51666667 10.06666667 10.78333333  9.91666667\n",
            " 10.05        9.88333333  9.8        10.05       10.01666667 10.1\n",
            " 10.4         9.73333333  9.65        9.98333333 10.06666667 10.28333333\n",
            " 10.03333333 10.2        10.16666667  9.55        9.93333333  9.9\n",
            "  9.73333333 10.48333333 10.15        9.81666667  9.7         9.86666667\n",
            "  9.78333333  9.66666667 10.08333333 10.          9.58333333  9.88333333\n",
            " 10.26666667  9.73333333  9.95       10.11666667  9.63333333  9.85\n",
            "  9.9         9.9         9.56666667  9.61666667  9.78333333  9.7\n",
            "  9.23333333  9.53333333  9.45        9.75        9.55        9.8\n",
            "  9.48333333  9.36666667  9.28333333  9.86666667  9.53333333  9.36666667\n",
            "  9.11666667  9.26666667  8.9         9.03333333  9.          8.88333333\n",
            "  8.98333333  9.25        9.08333333  8.63333333  9.1         9.35\n",
            "  8.85        8.76666667  8.68333333  9.23333333  8.56666667  8.81666667\n",
            "  8.31666667  8.63333333  8.8         8.76666667  9.11666667  8.36666667\n",
            "  8.41666667  8.55        8.78333333  8.33333333  8.68333333  8.25\n",
            "  8.25        8.13333333  8.18333333  7.55        7.81666667  7.71666667\n",
            "  8.3         7.96666667  8.05        7.83333333  7.65        7.63333333\n",
            "  7.1         7.56666667  7.85        7.25        7.96666667  7.\n",
            "  6.68333333  6.81666667  6.5         6.21666667  5.93333333]\n"
          ]
        }
      ]
    },
    {
      "cell_type": "code",
      "source": [
        "## 5. Tính điểm thi trung bình theo từng môn cho toàn bộ sinh viên\n",
        "\n",
        "average_scores_per_subject = data[:, 7:10].astype(float).mean(axis=0)\n",
        "print(\"Điểm trung bình theo từng môn:\")\n",
        "print(average_scores_per_subject)\n"
      ],
      "metadata": {
        "colab": {
          "base_uri": "https://localhost:8080/"
        },
        "id": "YISNv5s2HwDo",
        "outputId": "fba56012-eadc-4c17-e470-f8228e27945b"
      },
      "execution_count": 35,
      "outputs": [
        {
          "output_type": "stream",
          "name": "stdout",
          "text": [
            "Điểm trung bình theo từng môn:\n",
            "[ 6.99625585  7.10803432 21.63159126]\n"
          ]
        }
      ]
    },
    {
      "cell_type": "code",
      "source": [
        "## 6. Đưa ra điểm thi trung bình cao nhất và thấp nhất cho toàn bộ 3 môn.\n",
        "\n",
        "max_scores = data[:, 7:10].astype(float).max(axis=0)\n",
        "min_scores = data[:, 7:10].astype(float).min(axis=0)\n",
        "print(\"Điểm cao nhất theo cả 3 môn:\", max_scores)\n",
        "print(\"Điểm thấp nhất theo cả 3 môn:\", min_scores)\n"
      ],
      "metadata": {
        "colab": {
          "base_uri": "https://localhost:8080/"
        },
        "id": "AcHHzngPHwGH",
        "outputId": "6cf88b47-ee83-4a02-e841-b45d2733abea"
      },
      "execution_count": 44,
      "outputs": [
        {
          "output_type": "stream",
          "name": "stdout",
          "text": [
            "Điểm cao nhất theo cả 3 môn: [10.    9.75 29.65]\n",
            "Điểm thấp nhất theo cả 3 môn: [ 2.4   1.75 11.65]\n"
          ]
        }
      ]
    },
    {
      "cell_type": "code",
      "source": [
        "## 7. Xếp danh sách dựa vào điểm trung bình của môn Toán + Anh, tìm bạn có vị trí 100\n",
        "\n",
        "# Cộng điểm Toán (cột 9) và Anh (cột 8), sau đó sắp xếp\n",
        "math_english_scores = data[:, [8, 9]].astype(float).sum(axis=1)\n",
        "sorted_indices = np.argsort(-math_english_scores)  # Sử dụng negative để sắp xếp giảm dần\n",
        "position_100_student = data[sorted_indices[99]]  # Lấy vị trí thứ 100 (chỉ số bắt đầu từ 0)\n",
        "print(\"Bạn ở vị trí thứ 100 khi xếp theo Toán + Anh:\")\n",
        "print(position_100_student)"
      ],
      "metadata": {
        "colab": {
          "base_uri": "https://localhost:8080/"
        },
        "id": "qEPSOwLkHwIo",
        "outputId": "47dac5e8-20c8-46f8-a39c-40cdec1b87ff"
      },
      "execution_count": 38,
      "outputs": [
        {
          "output_type": "stream",
          "name": "stdout",
          "text": [
            "Bạn ở vị trí thứ 100 khi xếp theo Toán + Anh:\n",
            "['TRẦN TRUNG KIÊN' 60202 'THCS Trịnh Hoài Đức' 6 8.0 2.0 6.75 8.9 7.5\n",
            " 25.15 75]\n"
          ]
        }
      ]
    },
    {
      "cell_type": "code",
      "source": [
        "## Giả sử 1 trường lấy toàn bộ 300 sinh viên. Sắp xếp theo 3 trường hợp:"
      ],
      "metadata": {
        "id": "ut70v5eLHwKz"
      },
      "execution_count": 39,
      "outputs": []
    },
    {
      "cell_type": "code",
      "source": [
        "## a) Điểm môn Toán từ cao xuống thấp\n",
        "\n",
        "sorted_by_math = data[np.argsort(-data[:, 9].astype(float))]\n",
        "top_students_by_math = sorted_by_math[:300]\n",
        "print(\"Top 300 sinh viên theo điểm Toán:\")\n",
        "print(top_students_by_math)"
      ],
      "metadata": {
        "colab": {
          "base_uri": "https://localhost:8080/"
        },
        "id": "Jki8z-77BvFc",
        "outputId": "01d6e478-b0ba-46bf-de36-17def523129c"
      },
      "execution_count": 40,
      "outputs": [
        {
          "output_type": "stream",
          "name": "stdout",
          "text": [
            "Top 300 sinh viên theo điểm Toán:\n",
            "[['QUÁCH KIM HÀ' 60132 'THCS Phú Cường' ... 8.75 29.65 1]\n",
            " ['PHẠM TRÚC PHƯƠNG' 60421 'THCS Trần Đại Nghĩa' ... 9.25 29.6 2]\n",
            " ['TRẦN KHẢ DOANH' 60075 'THCS-THPT Nguyễn Khuyến' ... 9.25 29.1 3]\n",
            " ...\n",
            " ['NGUYỄN NGỌC MINH TÚ' 60477 'THCS Nguyễn Trung Trực' ... 7.5 22.05 300]\n",
            " ['LÝ GIA KHANG' 60223 'THCS Trịnh Hoài Đức' ... 6.0 22.05 296]\n",
            " ['NGUYỄN QUỐC AN' 60002 'THCS Trần Đại Nghĩa' ... 8.0 22.05 298]]\n"
          ]
        }
      ]
    },
    {
      "cell_type": "code",
      "source": [
        "## b) Điểm tổng 3 môn và điểm cộng từ cao xuống thấp\n",
        "\n",
        "total_scores_with_bonus = data[:, 7:10].astype(float).sum(axis=1) + data[:, 6].astype(float)\n",
        "sorted_by_total_scores = data[np.argsort(-total_scores_with_bonus)]\n",
        "top_students_by_total_scores = sorted_by_total_scores[:300]\n",
        "print(\"Top 300 sinh viên theo tổng điểm 3 môn và điểm cộng:\")\n",
        "print(top_students_by_total_scores)"
      ],
      "metadata": {
        "colab": {
          "base_uri": "https://localhost:8080/"
        },
        "id": "zUfQQQzaJQrL",
        "outputId": "88c4f472-160b-4c1f-bd33-c2ee97dd47cc"
      },
      "execution_count": 41,
      "outputs": [
        {
          "output_type": "stream",
          "name": "stdout",
          "text": [
            "Top 300 sinh viên theo tổng điểm 3 môn và điểm cộng:\n",
            "[['PHẠM TRÚC PHƯƠNG' 60421 'THCS Trần Đại Nghĩa' ... 9.25 29.6 2]\n",
            " ['QUÁCH KIM HÀ' 60132 'THCS Phú Cường' ... 8.75 29.65 1]\n",
            " ['TRẦN KHẢ DOANH' 60075 'THCS-THPT Nguyễn Khuyến' ... 9.25 29.1 3]\n",
            " ...\n",
            " ['NGÔ HỒ TƯỜNG VY' 60618 'THCS Phú Long' ... 6.25 22.45 264]\n",
            " ['TRƯƠNG ĐỨC HỒNG PHÚC' 60403 'THCS Bình Chuẩn' ... 8.5 21.9 313]\n",
            " ['HỒ ĐÌNH MẠNH' 60284 'THCS Nguyễn Viết Xuân' ... 7.0 21.9 310]]\n"
          ]
        }
      ]
    },
    {
      "cell_type": "code",
      "source": [
        "## c) Điểm trung bình 3 môn từ cao xuống thấp\n",
        "\n",
        "average_scores_three_subjects = data[:, 7:10].astype(float).mean(axis=1)\n",
        "sorted_by_average_scores = data[np.argsort(-average_scores_three_subjects)]\n",
        "top_students_by_average_scores = sorted_by_average_scores[:300]\n",
        "print(\"Top 300 sinh viên theo điểm trung bình 3 môn:\")\n",
        "print(top_students_by_average_scores)"
      ],
      "metadata": {
        "colab": {
          "base_uri": "https://localhost:8080/"
        },
        "id": "nPzP307_JQtV",
        "outputId": "bbe214e7-85cb-4bf0-c63d-2a753e3ef812"
      },
      "execution_count": 42,
      "outputs": [
        {
          "output_type": "stream",
          "name": "stdout",
          "text": [
            "Top 300 sinh viên theo điểm trung bình 3 môn:\n",
            "[['PHẠM TRÚC PHƯƠNG' 60421 'THCS Trần Đại Nghĩa' ... 9.25 29.6 2]\n",
            " ['TRẦN KHẢ DOANH' 60075 'THCS-THPT Nguyễn Khuyến' ... 9.25 29.1 3]\n",
            " ['QUÁCH KIM HÀ' 60132 'THCS Phú Cường' ... 8.75 29.65 1]\n",
            " ...\n",
            " ['ĐOÀN HẢI LINH' 60253 'THCS Thuận Giao' ... 6.25 22.4 268]\n",
            " ['VŨ ĐỨC ANH KIỆT' 60206 'THCS-THPT Nguyễn Khuyến' ... 9.25 21.4 354]\n",
            " ['NGUYỄN TRẦN PHƯƠNG VY' 60624 'THCS Nguyễn Thị Minh Khai' ... 7.75\n",
            "  22.25 280]]\n"
          ]
        }
      ]
    },
    {
      "cell_type": "code",
      "source": [
        "## So sánh 2 bạn sinh viên mã số: 60575 và 60602 dựa trên tổng điểm 3 môn (không tính điểm cộng)\n",
        "\n",
        "# Tìm thông tin của hai sinh viên\n",
        "student_60575 = data[data[:, 1] == 60575]\n",
        "student_60602 = data[data[:, 1] == 60602]\n",
        "\n",
        "# Tính tổng điểm 3 môn\n",
        "total_score_60575 = student_60575[:, 7:10].astype(float).sum()\n",
        "total_score_60602 = student_60602[:, 7:10].astype(float).sum()\n",
        "\n",
        "print(\"Tổng điểm 3 môn của sinh viên 60575:\", total_score_60575)\n",
        "print(\"Tổng điểm 3 môn của sinh viên 60602:\", total_score_60602)\n",
        "\n",
        "# So sánh\n",
        "if total_score_60575 > total_score_60602:\n",
        "    print(\"Sinh viên 60575 có tổng điểm cao hơn.\")\n",
        "elif total_score_60575 < total_score_60602:\n",
        "    print(\"Sinh viên 60602 có tổng điểm cao hơn.\")\n",
        "else:\n",
        "    print(\"Hai sinh viên có tổng điểm bằng nhau.\")"
      ],
      "metadata": {
        "colab": {
          "base_uri": "https://localhost:8080/"
        },
        "id": "aG19pdGxJS0s",
        "outputId": "7a671f3a-fb1c-426c-db42-f3af4fec9cbc"
      },
      "execution_count": 46,
      "outputs": [
        {
          "output_type": "stream",
          "name": "stdout",
          "text": [
            "Tổng điểm 3 môn của sinh viên 60575: 39.95\n",
            "Tổng điểm 3 môn của sinh viên 60602: 40.35\n",
            "Sinh viên 60602 có tổng điểm cao hơn.\n"
          ]
        }
      ]
    },
    {
      "cell_type": "markdown",
      "source": [
        "Hết 10 bài. Cảm ơn TS. Nguyễn Văn Thiệu\n"
      ],
      "metadata": {
        "id": "1h-u37_mMCXR"
      }
    }
  ]
}