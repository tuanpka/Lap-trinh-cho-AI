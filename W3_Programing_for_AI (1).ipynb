{
  "nbformat": 4,
  "nbformat_minor": 0,
  "metadata": {
    "colab": {
      "provenance": []
    },
    "kernelspec": {
      "name": "python3",
      "display_name": "Python 3"
    },
    "language_info": {
      "name": "python"
    }
  },
  "cells": [
    {
      "cell_type": "markdown",
      "source": [
        "# Tuần 3"
      ],
      "metadata": {
        "id": "B6W_abHVsjOq"
      }
    },
    {
      "cell_type": "code",
      "execution_count": 1,
      "metadata": {
        "colab": {
          "base_uri": "https://localhost:8080/"
        },
        "id": "wxuNKjzPiq_k",
        "outputId": "6b88d150-c003-45ca-8566-7316823fe1b8"
      },
      "outputs": [
        {
          "output_type": "execute_result",
          "data": {
            "text/plain": [
              "['one', 'two', 'three', 'four']"
            ]
          },
          "metadata": {},
          "execution_count": 1
        }
      ],
      "source": [
        "#Bài 1: Sắp xếp value theo keys\n",
        "def print_sorted_values(D):\n",
        "    sorted_values = [value for (key, value) in sorted(D.items())]\n",
        "    return sorted_values\n",
        "\n",
        "#Test case\n",
        "D = {'1': 'one', '3': 'three', '2': 'two', '4': 'four'}\n",
        "print_sorted_values(D)"
      ]
    },
    {
      "cell_type": "code",
      "source": [
        "# Bài 2: In ra các value khác nhau trong từ điển D.\n",
        "\n",
        "def print_unique_values(D):\n",
        "    unique_values = set(D.values())\n",
        "    for value in unique_values:\n",
        "        print(value)\n",
        "\n",
        "#Test case\n",
        "print_unique_values(D)\n"
      ],
      "metadata": {
        "colab": {
          "base_uri": "https://localhost:8080/"
        },
        "id": "qcKPRO5dk4z4",
        "outputId": "2932b951-3acf-4729-afdc-3f50cc638664"
      },
      "execution_count": 4,
      "outputs": [
        {
          "output_type": "stream",
          "name": "stdout",
          "text": [
            "three\n",
            "four\n",
            "two\n",
            "one\n"
          ]
        }
      ]
    },
    {
      "cell_type": "markdown",
      "source": [
        "# Ngoại lệ và xử lý ngoại lệ"
      ],
      "metadata": {
        "id": "vW9plZp-t5hO"
      }
    },
    {
      "cell_type": "code",
      "source": [
        "# Bài 1\n",
        "\n",
        "def fraction():\n",
        "    try:\n",
        "        a = int(input(\"Nhập số nguyên a: \"))\n",
        "        b = int(input(\"Nhập số nguyên b: \"))\n",
        "        fraction = a / b\n",
        "        print(f\"Giá trị của {a}/{b} là {fraction}.\")\n",
        "    except ValueError:\n",
        "        print(\"Lỗi: Vui lòng nhập số nguyên.\")\n",
        "    except ZeroDivisionError:\n",
        "        print(\"Lỗi: Vui lòng nhập số b khác 0.\")\n",
        "\n",
        "fraction()\n"
      ],
      "metadata": {
        "colab": {
          "base_uri": "https://localhost:8080/"
        },
        "id": "Ivkm2QtR6GHy",
        "outputId": "706c9af1-2753-4cc9-e6df-795f093a19e6"
      },
      "execution_count": 15,
      "outputs": [
        {
          "output_type": "stream",
          "name": "stdout",
          "text": [
            "Nhập số nguyên a: 5\n",
            "Nhập số nguyên b: 7\n",
            "Giá trị của 5/7 là 0.7142857142857143.\n"
          ]
        }
      ]
    },
    {
      "cell_type": "code",
      "source": [
        "def is_triangle(a, b, c):\n",
        "    # Check if three sides can form a triangle\n",
        "    return a + b > c and a + c > b and b + c > a\n",
        "\n",
        "def read_triangle_sides():\n",
        "    try:\n",
        "        a = float(input(\"Nhập độ dài cạnh a: \"))\n",
        "        b = float(input(\"Nhập độ dài cạnh b: \"))\n",
        "        c = float(input(\"Nhập độ dài cạnh c: \"))\n",
        "\n",
        "        if a <= 0 or b <= 0 or c <= 0:\n",
        "            raise ValueError(\"Độ dài các cạnh phải là số dương.\")\n",
        "\n",
        "        if not is_triangle(a, b, c):\n",
        "            raise ValueError(\"Ba độ dài nhập vào không thể tạo thành một tam giác.\")\n",
        "\n",
        "        print(f\"Các độ dài {a}, {b}, và {c} có thể tạo thành một tam giác.\")\n",
        "\n",
        "    except ValueError as e:\n",
        "        print(f\"Lỗi nhập liệu hoặc độ dài cạnh không hợp lệ: {e}\")\n",
        "\n",
        "# Gọi hàm để đọc độ dài cạnh của tam giác\n",
        "read_triangle_sides()\n"
      ],
      "metadata": {
        "colab": {
          "base_uri": "https://localhost:8080/"
        },
        "id": "DolAUdcQMOl2",
        "outputId": "8d6a85e9-12b2-4001-e9b3-a4436d299307"
      },
      "execution_count": 21,
      "outputs": [
        {
          "output_type": "stream",
          "name": "stdout",
          "text": [
            "Nhập độ dài cạnh a: 3\n",
            "Nhập độ dài cạnh b: 4\n",
            "Nhập độ dài cạnh c: 5\n",
            "Các độ dài 3.0, 4.0, và 5.0 có thể tạo thành một tam giác.\n"
          ]
        }
      ]
    }
  ]
}