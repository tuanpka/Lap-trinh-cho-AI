{
 "cells": [
  {
   "cell_type": "markdown",
   "metadata": {},
   "source": [
    "# MPG Cars\n"
   ]
  },
  {
   "cell_type": "markdown",
   "metadata": {},
   "source": [
    "### Introduction:\n",
    "\n",
    "The following exercise utilizes data from [UC Irvine Machine Learning Repository](https://archive.ics.uci.edu/ml/datasets/Auto+MPG)\n",
    "\n",
    "\n",
    "\n",
    "### Step 1. Import the necessary libraries"
   ]
  },
  {
   "cell_type": "code",
   "execution_count": 8,
   "metadata": {},
   "outputs": [],
   "source": [
    "import pandas as pd\n",
    "import numpy as np"
   ]
  },
  {
   "cell_type": "markdown",
   "metadata": {},
   "source": [
    "### Step 2. Import the first dataset [cars1](https://raw.githubusercontent.com/guipsamora/pandas_exercises/master/05_Merge/Auto_MPG/cars1.csv) and [cars2](https://raw.githubusercontent.com/guipsamora/pandas_exercises/master/05_Merge/Auto_MPG/cars2.csv)."
   ]
  },
  {
   "cell_type": "markdown",
   "metadata": {},
   "source": [
    "### Step 3. Assign each to a to a variable called cars1 and cars2"
   ]
  },
  {
   "cell_type": "code",
   "execution_count": 9,
   "metadata": {},
   "outputs": [
    {
     "name": "stdout",
     "output_type": "stream",
     "text": [
      "    mpg  cylinders  displacement horsepower  weight  acceleration  model  \\\n",
      "0  18.0          8           307        130    3504          12.0     70   \n",
      "1  15.0          8           350        165    3693          11.5     70   \n",
      "2  18.0          8           318        150    3436          11.0     70   \n",
      "3  16.0          8           304        150    3433          12.0     70   \n",
      "4  17.0          8           302        140    3449          10.5     70   \n",
      "\n",
      "   origin                        car  Unnamed: 9  Unnamed: 10  Unnamed: 11  \\\n",
      "0       1  chevrolet chevelle malibu         NaN          NaN          NaN   \n",
      "1       1          buick skylark 320         NaN          NaN          NaN   \n",
      "2       1         plymouth satellite         NaN          NaN          NaN   \n",
      "3       1              amc rebel sst         NaN          NaN          NaN   \n",
      "4       1                ford torino         NaN          NaN          NaN   \n",
      "\n",
      "   Unnamed: 12  Unnamed: 13  \n",
      "0          NaN          NaN  \n",
      "1          NaN          NaN  \n",
      "2          NaN          NaN  \n",
      "3          NaN          NaN  \n",
      "4          NaN          NaN  \n",
      "    mpg  cylinders  displacement horsepower  weight  acceleration  model  \\\n",
      "0  33.0          4            91         53    1795          17.4     76   \n",
      "1  20.0          6           225        100    3651          17.7     76   \n",
      "2  18.0          6           250         78    3574          21.0     76   \n",
      "3  18.5          6           250        110    3645          16.2     76   \n",
      "4  17.5          6           258         95    3193          17.8     76   \n",
      "\n",
      "   origin                 car  \n",
      "0       3         honda civic  \n",
      "1       1      dodge aspen se  \n",
      "2       1   ford granada ghia  \n",
      "3       1  pontiac ventura sj  \n",
      "4       1       amc pacer d/l  \n"
     ]
    }
   ],
   "source": [
    "cars1 = pd.read_csv(\"https://raw.githubusercontent.com/thieu1995/csv-files/main/data/pandas/cars1.csv\")\n",
    "cars2 = pd.read_csv(\"https://raw.githubusercontent.com/thieu1995/csv-files/main/data/pandas/cars2.csv\")\n",
    "\n",
    "print(cars1.head())\n",
    "print(cars2.head())"
   ]
  },
  {
   "cell_type": "markdown",
   "metadata": {},
   "source": [
    "### Step 4. Oops, it seems our first dataset has some unnamed blank columns, fix cars1"
   ]
  },
  {
   "cell_type": "code",
   "execution_count": 10,
   "metadata": {},
   "outputs": [
    {
     "data": {
      "text/plain": "    mpg  cylinders  displacement horsepower  weight  acceleration  model  \\\n0  18.0          8           307        130    3504          12.0     70   \n1  15.0          8           350        165    3693          11.5     70   \n2  18.0          8           318        150    3436          11.0     70   \n3  16.0          8           304        150    3433          12.0     70   \n4  17.0          8           302        140    3449          10.5     70   \n\n   origin                        car  \n0       1  chevrolet chevelle malibu  \n1       1          buick skylark 320  \n2       1         plymouth satellite  \n3       1              amc rebel sst  \n4       1                ford torino  ",
      "text/html": "<div>\n<style scoped>\n    .dataframe tbody tr th:only-of-type {\n        vertical-align: middle;\n    }\n\n    .dataframe tbody tr th {\n        vertical-align: top;\n    }\n\n    .dataframe thead th {\n        text-align: right;\n    }\n</style>\n<table border=\"1\" class=\"dataframe\">\n  <thead>\n    <tr style=\"text-align: right;\">\n      <th></th>\n      <th>mpg</th>\n      <th>cylinders</th>\n      <th>displacement</th>\n      <th>horsepower</th>\n      <th>weight</th>\n      <th>acceleration</th>\n      <th>model</th>\n      <th>origin</th>\n      <th>car</th>\n    </tr>\n  </thead>\n  <tbody>\n    <tr>\n      <th>0</th>\n      <td>18.0</td>\n      <td>8</td>\n      <td>307</td>\n      <td>130</td>\n      <td>3504</td>\n      <td>12.0</td>\n      <td>70</td>\n      <td>1</td>\n      <td>chevrolet chevelle malibu</td>\n    </tr>\n    <tr>\n      <th>1</th>\n      <td>15.0</td>\n      <td>8</td>\n      <td>350</td>\n      <td>165</td>\n      <td>3693</td>\n      <td>11.5</td>\n      <td>70</td>\n      <td>1</td>\n      <td>buick skylark 320</td>\n    </tr>\n    <tr>\n      <th>2</th>\n      <td>18.0</td>\n      <td>8</td>\n      <td>318</td>\n      <td>150</td>\n      <td>3436</td>\n      <td>11.0</td>\n      <td>70</td>\n      <td>1</td>\n      <td>plymouth satellite</td>\n    </tr>\n    <tr>\n      <th>3</th>\n      <td>16.0</td>\n      <td>8</td>\n      <td>304</td>\n      <td>150</td>\n      <td>3433</td>\n      <td>12.0</td>\n      <td>70</td>\n      <td>1</td>\n      <td>amc rebel sst</td>\n    </tr>\n    <tr>\n      <th>4</th>\n      <td>17.0</td>\n      <td>8</td>\n      <td>302</td>\n      <td>140</td>\n      <td>3449</td>\n      <td>10.5</td>\n      <td>70</td>\n      <td>1</td>\n      <td>ford torino</td>\n    </tr>\n  </tbody>\n</table>\n</div>"
     },
     "execution_count": 10,
     "metadata": {},
     "output_type": "execute_result"
    }
   ],
   "source": [
    "cars1 = cars1.loc[:, \"mpg\":\"car\"]\n",
    "cars1.head()"
   ]
  },
  {
   "cell_type": "markdown",
   "metadata": {},
   "source": [
    "### Step 5. What is the number of observations in each dataset?"
   ]
  },
  {
   "cell_type": "code",
   "execution_count": 11,
   "metadata": {},
   "outputs": [
    {
     "name": "stdout",
     "output_type": "stream",
     "text": [
      "(198, 9)\n",
      "(200, 9)\n"
     ]
    }
   ],
   "source": [
    "print(cars1.shape)\n",
    "print(cars2.shape)"
   ]
  },
  {
   "cell_type": "markdown",
   "metadata": {},
   "source": [
    "### Step 6. Join cars1 and cars2 into a single DataFrame called cars\n"
   ]
  },
  {
   "cell_type": "code",
   "execution_count": 12,
   "metadata": {},
   "outputs": [
    {
     "name": "stderr",
     "output_type": "stream",
     "text": [
      "C:\\Users\\Yoga\\AppData\\Local\\Temp\\ipykernel_25376\\421006426.py:1: FutureWarning: The frame.append method is deprecated and will be removed from pandas in a future version. Use pandas.concat instead.\n",
      "  cars = cars1.append(cars2)\n"
     ]
    },
    {
     "data": {
      "text/plain": "      mpg  cylinders  displacement horsepower  weight  acceleration  model  \\\n0    18.0          8           307        130    3504          12.0     70   \n1    15.0          8           350        165    3693          11.5     70   \n2    18.0          8           318        150    3436          11.0     70   \n3    16.0          8           304        150    3433          12.0     70   \n4    17.0          8           302        140    3449          10.5     70   \n..    ...        ...           ...        ...     ...           ...    ...   \n195  27.0          4           140         86    2790          15.6     82   \n196  44.0          4            97         52    2130          24.6     82   \n197  32.0          4           135         84    2295          11.6     82   \n198  28.0          4           120         79    2625          18.6     82   \n199  31.0          4           119         82    2720          19.4     82   \n\n     origin                        car  \n0         1  chevrolet chevelle malibu  \n1         1          buick skylark 320  \n2         1         plymouth satellite  \n3         1              amc rebel sst  \n4         1                ford torino  \n..      ...                        ...  \n195       1            ford mustang gl  \n196       2                  vw pickup  \n197       1              dodge rampage  \n198       1                ford ranger  \n199       1                 chevy s-10  \n\n[398 rows x 9 columns]",
      "text/html": "<div>\n<style scoped>\n    .dataframe tbody tr th:only-of-type {\n        vertical-align: middle;\n    }\n\n    .dataframe tbody tr th {\n        vertical-align: top;\n    }\n\n    .dataframe thead th {\n        text-align: right;\n    }\n</style>\n<table border=\"1\" class=\"dataframe\">\n  <thead>\n    <tr style=\"text-align: right;\">\n      <th></th>\n      <th>mpg</th>\n      <th>cylinders</th>\n      <th>displacement</th>\n      <th>horsepower</th>\n      <th>weight</th>\n      <th>acceleration</th>\n      <th>model</th>\n      <th>origin</th>\n      <th>car</th>\n    </tr>\n  </thead>\n  <tbody>\n    <tr>\n      <th>0</th>\n      <td>18.0</td>\n      <td>8</td>\n      <td>307</td>\n      <td>130</td>\n      <td>3504</td>\n      <td>12.0</td>\n      <td>70</td>\n      <td>1</td>\n      <td>chevrolet chevelle malibu</td>\n    </tr>\n    <tr>\n      <th>1</th>\n      <td>15.0</td>\n      <td>8</td>\n      <td>350</td>\n      <td>165</td>\n      <td>3693</td>\n      <td>11.5</td>\n      <td>70</td>\n      <td>1</td>\n      <td>buick skylark 320</td>\n    </tr>\n    <tr>\n      <th>2</th>\n      <td>18.0</td>\n      <td>8</td>\n      <td>318</td>\n      <td>150</td>\n      <td>3436</td>\n      <td>11.0</td>\n      <td>70</td>\n      <td>1</td>\n      <td>plymouth satellite</td>\n    </tr>\n    <tr>\n      <th>3</th>\n      <td>16.0</td>\n      <td>8</td>\n      <td>304</td>\n      <td>150</td>\n      <td>3433</td>\n      <td>12.0</td>\n      <td>70</td>\n      <td>1</td>\n      <td>amc rebel sst</td>\n    </tr>\n    <tr>\n      <th>4</th>\n      <td>17.0</td>\n      <td>8</td>\n      <td>302</td>\n      <td>140</td>\n      <td>3449</td>\n      <td>10.5</td>\n      <td>70</td>\n      <td>1</td>\n      <td>ford torino</td>\n    </tr>\n    <tr>\n      <th>...</th>\n      <td>...</td>\n      <td>...</td>\n      <td>...</td>\n      <td>...</td>\n      <td>...</td>\n      <td>...</td>\n      <td>...</td>\n      <td>...</td>\n      <td>...</td>\n    </tr>\n    <tr>\n      <th>195</th>\n      <td>27.0</td>\n      <td>4</td>\n      <td>140</td>\n      <td>86</td>\n      <td>2790</td>\n      <td>15.6</td>\n      <td>82</td>\n      <td>1</td>\n      <td>ford mustang gl</td>\n    </tr>\n    <tr>\n      <th>196</th>\n      <td>44.0</td>\n      <td>4</td>\n      <td>97</td>\n      <td>52</td>\n      <td>2130</td>\n      <td>24.6</td>\n      <td>82</td>\n      <td>2</td>\n      <td>vw pickup</td>\n    </tr>\n    <tr>\n      <th>197</th>\n      <td>32.0</td>\n      <td>4</td>\n      <td>135</td>\n      <td>84</td>\n      <td>2295</td>\n      <td>11.6</td>\n      <td>82</td>\n      <td>1</td>\n      <td>dodge rampage</td>\n    </tr>\n    <tr>\n      <th>198</th>\n      <td>28.0</td>\n      <td>4</td>\n      <td>120</td>\n      <td>79</td>\n      <td>2625</td>\n      <td>18.6</td>\n      <td>82</td>\n      <td>1</td>\n      <td>ford ranger</td>\n    </tr>\n    <tr>\n      <th>199</th>\n      <td>31.0</td>\n      <td>4</td>\n      <td>119</td>\n      <td>82</td>\n      <td>2720</td>\n      <td>19.4</td>\n      <td>82</td>\n      <td>1</td>\n      <td>chevy s-10</td>\n    </tr>\n  </tbody>\n</table>\n<p>398 rows × 9 columns</p>\n</div>"
     },
     "execution_count": 12,
     "metadata": {},
     "output_type": "execute_result"
    }
   ],
   "source": [
    "cars = cars1.append(cars2)\n",
    "cars"
   ]
  },
  {
   "cell_type": "markdown",
   "metadata": {},
   "source": [
    "### Step 7. Oops, there is a column missing, called owners. Create a random number Series from 15,000 to 73,000."
   ]
  },
  {
   "cell_type": "code",
   "execution_count": 13,
   "metadata": {},
   "outputs": [
    {
     "data": {
      "text/plain": "array([53073, 17089, 57368, 30419, 58513, 49907, 22163, 30826, 40176,\n       62451, 27683, 48784, 16991, 59954, 36829, 20740, 33877, 72560,\n       55202, 65781, 46971, 46915, 51707, 71679, 54712, 36633, 27879,\n       38907, 63031, 56259, 72971, 62961, 47062, 58239, 36328, 29229,\n       40055, 37807, 50881, 72310, 32637, 38429, 43829, 70921, 70172,\n       60187, 61457, 66836, 39139, 34980, 25564, 72365, 40578, 20468,\n       30963, 27833, 54914, 30065, 55169, 27543, 19010, 47679, 61495,\n       58731, 65530, 64178, 50841, 70052, 64999, 68856, 64182, 43747,\n       62070, 22130, 24194, 30047, 37846, 18063, 16540, 38036, 64765,\n       29332, 69273, 37893, 42577, 62657, 69487, 19742, 32246, 49841,\n       63098, 38990, 48684, 52610, 42262, 50531, 31351, 64532, 69673,\n       71581, 64527, 71998, 40856, 45495, 23692, 25342, 20097, 27495,\n       27838, 22433, 41531, 64251, 47216, 67129, 33737, 42320, 54888,\n       70758, 21401, 60501, 34862, 29767, 63988, 30126, 44901, 38129,\n       17047, 24305, 24117, 55836, 55990, 63213, 53757, 41554, 39059,\n       22193, 33799, 37218, 35291, 57963, 26395, 28671, 66942, 49843,\n       22075, 38124, 67009, 68097, 18506, 46803, 60338, 19576, 66932,\n       55583, 49484, 59970, 31206, 60698, 38655, 51762, 62683, 39708,\n       28096, 56312, 57122, 40070, 26330, 43102, 37539, 42123, 40580,\n       56892, 63312, 33299, 50356, 69315, 45495, 47899, 39319, 37635,\n       68159, 45428, 60918, 54093, 26294, 46921, 44339, 38535, 30328,\n       59082, 40774, 30311, 33481, 20656, 63059, 51823, 48925, 43266,\n       57997, 30624, 50674, 61293, 61121, 49273, 71244, 54246, 15050,\n       33065, 64183, 72185, 30011, 58244, 22748, 60808, 46552, 64129,\n       72741, 19983, 34443, 25003, 35247, 26827, 25711, 66667, 63590,\n       56168, 40025, 24082, 26895, 62722, 33265, 62594, 25846, 35745,\n       57205, 39928, 56164, 54648, 45302, 53845, 18858, 65880, 20799,\n       53175, 28210, 24083, 59925, 41611, 52800, 69927, 41303, 48549,\n       61775, 45686, 70800, 27130, 57561, 56369, 27207, 47263, 31212,\n       56490, 53691, 61187, 43555, 27826, 37830, 52284, 71825, 56572,\n       67620, 29503, 37625, 41356, 25944, 16624, 60758, 26150, 33392,\n       62550, 16762, 42661, 22750, 15908, 68788, 40239, 60298, 22335,\n       29386, 27380, 26083, 42651, 20808, 44903, 51379, 33889, 72619,\n       59507, 43491, 27157, 19447, 43912, 66413, 68744, 46206, 35145,\n       43858, 65959, 29773, 64758, 65770, 24744, 72228, 24515, 18199,\n       51216, 51248, 28290, 62392, 43140, 43989, 27882, 61700, 44658,\n       69493, 25490, 45343, 66197, 56189, 19160, 46065, 22238, 53100,\n       35581, 31827, 44050, 52508, 68552, 48861, 46180, 15721, 16121,\n       52088, 49994, 40615, 35758, 65626, 43316, 22721, 23270, 31949,\n       30458, 17419, 23583, 53446, 31035, 64511, 38082, 25644, 66535,\n       34514, 57717, 35227, 68781, 17698, 68491, 63213, 36031, 54255,\n       15543, 21516, 57460, 34519, 59964, 35067, 43664, 22504, 65241,\n       36710, 15850, 51494, 48063, 55473, 66352, 52506, 33115, 67140,\n       33157, 63567, 22047, 53534, 41140, 56796, 17705, 27295, 60823,\n       49499, 55428])"
     },
     "execution_count": 13,
     "metadata": {},
     "output_type": "execute_result"
    }
   ],
   "source": [
    "nr_owners = np.random.randint(15000, high=73001, size=398, dtype='l')\n",
    "nr_owners"
   ]
  },
  {
   "cell_type": "markdown",
   "metadata": {},
   "source": [
    "### Step 8. Add the column owners to cars"
   ]
  },
  {
   "cell_type": "code",
   "execution_count": 14,
   "metadata": {
    "scrolled": true
   },
   "outputs": [
    {
     "data": {
      "text/plain": "      mpg  cylinders  displacement horsepower  weight  acceleration  model  \\\n195  27.0          4           140         86    2790          15.6     82   \n196  44.0          4            97         52    2130          24.6     82   \n197  32.0          4           135         84    2295          11.6     82   \n198  28.0          4           120         79    2625          18.6     82   \n199  31.0          4           119         82    2720          19.4     82   \n\n     origin              car  owners  \n195       1  ford mustang gl   17705  \n196       2        vw pickup   27295  \n197       1    dodge rampage   60823  \n198       1      ford ranger   49499  \n199       1       chevy s-10   55428  ",
      "text/html": "<div>\n<style scoped>\n    .dataframe tbody tr th:only-of-type {\n        vertical-align: middle;\n    }\n\n    .dataframe tbody tr th {\n        vertical-align: top;\n    }\n\n    .dataframe thead th {\n        text-align: right;\n    }\n</style>\n<table border=\"1\" class=\"dataframe\">\n  <thead>\n    <tr style=\"text-align: right;\">\n      <th></th>\n      <th>mpg</th>\n      <th>cylinders</th>\n      <th>displacement</th>\n      <th>horsepower</th>\n      <th>weight</th>\n      <th>acceleration</th>\n      <th>model</th>\n      <th>origin</th>\n      <th>car</th>\n      <th>owners</th>\n    </tr>\n  </thead>\n  <tbody>\n    <tr>\n      <th>195</th>\n      <td>27.0</td>\n      <td>4</td>\n      <td>140</td>\n      <td>86</td>\n      <td>2790</td>\n      <td>15.6</td>\n      <td>82</td>\n      <td>1</td>\n      <td>ford mustang gl</td>\n      <td>17705</td>\n    </tr>\n    <tr>\n      <th>196</th>\n      <td>44.0</td>\n      <td>4</td>\n      <td>97</td>\n      <td>52</td>\n      <td>2130</td>\n      <td>24.6</td>\n      <td>82</td>\n      <td>2</td>\n      <td>vw pickup</td>\n      <td>27295</td>\n    </tr>\n    <tr>\n      <th>197</th>\n      <td>32.0</td>\n      <td>4</td>\n      <td>135</td>\n      <td>84</td>\n      <td>2295</td>\n      <td>11.6</td>\n      <td>82</td>\n      <td>1</td>\n      <td>dodge rampage</td>\n      <td>60823</td>\n    </tr>\n    <tr>\n      <th>198</th>\n      <td>28.0</td>\n      <td>4</td>\n      <td>120</td>\n      <td>79</td>\n      <td>2625</td>\n      <td>18.6</td>\n      <td>82</td>\n      <td>1</td>\n      <td>ford ranger</td>\n      <td>49499</td>\n    </tr>\n    <tr>\n      <th>199</th>\n      <td>31.0</td>\n      <td>4</td>\n      <td>119</td>\n      <td>82</td>\n      <td>2720</td>\n      <td>19.4</td>\n      <td>82</td>\n      <td>1</td>\n      <td>chevy s-10</td>\n      <td>55428</td>\n    </tr>\n  </tbody>\n</table>\n</div>"
     },
     "execution_count": 14,
     "metadata": {},
     "output_type": "execute_result"
    }
   ],
   "source": [
    "cars['owners'] = nr_owners\n",
    "cars.tail()"
   ]
  }
 ],
 "metadata": {
  "anaconda-cloud": {},
  "kernelspec": {
   "display_name": "Python 3",
   "language": "python",
   "name": "python3"
  },
  "language_info": {
   "codemirror_mode": {
    "name": "ipython",
    "version": 3
   },
   "file_extension": ".py",
   "mimetype": "text/x-python",
   "name": "python",
   "nbconvert_exporter": "python",
   "pygments_lexer": "ipython3",
   "version": "3.7.3"
  },
  "toc": {
   "base_numbering": 1,
   "nav_menu": {},
   "number_sections": true,
   "sideBar": true,
   "skip_h1_title": false,
   "title_cell": "Table of Contents",
   "title_sidebar": "Contents",
   "toc_cell": false,
   "toc_position": {},
   "toc_section_display": true,
   "toc_window_display": false
  }
 },
 "nbformat": 4,
 "nbformat_minor": 1
}
